{
 "cells": [
  {
   "cell_type": "markdown",
   "id": "1a92b5e9-bb68-473f-9ab4-57921c59c536",
   "metadata": {},
   "source": [
    "# 第16章　CNNを使った時系列のフィルタリング\n",
    "\n",
    "前章では、長短期記憶(LSTM)を調べた。本章では、畳み込みニューラルネットワーク(CNN)を調べる。"
   ]
  },
  {
   "cell_type": "markdown",
   "id": "fc460b92-0089-4cc8-bc05-ed8c496b8538",
   "metadata": {},
   "source": [
    "## 16.1 　畳み込みニューラルネットワーク(CNN)を調べる\n",
    "畳み込みニューラルネットワーク(CNN)は、畳み込み演算を利用するディープラーニングアーキテクチャである。\n",
    "\n",
    "畳み込み演算とは？\n",
    "２つの関数を用いた演算で、１つ目の関数の形状が２つ目の関数によってどのように変更されるのかを表す、３つ目の関数を生成する。CNNではこの演算が入力関数とカーネルの間で実行される。\n",
    "\n",
    "入力関数：元のデータ(画像や信号など)を表す関数。\n",
    "\n",
    "カーネル：元のデータに作用して、特徴を抽出するための小さな行列。特徴量行列の上に配置される行列であり、フィルタとも呼ぶ。\n",
    "\n",
    "つまり、生成された新しい関数は元のデータの特定の特徴が強調されたもの。\n",
    "\n",
    "下の図では、時間軸に沿ってカーネルが動き、カーネルと特徴量のドット積が計算され、特徴量が減り、正則化と異常値のフィルタリングが実現される。"
   ]
  },
  {
   "cell_type": "markdown",
   "id": "1da733b8-7ffe-4211-b4be-3466cb17f00e",
   "metadata": {},
   "source": [
    "<img src=\"スクリーンショット 2025-06-24 110716.png\">"
   ]
  },
  {
   "cell_type": "markdown",
   "id": "b0df355c-5a89-4631-8916-b9e64011270f",
   "metadata": {},
   "source": [
    "実際に理解するために、特徴量とカーネルが１つずつの単純な例を考える。"
   ]
  },
  {
   "cell_type": "markdown",
   "id": "38824a75-1765-4e67-9304-b2efd75c0119",
   "metadata": {},
   "source": [
    "<img src=\"スクリーンショット 2025-06-24 111451.png\">"
   ]
  },
  {
   "cell_type": "markdown",
   "id": "127d44e9-f2d1-4135-a97e-f5d724436e75",
   "metadata": {},
   "source": [
    "カーネルは最初に特徴量ベクトルの先頭に揃え、カーネルとそれに揃っている特徴量ベクトルの値との間でドット積が計算され、それが完了するとカーネルが時間ステップ１つ分右にシフトし、この流れをカーネルが特徴量ベクトルの終わりまで繰り返す。\n",
    "\n",
    "この例では、長さ６の特徴量ベクトルと長さ３のカーネルから、長さ４の出力ベクトルが生成された。一般に畳み込み演算における出力ベクトルの長さは次のように求められる。\n",
    "\n",
    "### 出力の長さ＝入力の長さ－カーネルの長さ＋１\n",
    "\n",
    "カーネルは右方向にのみ移動するので、これは１次元の畳み込みであり、カーネルは時間次元でしか移動できないので時系列予測に使われる。"
   ]
  },
  {
   "cell_type": "markdown",
   "id": "608ac74e-29e0-4f99-a6f6-65ecf633cd14",
   "metadata": {},
   "source": [
    "畳み込み層では、特徴量セットの長さが短くなる(入力の長さ ≥ 出力の長さ)。 また、畳み込みを何回も実行すると、特徴量空間が次第に小さくなる。\n",
    "\n",
    "ex.入力の長さを９、カーネルの長さを２として、出力の長さを計算\n",
    "\n",
    "１回目：9-2+1=8 ２回目：8-2+1=7 ３回目：7-2+1=6\n",
    "\n",
    "これでは、ネットワーク内の層の数が制限され、その過程で情報が余分に失われる可能性があり、必ずしも望ましいことではない。\n",
    "\n",
    "これを防ぐために、パディングを行う。\n",
    "\n",
    "パディングは、特徴量ベクトルの前後に値を追加し、出力を入力と同じ長さに保つもの。使われる値は０。\n",
    "\n",
    "下の図はパディングの例である。"
   ]
  },
  {
   "cell_type": "markdown",
   "id": "3283ed40-66fa-4089-a38f-575dcee1a91e",
   "metadata": {},
   "source": [
    "<img src=\"スクリーンショット 2025-06-24 120313.png\">"
   ]
  },
  {
   "cell_type": "markdown",
   "id": "dcc187d0-a8cd-43b9-9f59-0fcbd21e24c1",
   "metadata": {},
   "source": [
    "<img src=\"スクリーンショット 2025-06-24 120325.png\">"
   ]
  },
  {
   "cell_type": "markdown",
   "id": "1306d3d9-515b-46bb-bbe3-fdf6511f2090",
   "metadata": {},
   "source": [
    "## 16.2　CNNモデルの実装"
   ]
  },
  {
   "cell_type": "code",
   "execution_count": 13,
   "id": "dabdae18-a49c-40d6-8ae5-3da9dc60724f",
   "metadata": {},
   "outputs": [
    {
     "name": "stdout",
     "output_type": "stream",
     "text": [
      "2.17.0\n",
      "GPU Available: []\n",
      "(12285, 5) (3510, 5) (1756, 5)\n",
      "{'temp': 0, 'clouds_all': 1, 'traffic_volume': 2, 'day_sin': 3, 'day_cos': 4}\n"
     ]
    }
   ],
   "source": [
    "import datetime\n",
    "import statsmodels.api as sm\n",
    "import numpy as np\n",
    "import pandas as pd\n",
    "from sklearn.preprocessing import MinMaxScaler\n",
    "\n",
    "from sklearn.metrics import mean_squared_error, mean_absolute_error\n",
    "from statsmodels.graphics.tsaplots import plot_acf, plot_pacf\n",
    "from statsmodels.stats.diagnostic import acorr_ljungbox\n",
    "from statsmodels.tsa.statespace.sarimax import SARIMAX\n",
    "from statsmodels.tsa.seasonal import seasonal_decompose\n",
    "from statsmodels.tsa.seasonal import STL\n",
    "from statsmodels.tsa.arima_process import ArmaProcess\n",
    "from statsmodels.graphics.gofplots import qqplot\n",
    "from statsmodels.tsa.stattools import adfuller\n",
    "\n",
    "import tensorflow as tf\n",
    "from tensorflow.keras import layers,Model, Sequential\n",
    "from tensorflow.keras.optimizers import Adam\n",
    "from tensorflow.keras.callbacks import EarlyStopping\n",
    "from tensorflow.keras.losses import MeanSquaredError\n",
    "from tensorflow.keras.metrics import MeanAbsoluteError\n",
    "from tensorflow.keras.layers import Dense, Flatten, Reshape,Dropout, BatchNormalization, Conv1D, LSTM, Lambda, Reshape, RNN, LSTMCell\n",
    "from tensorflow.keras.layers import SimpleRNN\n",
    "tf.random.set_seed(42)\n",
    "np.random.seed(42)\n",
    "print(tf.__version__)\n",
    "print(\"GPU Available:\", tf.config.list_physical_devices('GPU'))\n",
    "\n",
    "from tqdm import tqdm_notebook\n",
    "from itertools import product\n",
    "from typing import Union\n",
    "import importlib.util\n",
    "import sys\n",
    "# japanize-matplotlib が未インストールなら pip install\n",
    "if importlib.util.find_spec(\"japanize_matplotlib\") is None:\n",
    "  !pip install japanize-matplotlib\n",
    "# 必要なライブラリのインポート\n",
    "import matplotlib.pyplot as plt\n",
    "import japanize_matplotlib\n",
    "import seaborn as sns\n",
    "\n",
    "from CH13_14 import DataWindow,BaselineModel,model_predict,plot_model_prediction,compile_and_fit\n",
    "\n",
    "# CH12のデータのロード from GitHubのrawデータURL\n",
    "u1 = \"https://raw.githubusercontent.com/CS-Advanced/DATA/main/CH1213_train.csv\"\n",
    "u2 = \"https://raw.githubusercontent.com/CS-Advanced/DATA/main/CH1213_val.csv\"\n",
    "u3 = \"https://raw.githubusercontent.com/CS-Advanced/DATA/main/CH1213_test.csv\"\n",
    "# データの読み込み\n",
    "train_df = pd.read_csv(u1)\n",
    "val_df = pd.read_csv(u2)\n",
    "test_df = pd.read_csv(u3)\n",
    "train_df.head()\n",
    "\n",
    "print(train_df.shape, val_df.shape, test_df.shape)\n",
    "column_indices = {name: i for i, name in enumerate(train_df.columns)}\n",
    "print(column_indices)\n",
    "\n",
    "import warnings\n",
    "warnings.filterwarnings('ignore')\n",
    "%matplotlib inline"
   ]
  },
  {
   "cell_type": "code",
   "execution_count": 2,
   "id": "fe7f2c14",
   "metadata": {},
   "outputs": [],
   "source": [
    "val_performance= {'Full-DNN': (0.0019, 0.031),\n",
    "  'RNN': (0.0016, 0.0283),\n",
    "  'LSTM': (0.0014, 0.0265),\n",
    "  'Simple Transformer': (0.0018, 0.0305)\n",
    "  }\n",
    "test_performance={'Full-DNN': (0.0015, 0.0281),\n",
    "  'RNN': (0.0014, 0.0272),\n",
    "  'LSTM': (0.0011, 0.0246),\n",
    "  'Simple Transformer': (0.0015, 0.028)\n",
    "  }\n",
    "\n",
    "w = DataWindow(input_width=24,label_width=1,shift=1,stride=1,\n",
    "    train_df=train_df,val_df=val_df,test_df=test_df,\n",
    "    label_columns=['traffic_volume'])"
   ]
  },
  {
   "cell_type": "markdown",
   "id": "df308e0a",
   "metadata": {
    "id": "df308e0a"
   },
   "source": [
    "# CH.16 CNN\n",
    "\n"
   ]
  },
  {
   "cell_type": "markdown",
   "id": "jDP58ur7yFf5",
   "metadata": {
    "id": "jDP58ur7yFf5"
   },
   "source": [
    "## 16.2 CNNの実装"
   ]
  },
  {
   "cell_type": "markdown",
   "id": "fb40cf0e",
   "metadata": {
    "id": "fb40cf0e"
   },
   "source": [
    "### Single-step model"
   ]
  },
  {
   "cell_type": "code",
   "execution_count": 3,
   "id": "35ce7c6f",
   "metadata": {
    "colab": {
     "base_uri": "https://localhost:8080/"
    },
    "executionInfo": {
     "elapsed": 63358,
     "status": "ok",
     "timestamp": 1748759506629,
     "user": {
      "displayName": "S. MORI",
      "userId": "12979354905875170493"
     },
     "user_tz": -540
    },
    "id": "35ce7c6f",
    "outputId": "527c9f62-32cd-4b97-caca-a88936f7db01"
   },
   "outputs": [
    {
     "name": "stdout",
     "output_type": "stream",
     "text": [
      "Epoch 1/100\n",
      "\u001b[1m384/384\u001b[0m \u001b[32m━━━━━━━━━━━━━━━━━━━━\u001b[0m\u001b[37m\u001b[0m \u001b[1m2s\u001b[0m 2ms/step - loss: 0.0204 - mean_absolute_error: 0.0984 - val_loss: 0.0063 - val_mean_absolute_error: 0.0542\n",
      "Epoch 2/100\n",
      "\u001b[1m384/384\u001b[0m \u001b[32m━━━━━━━━━━━━━━━━━━━━\u001b[0m\u001b[37m\u001b[0m \u001b[1m1s\u001b[0m 2ms/step - loss: 0.0047 - mean_absolute_error: 0.0488 - val_loss: 0.0035 - val_mean_absolute_error: 0.0429\n",
      "Epoch 3/100\n",
      "\u001b[1m384/384\u001b[0m \u001b[32m━━━━━━━━━━━━━━━━━━━━\u001b[0m\u001b[37m\u001b[0m \u001b[1m1s\u001b[0m 2ms/step - loss: 0.0032 - mean_absolute_error: 0.0412 - val_loss: 0.0025 - val_mean_absolute_error: 0.0370\n",
      "Epoch 4/100\n",
      "\u001b[1m384/384\u001b[0m \u001b[32m━━━━━━━━━━━━━━━━━━━━\u001b[0m\u001b[37m\u001b[0m \u001b[1m1s\u001b[0m 2ms/step - loss: 0.0027 - mean_absolute_error: 0.0368 - val_loss: 0.0022 - val_mean_absolute_error: 0.0332\n",
      "Epoch 5/100\n",
      "\u001b[1m384/384\u001b[0m \u001b[32m━━━━━━━━━━━━━━━━━━━━\u001b[0m\u001b[37m\u001b[0m \u001b[1m1s\u001b[0m 2ms/step - loss: 0.0025 - mean_absolute_error: 0.0355 - val_loss: 0.0021 - val_mean_absolute_error: 0.0328\n",
      "Epoch 6/100\n",
      "\u001b[1m384/384\u001b[0m \u001b[32m━━━━━━━━━━━━━━━━━━━━\u001b[0m\u001b[37m\u001b[0m \u001b[1m1s\u001b[0m 2ms/step - loss: 0.0023 - mean_absolute_error: 0.0337 - val_loss: 0.0018 - val_mean_absolute_error: 0.0291\n",
      "Epoch 7/100\n",
      "\u001b[1m384/384\u001b[0m \u001b[32m━━━━━━━━━━━━━━━━━━━━\u001b[0m\u001b[37m\u001b[0m \u001b[1m1s\u001b[0m 2ms/step - loss: 0.0022 - mean_absolute_error: 0.0332 - val_loss: 0.0019 - val_mean_absolute_error: 0.0315\n",
      "Epoch 8/100\n",
      "\u001b[1m384/384\u001b[0m \u001b[32m━━━━━━━━━━━━━━━━━━━━\u001b[0m\u001b[37m\u001b[0m \u001b[1m1s\u001b[0m 2ms/step - loss: 0.0021 - mean_absolute_error: 0.0321 - val_loss: 0.0017 - val_mean_absolute_error: 0.0291\n",
      "Epoch 9/100\n",
      "\u001b[1m384/384\u001b[0m \u001b[32m━━━━━━━━━━━━━━━━━━━━\u001b[0m\u001b[37m\u001b[0m \u001b[1m1s\u001b[0m 2ms/step - loss: 0.0021 - mean_absolute_error: 0.0318 - val_loss: 0.0019 - val_mean_absolute_error: 0.0312\n",
      "Epoch 10/100\n",
      "\u001b[1m384/384\u001b[0m \u001b[32m━━━━━━━━━━━━━━━━━━━━\u001b[0m\u001b[37m\u001b[0m \u001b[1m1s\u001b[0m 2ms/step - loss: 0.0021 - mean_absolute_error: 0.0319 - val_loss: 0.0033 - val_mean_absolute_error: 0.0477\n",
      "Epoch 11/100\n",
      "\u001b[1m384/384\u001b[0m \u001b[32m━━━━━━━━━━━━━━━━━━━━\u001b[0m\u001b[37m\u001b[0m \u001b[1m1s\u001b[0m 2ms/step - loss: 0.0022 - mean_absolute_error: 0.0329 - val_loss: 0.0019 - val_mean_absolute_error: 0.0322\n",
      "Epoch 12/100\n",
      "\u001b[1m384/384\u001b[0m \u001b[32m━━━━━━━━━━━━━━━━━━━━\u001b[0m\u001b[37m\u001b[0m \u001b[1m1s\u001b[0m 2ms/step - loss: 0.0021 - mean_absolute_error: 0.0320 - val_loss: 0.0021 - val_mean_absolute_error: 0.0348\n",
      "Epoch 13/100\n",
      "\u001b[1m384/384\u001b[0m \u001b[32m━━━━━━━━━━━━━━━━━━━━\u001b[0m\u001b[37m\u001b[0m \u001b[1m1s\u001b[0m 2ms/step - loss: 0.0021 - mean_absolute_error: 0.0320 - val_loss: 0.0018 - val_mean_absolute_error: 0.0299\n"
     ]
    },
    {
     "data": {
      "text/plain": [
       "({'Full-DNN': (0.0019, 0.031),\n",
       "  'RNN': (0.0016, 0.0283),\n",
       "  'LSTM': (0.0014, 0.0265),\n",
       "  'Simple Transformer': (0.0018, 0.0305),\n",
       "  'CNN': (0.0018, 0.0299)},\n",
       " {'Full-DNN': (0.0015, 0.0281),\n",
       "  'RNN': (0.0014, 0.0272),\n",
       "  'LSTM': (0.0011, 0.0246),\n",
       "  'Simple Transformer': (0.0015, 0.028),\n",
       "  'CNN': (0.0015, 0.0281)})"
      ]
     },
     "execution_count": 3,
     "metadata": {},
     "output_type": "execute_result"
    }
   ],
   "source": [
    "# input_shapeは DataWindow から取得した形 (例: (24, 5))\n",
    "input_shape = w.train.element_spec[0].shape[1:]\n",
    "label_width = w.label_width  # label_width は1など任意の予測ステップ数\n",
    "\n",
    "KERNEL_WIDTH=3\n",
    "\n",
    "cnn = Sequential([\n",
    "    Conv1D(filters=32,\n",
    "           kernel_size=KERNEL_WIDTH,\n",
    "           activation='relu'),        # 非線形特徴抽出\n",
    "    Flatten(),                        # 畳み込み出力を1次元に変換\n",
    "    Dense(32, activation='relu'),     # 非線形層\n",
    "    Dense(label_width),               # 線形出力層（活性化なし）\n",
    "    Reshape((label_width, 1))\n",
    "])\n",
    "\n",
    "#　モデルの訓練\n",
    "history = compile_and_fit(cnn,w)\n",
    "\n",
    "# 評価スコアを辞書に保存\n",
    "val_loss, val_mae = cnn.evaluate(w.val, verbose=0)\n",
    "test_loss, test_mae = cnn.evaluate(w.test, verbose=0)\n",
    "val_performance[\"CNN\"] = (round(val_loss,4), round(val_mae,4))\n",
    "test_performance[\"CNN\"] = (round(test_loss,4),round(test_mae,4))\n",
    "val_performance,test_performance"
   ]
  },
  {
   "cell_type": "markdown",
   "id": "66aab06e",
   "metadata": {
    "id": "66aab06e"
   },
   "source": [
    "#### CNN + LSTM"
   ]
  },
  {
   "cell_type": "code",
   "execution_count": 4,
   "id": "d2348208",
   "metadata": {
    "colab": {
     "base_uri": "https://localhost:8080/"
    },
    "executionInfo": {
     "elapsed": 190671,
     "status": "ok",
     "timestamp": 1748759755762,
     "user": {
      "displayName": "S. MORI",
      "userId": "12979354905875170493"
     },
     "user_tz": -540
    },
    "id": "d2348208",
    "outputId": "61f7580e-a6d5-4239-a174-4f1c7ea59b98"
   },
   "outputs": [
    {
     "name": "stdout",
     "output_type": "stream",
     "text": [
      "Epoch 1/100\n",
      "\u001b[1m384/384\u001b[0m \u001b[32m━━━━━━━━━━━━━━━━━━━━\u001b[0m\u001b[37m\u001b[0m \u001b[1m5s\u001b[0m 8ms/step - loss: 0.0354 - mean_absolute_error: 0.1364 - val_loss: 0.0086 - val_mean_absolute_error: 0.0665\n",
      "Epoch 2/100\n",
      "\u001b[1m384/384\u001b[0m \u001b[32m━━━━━━━━━━━━━━━━━━━━\u001b[0m\u001b[37m\u001b[0m \u001b[1m3s\u001b[0m 7ms/step - loss: 0.0077 - mean_absolute_error: 0.0643 - val_loss: 0.0052 - val_mean_absolute_error: 0.0542\n",
      "Epoch 3/100\n",
      "\u001b[1m384/384\u001b[0m \u001b[32m━━━━━━━━━━━━━━━━━━━━\u001b[0m\u001b[37m\u001b[0m \u001b[1m3s\u001b[0m 7ms/step - loss: 0.0048 - mean_absolute_error: 0.0518 - val_loss: 0.0030 - val_mean_absolute_error: 0.0408\n",
      "Epoch 4/100\n",
      "\u001b[1m384/384\u001b[0m \u001b[32m━━━━━━━━━━━━━━━━━━━━\u001b[0m\u001b[37m\u001b[0m \u001b[1m3s\u001b[0m 7ms/step - loss: 0.0038 - mean_absolute_error: 0.0459 - val_loss: 0.0033 - val_mean_absolute_error: 0.0443\n",
      "Epoch 5/100\n",
      "\u001b[1m384/384\u001b[0m \u001b[32m━━━━━━━━━━━━━━━━━━━━\u001b[0m\u001b[37m\u001b[0m \u001b[1m3s\u001b[0m 7ms/step - loss: 0.0034 - mean_absolute_error: 0.0429 - val_loss: 0.0034 - val_mean_absolute_error: 0.0436\n",
      "Epoch 6/100\n",
      "\u001b[1m384/384\u001b[0m \u001b[32m━━━━━━━━━━━━━━━━━━━━\u001b[0m\u001b[37m\u001b[0m \u001b[1m3s\u001b[0m 7ms/step - loss: 0.0030 - mean_absolute_error: 0.0400 - val_loss: 0.0023 - val_mean_absolute_error: 0.0364\n",
      "Epoch 7/100\n",
      "\u001b[1m384/384\u001b[0m \u001b[32m━━━━━━━━━━━━━━━━━━━━\u001b[0m\u001b[37m\u001b[0m \u001b[1m3s\u001b[0m 7ms/step - loss: 0.0026 - mean_absolute_error: 0.0367 - val_loss: 0.0020 - val_mean_absolute_error: 0.0326\n",
      "Epoch 8/100\n",
      "\u001b[1m384/384\u001b[0m \u001b[32m━━━━━━━━━━━━━━━━━━━━\u001b[0m\u001b[37m\u001b[0m \u001b[1m5s\u001b[0m 7ms/step - loss: 0.0026 - mean_absolute_error: 0.0364 - val_loss: 0.0026 - val_mean_absolute_error: 0.0396\n",
      "Epoch 9/100\n",
      "\u001b[1m384/384\u001b[0m \u001b[32m━━━━━━━━━━━━━━━━━━━━\u001b[0m\u001b[37m\u001b[0m \u001b[1m3s\u001b[0m 7ms/step - loss: 0.0024 - mean_absolute_error: 0.0348 - val_loss: 0.0018 - val_mean_absolute_error: 0.0312\n",
      "Epoch 10/100\n",
      "\u001b[1m384/384\u001b[0m \u001b[32m━━━━━━━━━━━━━━━━━━━━\u001b[0m\u001b[37m\u001b[0m \u001b[1m3s\u001b[0m 7ms/step - loss: 0.0023 - mean_absolute_error: 0.0340 - val_loss: 0.0019 - val_mean_absolute_error: 0.0320\n",
      "Epoch 11/100\n",
      "\u001b[1m384/384\u001b[0m \u001b[32m━━━━━━━━━━━━━━━━━━━━\u001b[0m\u001b[37m\u001b[0m \u001b[1m3s\u001b[0m 7ms/step - loss: 0.0022 - mean_absolute_error: 0.0331 - val_loss: 0.0018 - val_mean_absolute_error: 0.0321\n",
      "Epoch 12/100\n",
      "\u001b[1m384/384\u001b[0m \u001b[32m━━━━━━━━━━━━━━━━━━━━\u001b[0m\u001b[37m\u001b[0m \u001b[1m3s\u001b[0m 7ms/step - loss: 0.0022 - mean_absolute_error: 0.0323 - val_loss: 0.0019 - val_mean_absolute_error: 0.0325\n",
      "Epoch 13/100\n",
      "\u001b[1m384/384\u001b[0m \u001b[32m━━━━━━━━━━━━━━━━━━━━\u001b[0m\u001b[37m\u001b[0m \u001b[1m3s\u001b[0m 7ms/step - loss: 0.0022 - mean_absolute_error: 0.0325 - val_loss: 0.0016 - val_mean_absolute_error: 0.0285\n",
      "Epoch 14/100\n",
      "\u001b[1m384/384\u001b[0m \u001b[32m━━━━━━━━━━━━━━━━━━━━\u001b[0m\u001b[37m\u001b[0m \u001b[1m3s\u001b[0m 7ms/step - loss: 0.0021 - mean_absolute_error: 0.0322 - val_loss: 0.0017 - val_mean_absolute_error: 0.0299\n",
      "Epoch 15/100\n",
      "\u001b[1m384/384\u001b[0m \u001b[32m━━━━━━━━━━━━━━━━━━━━\u001b[0m\u001b[37m\u001b[0m \u001b[1m3s\u001b[0m 7ms/step - loss: 0.0021 - mean_absolute_error: 0.0318 - val_loss: 0.0017 - val_mean_absolute_error: 0.0296\n",
      "Epoch 16/100\n",
      "\u001b[1m384/384\u001b[0m \u001b[32m━━━━━━━━━━━━━━━━━━━━\u001b[0m\u001b[37m\u001b[0m \u001b[1m3s\u001b[0m 7ms/step - loss: 0.0020 - mean_absolute_error: 0.0313 - val_loss: 0.0015 - val_mean_absolute_error: 0.0266\n",
      "Epoch 17/100\n",
      "\u001b[1m384/384\u001b[0m \u001b[32m━━━━━━━━━━━━━━━━━━━━\u001b[0m\u001b[37m\u001b[0m \u001b[1m3s\u001b[0m 7ms/step - loss: 0.0020 - mean_absolute_error: 0.0311 - val_loss: 0.0014 - val_mean_absolute_error: 0.0258\n",
      "Epoch 18/100\n",
      "\u001b[1m384/384\u001b[0m \u001b[32m━━━━━━━━━━━━━━━━━━━━\u001b[0m\u001b[37m\u001b[0m \u001b[1m6s\u001b[0m 8ms/step - loss: 0.0020 - mean_absolute_error: 0.0304 - val_loss: 0.0015 - val_mean_absolute_error: 0.0275\n",
      "Epoch 19/100\n",
      "\u001b[1m384/384\u001b[0m \u001b[32m━━━━━━━━━━━━━━━━━━━━\u001b[0m\u001b[37m\u001b[0m \u001b[1m3s\u001b[0m 7ms/step - loss: 0.0020 - mean_absolute_error: 0.0308 - val_loss: 0.0016 - val_mean_absolute_error: 0.0295\n",
      "Epoch 20/100\n",
      "\u001b[1m384/384\u001b[0m \u001b[32m━━━━━━━━━━━━━━━━━━━━\u001b[0m\u001b[37m\u001b[0m \u001b[1m3s\u001b[0m 7ms/step - loss: 0.0020 - mean_absolute_error: 0.0304 - val_loss: 0.0016 - val_mean_absolute_error: 0.0288\n",
      "Epoch 21/100\n",
      "\u001b[1m384/384\u001b[0m \u001b[32m━━━━━━━━━━━━━━━━━━━━\u001b[0m\u001b[37m\u001b[0m \u001b[1m3s\u001b[0m 7ms/step - loss: 0.0020 - mean_absolute_error: 0.0301 - val_loss: 0.0015 - val_mean_absolute_error: 0.0279\n",
      "Epoch 22/100\n",
      "\u001b[1m384/384\u001b[0m \u001b[32m━━━━━━━━━━━━━━━━━━━━\u001b[0m\u001b[37m\u001b[0m \u001b[1m3s\u001b[0m 7ms/step - loss: 0.0019 - mean_absolute_error: 0.0295 - val_loss: 0.0014 - val_mean_absolute_error: 0.0257\n",
      "Epoch 23/100\n",
      "\u001b[1m384/384\u001b[0m \u001b[32m━━━━━━━━━━━━━━━━━━━━\u001b[0m\u001b[37m\u001b[0m \u001b[1m3s\u001b[0m 7ms/step - loss: 0.0019 - mean_absolute_error: 0.0296 - val_loss: 0.0016 - val_mean_absolute_error: 0.0305\n",
      "Epoch 24/100\n",
      "\u001b[1m384/384\u001b[0m \u001b[32m━━━━━━━━━━━━━━━━━━━━\u001b[0m\u001b[37m\u001b[0m \u001b[1m3s\u001b[0m 7ms/step - loss: 0.0019 - mean_absolute_error: 0.0298 - val_loss: 0.0014 - val_mean_absolute_error: 0.0263\n",
      "Epoch 25/100\n",
      "\u001b[1m384/384\u001b[0m \u001b[32m━━━━━━━━━━━━━━━━━━━━\u001b[0m\u001b[37m\u001b[0m \u001b[1m3s\u001b[0m 7ms/step - loss: 0.0018 - mean_absolute_error: 0.0287 - val_loss: 0.0014 - val_mean_absolute_error: 0.0267\n",
      "Epoch 26/100\n",
      "\u001b[1m384/384\u001b[0m \u001b[32m━━━━━━━━━━━━━━━━━━━━\u001b[0m\u001b[37m\u001b[0m \u001b[1m3s\u001b[0m 7ms/step - loss: 0.0018 - mean_absolute_error: 0.0288 - val_loss: 0.0014 - val_mean_absolute_error: 0.0258\n",
      "Epoch 27/100\n",
      "\u001b[1m384/384\u001b[0m \u001b[32m━━━━━━━━━━━━━━━━━━━━\u001b[0m\u001b[37m\u001b[0m \u001b[1m3s\u001b[0m 7ms/step - loss: 0.0018 - mean_absolute_error: 0.0284 - val_loss: 0.0015 - val_mean_absolute_error: 0.0265\n",
      "Epoch 28/100\n",
      "\u001b[1m384/384\u001b[0m \u001b[32m━━━━━━━━━━━━━━━━━━━━\u001b[0m\u001b[37m\u001b[0m \u001b[1m3s\u001b[0m 7ms/step - loss: 0.0017 - mean_absolute_error: 0.0280 - val_loss: 0.0016 - val_mean_absolute_error: 0.0289\n",
      "Epoch 29/100\n",
      "\u001b[1m384/384\u001b[0m \u001b[32m━━━━━━━━━━━━━━━━━━━━\u001b[0m\u001b[37m\u001b[0m \u001b[1m3s\u001b[0m 7ms/step - loss: 0.0017 - mean_absolute_error: 0.0281 - val_loss: 0.0015 - val_mean_absolute_error: 0.0291\n",
      "Epoch 30/100\n",
      "\u001b[1m384/384\u001b[0m \u001b[32m━━━━━━━━━━━━━━━━━━━━\u001b[0m\u001b[37m\u001b[0m \u001b[1m3s\u001b[0m 7ms/step - loss: 0.0017 - mean_absolute_error: 0.0281 - val_loss: 0.0013 - val_mean_absolute_error: 0.0251\n",
      "Epoch 31/100\n",
      "\u001b[1m384/384\u001b[0m \u001b[32m━━━━━━━━━━━━━━━━━━━━\u001b[0m\u001b[37m\u001b[0m \u001b[1m3s\u001b[0m 7ms/step - loss: 0.0017 - mean_absolute_error: 0.0276 - val_loss: 0.0018 - val_mean_absolute_error: 0.0307\n",
      "Epoch 32/100\n",
      "\u001b[1m384/384\u001b[0m \u001b[32m━━━━━━━━━━━━━━━━━━━━\u001b[0m\u001b[37m\u001b[0m \u001b[1m3s\u001b[0m 7ms/step - loss: 0.0018 - mean_absolute_error: 0.0286 - val_loss: 0.0014 - val_mean_absolute_error: 0.0263\n",
      "Epoch 33/100\n",
      "\u001b[1m384/384\u001b[0m \u001b[32m━━━━━━━━━━━━━━━━━━━━\u001b[0m\u001b[37m\u001b[0m \u001b[1m3s\u001b[0m 7ms/step - loss: 0.0017 - mean_absolute_error: 0.0275 - val_loss: 0.0013 - val_mean_absolute_error: 0.0254\n",
      "Epoch 34/100\n",
      "\u001b[1m384/384\u001b[0m \u001b[32m━━━━━━━━━━━━━━━━━━━━\u001b[0m\u001b[37m\u001b[0m \u001b[1m3s\u001b[0m 7ms/step - loss: 0.0017 - mean_absolute_error: 0.0275 - val_loss: 0.0013 - val_mean_absolute_error: 0.0250\n",
      "Epoch 35/100\n",
      "\u001b[1m384/384\u001b[0m \u001b[32m━━━━━━━━━━━━━━━━━━━━\u001b[0m\u001b[37m\u001b[0m \u001b[1m3s\u001b[0m 7ms/step - loss: 0.0016 - mean_absolute_error: 0.0271 - val_loss: 0.0015 - val_mean_absolute_error: 0.0282\n"
     ]
    },
    {
     "data": {
      "text/plain": [
       "({'Full-DNN': (0.0019, 0.031),\n",
       "  'RNN': (0.0016, 0.0283),\n",
       "  'LSTM': (0.0014, 0.0265),\n",
       "  'Simple Transformer': (0.0018, 0.0305),\n",
       "  'CNN': (0.0018, 0.0299),\n",
       "  'CNN+LSTM': (0.0015, 0.0282)},\n",
       " {'Full-DNN': (0.0015, 0.0281),\n",
       "  'RNN': (0.0014, 0.0272),\n",
       "  'LSTM': (0.0011, 0.0246),\n",
       "  'Simple Transformer': (0.0015, 0.028),\n",
       "  'CNN': (0.0015, 0.0281),\n",
       "  'CNN+LSTM': (0.0013, 0.0267)})"
      ]
     },
     "execution_count": 4,
     "metadata": {},
     "output_type": "execute_result"
    }
   ],
   "source": [
    "# input_shapeは DataWindow から取得した形 (例: (24, 5))\n",
    "input_shape = w.train.element_spec[0].shape[1:]\n",
    "label_width = w.label_width  # label_width は1など任意の予測ステップ数\n",
    "\n",
    "KERNEL_WIDTH=3\n",
    "\n",
    "cnn_lstm=Sequential([\n",
    "    Conv1D(filters=32,\n",
    "           kernel_size=KERNEL_WIDTH,\n",
    "           activation='relu'),        # 非線形特徴抽出\n",
    "    LSTM(32, return_sequences=False),  # 最後のステップのみ取得=デフォルト\n",
    "    Dense(label_width),\n",
    "    Reshape((label_width, 1))\n",
    "])\n",
    "\n",
    "history = compile_and_fit(cnn_lstm,w)\n",
    "\n",
    "# 評価スコアを辞書に保存\n",
    "val_loss, val_mae = cnn_lstm.evaluate(w.val, verbose=0)\n",
    "test_loss, test_mae = cnn_lstm.evaluate(w.test, verbose=0)\n",
    "val_performance[\"CNN+LSTM\"] = (round(val_loss,4), round(val_mae,4))\n",
    "test_performance[\"CNN+LSTM\"] = (round(test_loss,4),round(test_mae,4))\n",
    "val_performance,test_performance"
   ]
  },
  {
   "cell_type": "code",
   "execution_count": 5,
   "id": "1a90550d",
   "metadata": {},
   "outputs": [
    {
     "data": {
      "image/png": "[encoded data removed]",
      "text/plain": [
       "<Figure size 640x480 with 1 Axes>"
      ]
     },
     "metadata": {},
     "output_type": "display_data"
    }
   ],
   "source": [
    "# MAE（1番目の指標）を抽出\n",
    "labels = list(val_performance.keys())\n",
    "val_mae = [val_performance[k][1] for k in labels]\n",
    "test_mae = [test_performance[k][1] for k in labels]\n",
    "\n",
    "# 棒グラフの描画\n",
    "x = range(len(labels))\n",
    "width = 0.35\n",
    "\n",
    "fig, ax = plt.subplots()\n",
    "val_bars = ax.bar([i - width/2 for i in x], val_mae, width, label='Validation MAE')\n",
    "test_bars = ax.bar([i + width/2 for i in x], test_mae, width, label='Test MAE')\n",
    "\n",
    "# 数値ラベルの追加\n",
    "for bar in val_bars:\n",
    "    height = bar.get_height()\n",
    "    ax.text(bar.get_x() + bar.get_width()/2, height + 0.0005,\n",
    "            f'{height:.4f}', ha='center', va='bottom', fontsize=10)\n",
    "\n",
    "for bar in test_bars:\n",
    "    height = bar.get_height()\n",
    "    ax.text(bar.get_x() + bar.get_width()/2, height + 0.0005,\n",
    "            f'{height:.4f}', ha='center', va='bottom', fontsize=10)\n",
    "\n",
    "# 追加：Y軸の上限を調整して重なりを防ぐ\n",
    "max_val = max(max(val_mae), max(test_mae))\n",
    "ax.set_ylim(0, max_val + 0.005)\n",
    "\n",
    "# 軸・凡例設定\n",
    "ax.set_ylabel('MAE')\n",
    "ax.set_title('Validation and Test MAE by Single Step Model')\n",
    "ax.set_xticks(x)\n",
    "ax.set_xticklabels(labels, fontsize=12, rotation=30)\n",
    "ax.legend()\n",
    "plt.tight_layout()\n",
    "plt.show()\n"
   ]
  },
  {
   "cell_type": "markdown",
   "id": "fd82a99d-e383-4c3b-badb-3b485d52e07d",
   "metadata": {},
   "source": [
    "# 第17章　予測を使ってさらに予測を行う\n",
    "本章ではマルチステップモデルにのみに焦点を当て、自己回帰LSTM(ARLSTM)モデルの一般的なアーキテクチャについて調べる。\n"
   ]
  },
  {
   "cell_type": "markdown",
   "id": "b4d092f0-78e4-497f-9bd2-7e5d2caf4a63",
   "metadata": {},
   "source": [
    "## 17.1　ARLSTMアーキテクチャを調べる\n",
    "自己回帰LSTM(ARLSTM)：予測値を入力に使って次の予測値を生成する方式\n",
    "\n",
    "つまり、１ステップ先を予測し、その出力を次のステップの入力に加えて繰り返すことでマルチステップ予測を可能にする。\n",
    "\n",
    "これまでのマルチステップモデルは過去24時間($t_0～t_{23}$)の時系列データを入力し、時系列順にLSTM層を通過して、最終ステップの要約情報を使って未来の24時間($t_{24}～t_{47}$)を一括で予測していた。"
   ]
  },
  {
   "cell_type": "markdown",
   "id": "7550470b-ea51-4cbb-90c2-478c213332c8",
   "metadata": {},
   "source": [
    "<img src=\"スクリーンショット 2025-06-24 141119.png\">"
   ]
  },
  {
   "cell_type": "markdown",
   "id": "f54e6618-a5d0-4292-b1d6-d3716b638fd6",
   "metadata": {},
   "source": [
    "しかし、もっと長いor短い場合を考えると、モデルを再び訓練する必要があり、手間がかかる。そこで、ARLSTMアーキテクチャを使う。"
   ]
  },
  {
   "cell_type": "markdown",
   "id": "3c3aeec4-eb24-4c5a-ba6a-a2235fd4c05d",
   "metadata": {},
   "source": [
    "<img src=\"スクリーンショット 2025-06-24 143643.png\">"
   ]
  },
  {
   "cell_type": "markdown",
   "id": "a1cc527a-eb02-433b-a3a9-7323ed38cdb4",
   "metadata": {},
   "source": [
    "最初に$t_0～t_{23}$のデータを入力し、最初の出力$t_{24}$を生成。次に$t_1～t_{23}$と$t_{24}$を入力し、$t_{25}$を生成。これを目的の長さまで繰り返す。"
   ]
  },
  {
   "cell_type": "markdown",
   "id": "41df2c30-f37a-41ed-9603-76889b1aaa9e",
   "metadata": {},
   "source": [
    "このモデルの課題として、誤差が蓄積しやすい点がある。それは、出力を入力に使いまわすので、1つの予測ミスがそのあとに影響を与えてしまうからである。"
   ]
  },
  {
   "cell_type": "markdown",
   "id": "c46423c1",
   "metadata": {
    "id": "c46423c1"
   },
   "source": [
    "# CH. 17  Autoregressive LSTM\n",
    "\n",
    "## Multi-step Model"
   ]
  },
  {
   "cell_type": "code",
   "execution_count": 6,
   "id": "c36f3ca2",
   "metadata": {},
   "outputs": [],
   "source": [
    "\n",
    "w_ms=DataWindow(input_width=24,label_width=24,shift=1,stride=1,\n",
    "    train_df=train_df,val_df=val_df,test_df=test_df,\n",
    "    label_columns=['traffic_volume'])\n",
    "\n",
    "ms_val_performance={}\n",
    "ms_test_performance={}"
   ]
  },
  {
   "cell_type": "code",
   "execution_count": 7,
   "id": "66ec6855",
   "metadata": {},
   "outputs": [
    {
     "name": "stdout",
     "output_type": "stream",
     "text": [
      "Epoch 1/100\n",
      "\u001b[1m384/384\u001b[0m \u001b[32m━━━━━━━━━━━━━━━━━━━━\u001b[0m\u001b[37m\u001b[0m \u001b[1m1s\u001b[0m 2ms/step - loss: 0.0851 - mean_absolute_error: 0.2091 - val_loss: 0.0146 - val_mean_absolute_error: 0.0927\n",
      "Epoch 2/100\n",
      "\u001b[1m384/384\u001b[0m \u001b[32m━━━━━━━━━━━━━━━━━━━━\u001b[0m\u001b[37m\u001b[0m \u001b[1m1s\u001b[0m 2ms/step - loss: 0.0113 - mean_absolute_error: 0.0815 - val_loss: 0.0059 - val_mean_absolute_error: 0.0593\n",
      "Epoch 3/100\n",
      "\u001b[1m384/384\u001b[0m \u001b[32m━━━━━━━━━━━━━━━━━━━━\u001b[0m\u001b[37m\u001b[0m \u001b[1m1s\u001b[0m 1ms/step - loss: 0.0049 - mean_absolute_error: 0.0536 - val_loss: 0.0029 - val_mean_absolute_error: 0.0415\n",
      "Epoch 4/100\n",
      "\u001b[1m384/384\u001b[0m \u001b[32m━━━━━━━━━━━━━━━━━━━━\u001b[0m\u001b[37m\u001b[0m \u001b[1m1s\u001b[0m 1ms/step - loss: 0.0027 - mean_absolute_error: 0.0393 - val_loss: 0.0018 - val_mean_absolute_error: 0.0316\n",
      "Epoch 5/100\n",
      "\u001b[1m384/384\u001b[0m \u001b[32m━━━━━━━━━━━━━━━━━━━━\u001b[0m\u001b[37m\u001b[0m \u001b[1m0s\u001b[0m 1ms/step - loss: 0.0018 - mean_absolute_error: 0.0317 - val_loss: 0.0013 - val_mean_absolute_error: 0.0266\n",
      "Epoch 6/100\n",
      "\u001b[1m384/384\u001b[0m \u001b[32m━━━━━━━━━━━━━━━━━━━━\u001b[0m\u001b[37m\u001b[0m \u001b[1m1s\u001b[0m 1ms/step - loss: 0.0014 - mean_absolute_error: 0.0273 - val_loss: 0.0010 - val_mean_absolute_error: 0.0231\n",
      "Epoch 7/100\n",
      "\u001b[1m384/384\u001b[0m \u001b[32m━━━━━━━━━━━━━━━━━━━━\u001b[0m\u001b[37m\u001b[0m \u001b[1m1s\u001b[0m 1ms/step - loss: 0.0012 - mean_absolute_error: 0.0247 - val_loss: 9.0546e-04 - val_mean_absolute_error: 0.0214\n",
      "Epoch 8/100\n",
      "\u001b[1m384/384\u001b[0m \u001b[32m━━━━━━━━━━━━━━━━━━━━\u001b[0m\u001b[37m\u001b[0m \u001b[1m1s\u001b[0m 1ms/step - loss: 0.0011 - mean_absolute_error: 0.0229 - val_loss: 8.0826e-04 - val_mean_absolute_error: 0.0201\n",
      "Epoch 9/100\n",
      "\u001b[1m384/384\u001b[0m \u001b[32m━━━━━━━━━━━━━━━━━━━━\u001b[0m\u001b[37m\u001b[0m \u001b[1m1s\u001b[0m 1ms/step - loss: 9.5252e-04 - mean_absolute_error: 0.0215 - val_loss: 7.9716e-04 - val_mean_absolute_error: 0.0198\n",
      "Epoch 10/100\n",
      "\u001b[1m384/384\u001b[0m \u001b[32m━━━━━━━━━━━━━━━━━━━━\u001b[0m\u001b[37m\u001b[0m \u001b[1m1s\u001b[0m 1ms/step - loss: 8.7707e-04 - mean_absolute_error: 0.0206 - val_loss: 6.6264e-04 - val_mean_absolute_error: 0.0179\n",
      "Epoch 11/100\n",
      "\u001b[1m384/384\u001b[0m \u001b[32m━━━━━━━━━━━━━━━━━━━━\u001b[0m\u001b[37m\u001b[0m \u001b[1m1s\u001b[0m 1ms/step - loss: 8.0793e-04 - mean_absolute_error: 0.0195 - val_loss: 6.0628e-04 - val_mean_absolute_error: 0.0170\n",
      "Epoch 12/100\n",
      "\u001b[1m384/384\u001b[0m \u001b[32m━━━━━━━━━━━━━━━━━━━━\u001b[0m\u001b[37m\u001b[0m \u001b[1m1s\u001b[0m 1ms/step - loss: 7.6096e-04 - mean_absolute_error: 0.0189 - val_loss: 6.0443e-04 - val_mean_absolute_error: 0.0171\n",
      "Epoch 13/100\n",
      "\u001b[1m384/384\u001b[0m \u001b[32m━━━━━━━━━━━━━━━━━━━━\u001b[0m\u001b[37m\u001b[0m \u001b[1m1s\u001b[0m 1ms/step - loss: 7.2045e-04 - mean_absolute_error: 0.0183 - val_loss: 5.3032e-04 - val_mean_absolute_error: 0.0156\n",
      "Epoch 14/100\n",
      "\u001b[1m384/384\u001b[0m \u001b[32m━━━━━━━━━━━━━━━━━━━━\u001b[0m\u001b[37m\u001b[0m \u001b[1m1s\u001b[0m 1ms/step - loss: 6.7960e-04 - mean_absolute_error: 0.0176 - val_loss: 5.2048e-04 - val_mean_absolute_error: 0.0155\n",
      "Epoch 15/100\n",
      "\u001b[1m384/384\u001b[0m \u001b[32m━━━━━━━━━━━━━━━━━━━━\u001b[0m\u001b[37m\u001b[0m \u001b[1m1s\u001b[0m 1ms/step - loss: 6.5794e-04 - mean_absolute_error: 0.0172 - val_loss: 5.0801e-04 - val_mean_absolute_error: 0.0153\n",
      "Epoch 16/100\n",
      "\u001b[1m384/384\u001b[0m \u001b[32m━━━━━━━━━━━━━━━━━━━━\u001b[0m\u001b[37m\u001b[0m \u001b[1m1s\u001b[0m 1ms/step - loss: 6.2617e-04 - mean_absolute_error: 0.0167 - val_loss: 5.1744e-04 - val_mean_absolute_error: 0.0155\n",
      "Epoch 17/100\n",
      "\u001b[1m384/384\u001b[0m \u001b[32m━━━━━━━━━━━━━━━━━━━━\u001b[0m\u001b[37m\u001b[0m \u001b[1m1s\u001b[0m 2ms/step - loss: 6.0886e-04 - mean_absolute_error: 0.0164 - val_loss: 4.6524e-04 - val_mean_absolute_error: 0.0144\n",
      "Epoch 18/100\n",
      "\u001b[1m384/384\u001b[0m \u001b[32m━━━━━━━━━━━━━━━━━━━━\u001b[0m\u001b[37m\u001b[0m \u001b[1m1s\u001b[0m 1ms/step - loss: 5.7707e-04 - mean_absolute_error: 0.0159 - val_loss: 5.0049e-04 - val_mean_absolute_error: 0.0154\n",
      "Epoch 19/100\n",
      "\u001b[1m384/384\u001b[0m \u001b[32m━━━━━━━━━━━━━━━━━━━━\u001b[0m\u001b[37m\u001b[0m \u001b[1m1s\u001b[0m 1ms/step - loss: 5.6837e-04 - mean_absolute_error: 0.0157 - val_loss: 4.6977e-04 - val_mean_absolute_error: 0.0146\n",
      "Epoch 20/100\n",
      "\u001b[1m384/384\u001b[0m \u001b[32m━━━━━━━━━━━━━━━━━━━━\u001b[0m\u001b[37m\u001b[0m \u001b[1m1s\u001b[0m 1ms/step - loss: 5.5284e-04 - mean_absolute_error: 0.0155 - val_loss: 4.8361e-04 - val_mean_absolute_error: 0.0144\n",
      "Epoch 21/100\n",
      "\u001b[1m384/384\u001b[0m \u001b[32m━━━━━━━━━━━━━━━━━━━━\u001b[0m\u001b[37m\u001b[0m \u001b[1m1s\u001b[0m 1ms/step - loss: 5.3785e-04 - mean_absolute_error: 0.0152 - val_loss: 4.1070e-04 - val_mean_absolute_error: 0.0129\n",
      "Epoch 22/100\n",
      "\u001b[1m384/384\u001b[0m \u001b[32m━━━━━━━━━━━━━━━━━━━━\u001b[0m\u001b[37m\u001b[0m \u001b[1m1s\u001b[0m 1ms/step - loss: 5.1060e-04 - mean_absolute_error: 0.0146 - val_loss: 4.5704e-04 - val_mean_absolute_error: 0.0139\n",
      "Epoch 23/100\n",
      "\u001b[1m384/384\u001b[0m \u001b[32m━━━━━━━━━━━━━━━━━━━━\u001b[0m\u001b[37m\u001b[0m \u001b[1m1s\u001b[0m 1ms/step - loss: 5.0646e-04 - mean_absolute_error: 0.0146 - val_loss: 4.8109e-04 - val_mean_absolute_error: 0.0142\n",
      "Epoch 24/100\n",
      "\u001b[1m384/384\u001b[0m \u001b[32m━━━━━━━━━━━━━━━━━━━━\u001b[0m\u001b[37m\u001b[0m \u001b[1m1s\u001b[0m 1ms/step - loss: 5.0030e-04 - mean_absolute_error: 0.0145 - val_loss: 3.9975e-04 - val_mean_absolute_error: 0.0133\n",
      "Epoch 25/100\n",
      "\u001b[1m384/384\u001b[0m \u001b[32m━━━━━━━━━━━━━━━━━━━━\u001b[0m\u001b[37m\u001b[0m \u001b[1m1s\u001b[0m 1ms/step - loss: 4.7953e-04 - mean_absolute_error: 0.0141 - val_loss: 3.6438e-04 - val_mean_absolute_error: 0.0123\n",
      "Epoch 26/100\n",
      "\u001b[1m384/384\u001b[0m \u001b[32m━━━━━━━━━━━━━━━━━━━━\u001b[0m\u001b[37m\u001b[0m \u001b[1m1s\u001b[0m 1ms/step - loss: 4.6739e-04 - mean_absolute_error: 0.0140 - val_loss: 3.5235e-04 - val_mean_absolute_error: 0.0120\n",
      "Epoch 27/100\n",
      "\u001b[1m384/384\u001b[0m \u001b[32m━━━━━━━━━━━━━━━━━━━━\u001b[0m\u001b[37m\u001b[0m \u001b[1m1s\u001b[0m 2ms/step - loss: 4.5843e-04 - mean_absolute_error: 0.0137 - val_loss: 4.2074e-04 - val_mean_absolute_error: 0.0140\n",
      "Epoch 28/100\n",
      "\u001b[1m384/384\u001b[0m \u001b[32m━━━━━━━━━━━━━━━━━━━━\u001b[0m\u001b[37m\u001b[0m \u001b[1m1s\u001b[0m 1ms/step - loss: 4.5565e-04 - mean_absolute_error: 0.0137 - val_loss: 3.6178e-04 - val_mean_absolute_error: 0.0121\n",
      "Epoch 29/100\n",
      "\u001b[1m384/384\u001b[0m \u001b[32m━━━━━━━━━━━━━━━━━━━━\u001b[0m\u001b[37m\u001b[0m \u001b[1m1s\u001b[0m 1ms/step - loss: 4.4749e-04 - mean_absolute_error: 0.0135 - val_loss: 3.5811e-04 - val_mean_absolute_error: 0.0117\n",
      "Epoch 30/100\n",
      "\u001b[1m384/384\u001b[0m \u001b[32m━━━━━━━━━━━━━━━━━━━━\u001b[0m\u001b[37m\u001b[0m \u001b[1m1s\u001b[0m 1ms/step - loss: 4.3986e-04 - mean_absolute_error: 0.0134 - val_loss: 3.4626e-04 - val_mean_absolute_error: 0.0119\n",
      "Epoch 31/100\n",
      "\u001b[1m384/384\u001b[0m \u001b[32m━━━━━━━━━━━━━━━━━━━━\u001b[0m\u001b[37m\u001b[0m \u001b[1m1s\u001b[0m 1ms/step - loss: 4.2966e-04 - mean_absolute_error: 0.0132 - val_loss: 3.3229e-04 - val_mean_absolute_error: 0.0117\n",
      "Epoch 32/100\n",
      "\u001b[1m384/384\u001b[0m \u001b[32m━━━━━━━━━━━━━━━━━━━━\u001b[0m\u001b[37m\u001b[0m \u001b[1m1s\u001b[0m 1ms/step - loss: 4.2637e-04 - mean_absolute_error: 0.0131 - val_loss: 3.6352e-04 - val_mean_absolute_error: 0.0128\n",
      "Epoch 33/100\n",
      "\u001b[1m384/384\u001b[0m \u001b[32m━━━━━━━━━━━━━━━━━━━━\u001b[0m\u001b[37m\u001b[0m \u001b[1m1s\u001b[0m 1ms/step - loss: 4.2279e-04 - mean_absolute_error: 0.0131 - val_loss: 3.4812e-04 - val_mean_absolute_error: 0.0120\n",
      "Epoch 34/100\n",
      "\u001b[1m384/384\u001b[0m \u001b[32m━━━━━━━━━━━━━━━━━━━━\u001b[0m\u001b[37m\u001b[0m \u001b[1m1s\u001b[0m 1ms/step - loss: 4.1368e-04 - mean_absolute_error: 0.0129 - val_loss: 3.2340e-04 - val_mean_absolute_error: 0.0113\n",
      "Epoch 35/100\n",
      "\u001b[1m384/384\u001b[0m \u001b[32m━━━━━━━━━━━━━━━━━━━━\u001b[0m\u001b[37m\u001b[0m \u001b[1m1s\u001b[0m 1ms/step - loss: 4.0470e-04 - mean_absolute_error: 0.0127 - val_loss: 4.1272e-04 - val_mean_absolute_error: 0.0123\n",
      "Epoch 36/100\n",
      "\u001b[1m384/384\u001b[0m \u001b[32m━━━━━━━━━━━━━━━━━━━━\u001b[0m\u001b[37m\u001b[0m \u001b[1m1s\u001b[0m 1ms/step - loss: 4.1031e-04 - mean_absolute_error: 0.0129 - val_loss: 3.4601e-04 - val_mean_absolute_error: 0.0119\n",
      "Epoch 37/100\n",
      "\u001b[1m384/384\u001b[0m \u001b[32m━━━━━━━━━━━━━━━━━━━━\u001b[0m\u001b[37m\u001b[0m \u001b[1m1s\u001b[0m 1ms/step - loss: 3.9531e-04 - mean_absolute_error: 0.0125 - val_loss: 3.4256e-04 - val_mean_absolute_error: 0.0116\n",
      "Epoch 38/100\n",
      "\u001b[1m384/384\u001b[0m \u001b[32m━━━━━━━━━━━━━━━━━━━━\u001b[0m\u001b[37m\u001b[0m \u001b[1m1s\u001b[0m 1ms/step - loss: 3.9300e-04 - mean_absolute_error: 0.0125 - val_loss: 3.3104e-04 - val_mean_absolute_error: 0.0116\n",
      "Epoch 39/100\n",
      "\u001b[1m384/384\u001b[0m \u001b[32m━━━━━━━━━━━━━━━━━━━━\u001b[0m\u001b[37m\u001b[0m \u001b[1m1s\u001b[0m 2ms/step - loss: 3.8942e-04 - mean_absolute_error: 0.0124 - val_loss: 3.0980e-04 - val_mean_absolute_error: 0.0112\n",
      "Epoch 40/100\n",
      "\u001b[1m384/384\u001b[0m \u001b[32m━━━━━━━━━━━━━━━━━━━━\u001b[0m\u001b[37m\u001b[0m \u001b[1m1s\u001b[0m 1ms/step - loss: 3.7941e-04 - mean_absolute_error: 0.0122 - val_loss: 5.1141e-04 - val_mean_absolute_error: 0.0148\n",
      "Epoch 41/100\n",
      "\u001b[1m384/384\u001b[0m \u001b[32m━━━━━━━━━━━━━━━━━━━━\u001b[0m\u001b[37m\u001b[0m \u001b[1m1s\u001b[0m 1ms/step - loss: 3.9985e-04 - mean_absolute_error: 0.0127 - val_loss: 2.9107e-04 - val_mean_absolute_error: 0.0106\n",
      "Epoch 42/100\n",
      "\u001b[1m384/384\u001b[0m \u001b[32m━━━━━━━━━━━━━━━━━━━━\u001b[0m\u001b[37m\u001b[0m \u001b[1m1s\u001b[0m 1ms/step - loss: 3.6751e-04 - mean_absolute_error: 0.0118 - val_loss: 2.9206e-04 - val_mean_absolute_error: 0.0105\n",
      "Epoch 43/100\n",
      "\u001b[1m384/384\u001b[0m \u001b[32m━━━━━━━━━━━━━━━━━━━━\u001b[0m\u001b[37m\u001b[0m \u001b[1m1s\u001b[0m 1ms/step - loss: 3.7067e-04 - mean_absolute_error: 0.0119 - val_loss: 2.8358e-04 - val_mean_absolute_error: 0.0102\n",
      "Epoch 44/100\n",
      "\u001b[1m384/384\u001b[0m \u001b[32m━━━━━━━━━━━━━━━━━━━━\u001b[0m\u001b[37m\u001b[0m \u001b[1m1s\u001b[0m 1ms/step - loss: 3.6198e-04 - mean_absolute_error: 0.0117 - val_loss: 3.3016e-04 - val_mean_absolute_error: 0.0111\n",
      "Epoch 45/100\n",
      "\u001b[1m384/384\u001b[0m \u001b[32m━━━━━━━━━━━━━━━━━━━━\u001b[0m\u001b[37m\u001b[0m \u001b[1m1s\u001b[0m 1ms/step - loss: 3.5905e-04 - mean_absolute_error: 0.0116 - val_loss: 2.8557e-04 - val_mean_absolute_error: 0.0103\n",
      "Epoch 46/100\n",
      "\u001b[1m384/384\u001b[0m \u001b[32m━━━━━━━━━━━━━━━━━━━━\u001b[0m\u001b[37m\u001b[0m \u001b[1m1s\u001b[0m 1ms/step - loss: 3.5280e-04 - mean_absolute_error: 0.0115 - val_loss: 2.7007e-04 - val_mean_absolute_error: 0.0098\n",
      "Epoch 47/100\n",
      "\u001b[1m384/384\u001b[0m \u001b[32m━━━━━━━━━━━━━━━━━━━━\u001b[0m\u001b[37m\u001b[0m \u001b[1m1s\u001b[0m 1ms/step - loss: 3.5509e-04 - mean_absolute_error: 0.0115 - val_loss: 2.9837e-04 - val_mean_absolute_error: 0.0110\n",
      "Epoch 48/100\n",
      "\u001b[1m384/384\u001b[0m \u001b[32m━━━━━━━━━━━━━━━━━━━━\u001b[0m\u001b[37m\u001b[0m \u001b[1m1s\u001b[0m 2ms/step - loss: 3.5176e-04 - mean_absolute_error: 0.0115 - val_loss: 2.7845e-04 - val_mean_absolute_error: 0.0102\n",
      "Epoch 49/100\n",
      "\u001b[1m384/384\u001b[0m \u001b[32m━━━━━━━━━━━━━━━━━━━━\u001b[0m\u001b[37m\u001b[0m \u001b[1m1s\u001b[0m 1ms/step - loss: 3.4370e-04 - mean_absolute_error: 0.0112 - val_loss: 2.7823e-04 - val_mean_absolute_error: 0.0100\n",
      "Epoch 50/100\n",
      "\u001b[1m384/384\u001b[0m \u001b[32m━━━━━━━━━━━━━━━━━━━━\u001b[0m\u001b[37m\u001b[0m \u001b[1m1s\u001b[0m 1ms/step - loss: 3.4471e-04 - mean_absolute_error: 0.0113 - val_loss: 2.8592e-04 - val_mean_absolute_error: 0.0102\n",
      "Epoch 51/100\n",
      "\u001b[1m384/384\u001b[0m \u001b[32m━━━━━━━━━━━━━━━━━━━━\u001b[0m\u001b[37m\u001b[0m \u001b[1m1s\u001b[0m 1ms/step - loss: 3.4337e-04 - mean_absolute_error: 0.0112 - val_loss: 3.0109e-04 - val_mean_absolute_error: 0.0110\n"
     ]
    },
    {
     "data": {
      "text/plain": [
       "({'Full-DNN': (0.0003, 0.011)}, {'Full-DNN': (0.0003, 0.0104)})"
      ]
     },
     "execution_count": 7,
     "metadata": {},
     "output_type": "execute_result"
    }
   ],
   "source": [
    "# データセットの input_shape を取得\n",
    "input_shape = w_ms.train.element_spec[0].shape[1:]  # 例：(24, 5)\n",
    "label_width=w_ms.label_width\n",
    "\n",
    "full_dnn = Sequential([\n",
    "    Flatten(input_shape=input_shape),      # [batch, 24, 5] → [batch, 120]\n",
    "    Dense(32, activation='relu'),          # [batch, 120] → [batch, 32]\n",
    "    Dense(label_width),  # [batch, 24]\n",
    "    Reshape((label_width, 1))              # [batch, 24] → [batch, 24, 1]\n",
    "])\n",
    "\n",
    "#　モデルの訓練\n",
    "history = compile_and_fit(full_dnn,w_ms)\n",
    "\n",
    "# 評価スコアを辞書に保存\n",
    "val_performance={}\n",
    "test_performance={}\n",
    "val_loss, val_mae = full_dnn.evaluate(w_ms.val, verbose=0)\n",
    "test_loss, test_mae = full_dnn.evaluate(w_ms.test, verbose=0)\n",
    "ms_val_performance[\"Full-DNN\"] = (round(val_loss,4), round(val_mae,4))\n",
    "ms_test_performance[\"Full-DNN\"] = (round(test_loss,4),round(test_mae,4))\n",
    "ms_val_performance,ms_test_performance"
   ]
  },
  {
   "cell_type": "code",
   "execution_count": 8,
   "id": "d5bf719e",
   "metadata": {},
   "outputs": [
    {
     "name": "stdout",
     "output_type": "stream",
     "text": [
      "Epoch 1/100\n",
      "\u001b[1m384/384\u001b[0m \u001b[32m━━━━━━━━━━━━━━━━━━━━\u001b[0m\u001b[37m\u001b[0m \u001b[1m3s\u001b[0m 5ms/step - loss: 0.1035 - mean_absolute_error: 0.2373 - val_loss: 0.0237 - val_mean_absolute_error: 0.1176\n",
      "Epoch 2/100\n",
      "\u001b[1m384/384\u001b[0m \u001b[32m━━━━━━━━━━━━━━━━━━━━\u001b[0m\u001b[37m\u001b[0m \u001b[1m2s\u001b[0m 4ms/step - loss: 0.0196 - mean_absolute_error: 0.1048 - val_loss: 0.0142 - val_mean_absolute_error: 0.0879\n",
      "Epoch 3/100\n",
      "\u001b[1m384/384\u001b[0m \u001b[32m━━━━━━━━━━━━━━━━━━━━\u001b[0m\u001b[37m\u001b[0m \u001b[1m2s\u001b[0m 4ms/step - loss: 0.0115 - mean_absolute_error: 0.0802 - val_loss: 0.0075 - val_mean_absolute_error: 0.0655\n",
      "Epoch 4/100\n",
      "\u001b[1m384/384\u001b[0m \u001b[32m━━━━━━━━━━━━━━━━━━━━\u001b[0m\u001b[37m\u001b[0m \u001b[1m2s\u001b[0m 5ms/step - loss: 0.0062 - mean_absolute_error: 0.0593 - val_loss: 0.0045 - val_mean_absolute_error: 0.0502\n",
      "Epoch 5/100\n",
      "\u001b[1m384/384\u001b[0m \u001b[32m━━━━━━━━━━━━━━━━━━━━\u001b[0m\u001b[37m\u001b[0m \u001b[1m2s\u001b[0m 5ms/step - loss: 0.0041 - mean_absolute_error: 0.0477 - val_loss: 0.0030 - val_mean_absolute_error: 0.0406\n",
      "Epoch 6/100\n",
      "\u001b[1m384/384\u001b[0m \u001b[32m━━━━━━━━━━━━━━━━━━━━\u001b[0m\u001b[37m\u001b[0m \u001b[1m3s\u001b[0m 5ms/step - loss: 0.0029 - mean_absolute_error: 0.0400 - val_loss: 0.0022 - val_mean_absolute_error: 0.0346\n",
      "Epoch 7/100\n",
      "\u001b[1m384/384\u001b[0m \u001b[32m━━━━━━━━━━━━━━━━━━━━\u001b[0m\u001b[37m\u001b[0m \u001b[1m2s\u001b[0m 5ms/step - loss: 0.0022 - mean_absolute_error: 0.0350 - val_loss: 0.0020 - val_mean_absolute_error: 0.0330\n",
      "Epoch 8/100\n",
      "\u001b[1m384/384\u001b[0m \u001b[32m━━━━━━━━━━━━━━━━━━━━\u001b[0m\u001b[37m\u001b[0m \u001b[1m2s\u001b[0m 4ms/step - loss: 0.0019 - mean_absolute_error: 0.0322 - val_loss: 0.0015 - val_mean_absolute_error: 0.0285\n",
      "Epoch 9/100\n",
      "\u001b[1m384/384\u001b[0m \u001b[32m━━━━━━━━━━━━━━━━━━━━\u001b[0m\u001b[37m\u001b[0m \u001b[1m2s\u001b[0m 4ms/step - loss: 0.0017 - mean_absolute_error: 0.0298 - val_loss: 0.0015 - val_mean_absolute_error: 0.0286\n",
      "Epoch 10/100\n",
      "\u001b[1m384/384\u001b[0m \u001b[32m━━━━━━━━━━━━━━━━━━━━\u001b[0m\u001b[37m\u001b[0m \u001b[1m2s\u001b[0m 4ms/step - loss: 0.0015 - mean_absolute_error: 0.0279 - val_loss: 0.0012 - val_mean_absolute_error: 0.0257\n",
      "Epoch 11/100\n",
      "\u001b[1m384/384\u001b[0m \u001b[32m━━━━━━━━━━━━━━━━━━━━\u001b[0m\u001b[37m\u001b[0m \u001b[1m3s\u001b[0m 4ms/step - loss: 0.0013 - mean_absolute_error: 0.0258 - val_loss: 0.0010 - val_mean_absolute_error: 0.0227\n",
      "Epoch 12/100\n",
      "\u001b[1m384/384\u001b[0m \u001b[32m━━━━━━━━━━━━━━━━━━━━\u001b[0m\u001b[37m\u001b[0m \u001b[1m2s\u001b[0m 4ms/step - loss: 0.0011 - mean_absolute_error: 0.0242 - val_loss: 9.8755e-04 - val_mean_absolute_error: 0.0230\n",
      "Epoch 13/100\n",
      "\u001b[1m384/384\u001b[0m \u001b[32m━━━━━━━━━━━━━━━━━━━━\u001b[0m\u001b[37m\u001b[0m \u001b[1m2s\u001b[0m 4ms/step - loss: 0.0010 - mean_absolute_error: 0.0227 - val_loss: 8.1330e-04 - val_mean_absolute_error: 0.0201\n",
      "Epoch 14/100\n",
      "\u001b[1m384/384\u001b[0m \u001b[32m━━━━━━━━━━━━━━━━━━━━\u001b[0m\u001b[37m\u001b[0m \u001b[1m2s\u001b[0m 4ms/step - loss: 9.6852e-04 - mean_absolute_error: 0.0218 - val_loss: 7.6474e-04 - val_mean_absolute_error: 0.0194\n",
      "Epoch 15/100\n",
      "\u001b[1m384/384\u001b[0m \u001b[32m━━━━━━━━━━━━━━━━━━━━\u001b[0m\u001b[37m\u001b[0m \u001b[1m2s\u001b[0m 4ms/step - loss: 8.9026e-04 - mean_absolute_error: 0.0207 - val_loss: 8.1442e-04 - val_mean_absolute_error: 0.0202\n",
      "Epoch 16/100\n",
      "\u001b[1m384/384\u001b[0m \u001b[32m━━━━━━━━━━━━━━━━━━━━\u001b[0m\u001b[37m\u001b[0m \u001b[1m2s\u001b[0m 4ms/step - loss: 8.7131e-04 - mean_absolute_error: 0.0204 - val_loss: 7.0394e-04 - val_mean_absolute_error: 0.0182\n",
      "Epoch 17/100\n",
      "\u001b[1m384/384\u001b[0m \u001b[32m━━━━━━━━━━━━━━━━━━━━\u001b[0m\u001b[37m\u001b[0m \u001b[1m2s\u001b[0m 4ms/step - loss: 8.1699e-04 - mean_absolute_error: 0.0195 - val_loss: 6.8932e-04 - val_mean_absolute_error: 0.0181\n",
      "Epoch 18/100\n",
      "\u001b[1m384/384\u001b[0m \u001b[32m━━━━━━━━━━━━━━━━━━━━\u001b[0m\u001b[37m\u001b[0m \u001b[1m2s\u001b[0m 4ms/step - loss: 8.0497e-04 - mean_absolute_error: 0.0195 - val_loss: 6.7247e-04 - val_mean_absolute_error: 0.0180\n",
      "Epoch 19/100\n",
      "\u001b[1m384/384\u001b[0m \u001b[32m━━━━━━━━━━━━━━━━━━━━\u001b[0m\u001b[37m\u001b[0m \u001b[1m2s\u001b[0m 4ms/step - loss: 7.4874e-04 - mean_absolute_error: 0.0186 - val_loss: 6.0307e-04 - val_mean_absolute_error: 0.0167\n",
      "Epoch 20/100\n",
      "\u001b[1m384/384\u001b[0m \u001b[32m━━━━━━━━━━━━━━━━━━━━\u001b[0m\u001b[37m\u001b[0m \u001b[1m2s\u001b[0m 4ms/step - loss: 7.0669e-04 - mean_absolute_error: 0.0179 - val_loss: 5.7900e-04 - val_mean_absolute_error: 0.0162\n",
      "Epoch 21/100\n",
      "\u001b[1m384/384\u001b[0m \u001b[32m━━━━━━━━━━━━━━━━━━━━\u001b[0m\u001b[37m\u001b[0m \u001b[1m2s\u001b[0m 4ms/step - loss: 6.7927e-04 - mean_absolute_error: 0.0175 - val_loss: 5.4322e-04 - val_mean_absolute_error: 0.0157\n",
      "Epoch 22/100\n",
      "\u001b[1m384/384\u001b[0m \u001b[32m━━━━━━━━━━━━━━━━━━━━\u001b[0m\u001b[37m\u001b[0m \u001b[1m2s\u001b[0m 4ms/step - loss: 6.4228e-04 - mean_absolute_error: 0.0169 - val_loss: 5.4046e-04 - val_mean_absolute_error: 0.0159\n",
      "Epoch 23/100\n",
      "\u001b[1m384/384\u001b[0m \u001b[32m━━━━━━━━━━━━━━━━━━━━\u001b[0m\u001b[37m\u001b[0m \u001b[1m2s\u001b[0m 4ms/step - loss: 6.1491e-04 - mean_absolute_error: 0.0166 - val_loss: 5.0291e-04 - val_mean_absolute_error: 0.0150\n",
      "Epoch 24/100\n",
      "\u001b[1m384/384\u001b[0m \u001b[32m━━━━━━━━━━━━━━━━━━━━\u001b[0m\u001b[37m\u001b[0m \u001b[1m2s\u001b[0m 4ms/step - loss: 5.5710e-04 - mean_absolute_error: 0.0155 - val_loss: 5.6335e-04 - val_mean_absolute_error: 0.0164\n",
      "Epoch 25/100\n",
      "\u001b[1m384/384\u001b[0m \u001b[32m━━━━━━━━━━━━━━━━━━━━\u001b[0m\u001b[37m\u001b[0m \u001b[1m2s\u001b[0m 4ms/step - loss: 5.4394e-04 - mean_absolute_error: 0.0154 - val_loss: 7.5708e-04 - val_mean_absolute_error: 0.0212\n",
      "Epoch 26/100\n",
      "\u001b[1m384/384\u001b[0m \u001b[32m━━━━━━━━━━━━━━━━━━━━\u001b[0m\u001b[37m\u001b[0m \u001b[1m2s\u001b[0m 4ms/step - loss: 5.1549e-04 - mean_absolute_error: 0.0148 - val_loss: 3.9695e-04 - val_mean_absolute_error: 0.0127\n",
      "Epoch 27/100\n",
      "\u001b[1m384/384\u001b[0m \u001b[32m━━━━━━━━━━━━━━━━━━━━\u001b[0m\u001b[37m\u001b[0m \u001b[1m2s\u001b[0m 5ms/step - loss: 4.6717e-04 - mean_absolute_error: 0.0138 - val_loss: 4.5564e-04 - val_mean_absolute_error: 0.0144\n",
      "Epoch 28/100\n",
      "\u001b[1m384/384\u001b[0m \u001b[32m━━━━━━━━━━━━━━━━━━━━\u001b[0m\u001b[37m\u001b[0m \u001b[1m2s\u001b[0m 4ms/step - loss: 4.5223e-04 - mean_absolute_error: 0.0135 - val_loss: 4.4652e-04 - val_mean_absolute_error: 0.0144\n",
      "Epoch 29/100\n",
      "\u001b[1m384/384\u001b[0m \u001b[32m━━━━━━━━━━━━━━━━━━━━\u001b[0m\u001b[37m\u001b[0m \u001b[1m2s\u001b[0m 4ms/step - loss: 4.2934e-04 - mean_absolute_error: 0.0130 - val_loss: 4.3611e-04 - val_mean_absolute_error: 0.0141\n",
      "Epoch 30/100\n",
      "\u001b[1m384/384\u001b[0m \u001b[32m━━━━━━━━━━━━━━━━━━━━\u001b[0m\u001b[37m\u001b[0m \u001b[1m2s\u001b[0m 4ms/step - loss: 4.3226e-04 - mean_absolute_error: 0.0131 - val_loss: 3.6608e-04 - val_mean_absolute_error: 0.0121\n",
      "Epoch 31/100\n",
      "\u001b[1m384/384\u001b[0m \u001b[32m━━━━━━━━━━━━━━━━━━━━\u001b[0m\u001b[37m\u001b[0m \u001b[1m2s\u001b[0m 4ms/step - loss: 4.1854e-04 - mean_absolute_error: 0.0129 - val_loss: 3.2845e-04 - val_mean_absolute_error: 0.0111\n",
      "Epoch 32/100\n",
      "\u001b[1m384/384\u001b[0m \u001b[32m━━━━━━━━━━━━━━━━━━━━\u001b[0m\u001b[37m\u001b[0m \u001b[1m2s\u001b[0m 4ms/step - loss: 3.8061e-04 - mean_absolute_error: 0.0119 - val_loss: 3.6073e-04 - val_mean_absolute_error: 0.0125\n",
      "Epoch 33/100\n",
      "\u001b[1m384/384\u001b[0m \u001b[32m━━━━━━━━━━━━━━━━━━━━\u001b[0m\u001b[37m\u001b[0m \u001b[1m2s\u001b[0m 4ms/step - loss: 3.8348e-04 - mean_absolute_error: 0.0121 - val_loss: 3.4709e-04 - val_mean_absolute_error: 0.0117\n",
      "Epoch 34/100\n",
      "\u001b[1m384/384\u001b[0m \u001b[32m━━━━━━━━━━━━━━━━━━━━\u001b[0m\u001b[37m\u001b[0m \u001b[1m2s\u001b[0m 4ms/step - loss: 3.7637e-04 - mean_absolute_error: 0.0119 - val_loss: 3.3775e-04 - val_mean_absolute_error: 0.0114\n",
      "Epoch 35/100\n",
      "\u001b[1m384/384\u001b[0m \u001b[32m━━━━━━━━━━━━━━━━━━━━\u001b[0m\u001b[37m\u001b[0m \u001b[1m2s\u001b[0m 4ms/step - loss: 3.7212e-04 - mean_absolute_error: 0.0118 - val_loss: 2.9211e-04 - val_mean_absolute_error: 0.0100\n",
      "Epoch 36/100\n",
      "\u001b[1m384/384\u001b[0m \u001b[32m━━━━━━━━━━━━━━━━━━━━\u001b[0m\u001b[37m\u001b[0m \u001b[1m2s\u001b[0m 4ms/step - loss: 3.5612e-04 - mean_absolute_error: 0.0114 - val_loss: 3.5065e-04 - val_mean_absolute_error: 0.0120\n",
      "Epoch 37/100\n",
      "\u001b[1m384/384\u001b[0m \u001b[32m━━━━━━━━━━━━━━━━━━━━\u001b[0m\u001b[37m\u001b[0m \u001b[1m2s\u001b[0m 4ms/step - loss: 3.3785e-04 - mean_absolute_error: 0.0108 - val_loss: 2.8596e-04 - val_mean_absolute_error: 0.0100\n",
      "Epoch 38/100\n",
      "\u001b[1m384/384\u001b[0m \u001b[32m━━━━━━━━━━━━━━━━━━━━\u001b[0m\u001b[37m\u001b[0m \u001b[1m2s\u001b[0m 4ms/step - loss: 3.2385e-04 - mean_absolute_error: 0.0105 - val_loss: 4.3079e-04 - val_mean_absolute_error: 0.0148\n",
      "Epoch 39/100\n",
      "\u001b[1m384/384\u001b[0m \u001b[32m━━━━━━━━━━━━━━━━━━━━\u001b[0m\u001b[37m\u001b[0m \u001b[1m2s\u001b[0m 4ms/step - loss: 3.4415e-04 - mean_absolute_error: 0.0111 - val_loss: 3.6006e-04 - val_mean_absolute_error: 0.0120\n",
      "Epoch 40/100\n",
      "\u001b[1m384/384\u001b[0m \u001b[32m━━━━━━━━━━━━━━━━━━━━\u001b[0m\u001b[37m\u001b[0m \u001b[1m3s\u001b[0m 4ms/step - loss: 3.2484e-04 - mean_absolute_error: 0.0106 - val_loss: 3.4433e-04 - val_mean_absolute_error: 0.0119\n",
      "Epoch 41/100\n",
      "\u001b[1m384/384\u001b[0m \u001b[32m━━━━━━━━━━━━━━━━━━━━\u001b[0m\u001b[37m\u001b[0m \u001b[1m2s\u001b[0m 4ms/step - loss: 3.0926e-04 - mean_absolute_error: 0.0101 - val_loss: 3.3020e-04 - val_mean_absolute_error: 0.0115\n",
      "Epoch 42/100\n",
      "\u001b[1m384/384\u001b[0m \u001b[32m━━━━━━━━━━━━━━━━━━━━\u001b[0m\u001b[37m\u001b[0m \u001b[1m2s\u001b[0m 5ms/step - loss: 2.9420e-04 - mean_absolute_error: 0.0097 - val_loss: 2.9358e-04 - val_mean_absolute_error: 0.0102\n"
     ]
    },
    {
     "data": {
      "text/plain": [
       "({'Full-DNN': (0.0003, 0.011), 'RNN': (0.0003, 0.0102)},\n",
       " {'Full-DNN': (0.0003, 0.0104), 'RNN': (0.0003, 0.0099)})"
      ]
     },
     "execution_count": 8,
     "metadata": {},
     "output_type": "execute_result"
    }
   ],
   "source": [
    "# input_shapeは DataWindow から取得した形 (例: (24, 5))\n",
    "input_shape = w_ms.train.element_spec[0].shape[1:]\n",
    "label_width = w_ms.label_width  # label_width は1など任意の予測ステップ数\n",
    "\n",
    "\n",
    "simple_rnn = Sequential([\n",
    "    SimpleRNN(units=32, input_shape=input_shape),\n",
    "    Dense(units=label_width),\n",
    "    Reshape((label_width, 1))\n",
    "])\n",
    "\n",
    "#　モデルの訓練\n",
    "history = compile_and_fit(simple_rnn,w_ms)\n",
    "\n",
    "# 評価スコアを辞書に保存\n",
    "val_loss, val_mae = simple_rnn.evaluate(w_ms.val, verbose=0)\n",
    "test_loss, test_mae = simple_rnn.evaluate(w_ms.test, verbose=0)\n",
    "ms_val_performance[\"RNN\"] = (round(val_loss,4), round(val_mae,4))\n",
    "ms_test_performance[\"RNN\"] = (round(test_loss,4),round(test_mae,4))\n",
    "ms_val_performance,ms_test_performance"
   ]
  },
  {
   "cell_type": "code",
   "execution_count": 9,
   "id": "bb16644c",
   "metadata": {},
   "outputs": [
    {
     "name": "stdout",
     "output_type": "stream",
     "text": [
      "Epoch 1/100\n",
      "\u001b[1m384/384\u001b[0m \u001b[32m━━━━━━━━━━━━━━━━━━━━\u001b[0m\u001b[37m\u001b[0m \u001b[1m4s\u001b[0m 7ms/step - loss: 0.0842 - mean_absolute_error: 0.2148 - val_loss: 0.0125 - val_mean_absolute_error: 0.0852\n",
      "Epoch 2/100\n",
      "\u001b[1m384/384\u001b[0m \u001b[32m━━━━━━━━━━━━━━━━━━━━\u001b[0m\u001b[37m\u001b[0m \u001b[1m3s\u001b[0m 7ms/step - loss: 0.0101 - mean_absolute_error: 0.0769 - val_loss: 0.0063 - val_mean_absolute_error: 0.0613\n",
      "Epoch 3/100\n",
      "\u001b[1m384/384\u001b[0m \u001b[32m━━━━━━━━━━━━━━━━━━━━\u001b[0m\u001b[37m\u001b[0m \u001b[1m3s\u001b[0m 7ms/step - loss: 0.0058 - mean_absolute_error: 0.0586 - val_loss: 0.0047 - val_mean_absolute_error: 0.0525\n",
      "Epoch 4/100\n",
      "\u001b[1m384/384\u001b[0m \u001b[32m━━━━━━━━━━━━━━━━━━━━\u001b[0m\u001b[37m\u001b[0m \u001b[1m3s\u001b[0m 7ms/step - loss: 0.0047 - mean_absolute_error: 0.0523 - val_loss: 0.0039 - val_mean_absolute_error: 0.0474\n",
      "Epoch 5/100\n",
      "\u001b[1m384/384\u001b[0m \u001b[32m━━━━━━━━━━━━━━━━━━━━\u001b[0m\u001b[37m\u001b[0m \u001b[1m3s\u001b[0m 7ms/step - loss: 0.0039 - mean_absolute_error: 0.0473 - val_loss: 0.0032 - val_mean_absolute_error: 0.0425\n",
      "Epoch 6/100\n",
      "\u001b[1m384/384\u001b[0m \u001b[32m━━━━━━━━━━━━━━━━━━━━\u001b[0m\u001b[37m\u001b[0m \u001b[1m3s\u001b[0m 6ms/step - loss: 0.0033 - mean_absolute_error: 0.0427 - val_loss: 0.0027 - val_mean_absolute_error: 0.0384\n",
      "Epoch 7/100\n",
      "\u001b[1m384/384\u001b[0m \u001b[32m━━━━━━━━━━━━━━━━━━━━\u001b[0m\u001b[37m\u001b[0m \u001b[1m3s\u001b[0m 7ms/step - loss: 0.0029 - mean_absolute_error: 0.0392 - val_loss: 0.0024 - val_mean_absolute_error: 0.0357\n",
      "Epoch 8/100\n",
      "\u001b[1m384/384\u001b[0m \u001b[32m━━━━━━━━━━━━━━━━━━━━\u001b[0m\u001b[37m\u001b[0m \u001b[1m3s\u001b[0m 7ms/step - loss: 0.0026 - mean_absolute_error: 0.0369 - val_loss: 0.0022 - val_mean_absolute_error: 0.0340\n",
      "Epoch 9/100\n",
      "\u001b[1m384/384\u001b[0m \u001b[32m━━━━━━━━━━━━━━━━━━━━\u001b[0m\u001b[37m\u001b[0m \u001b[1m5s\u001b[0m 7ms/step - loss: 0.0024 - mean_absolute_error: 0.0352 - val_loss: 0.0021 - val_mean_absolute_error: 0.0330\n",
      "Epoch 10/100\n",
      "\u001b[1m384/384\u001b[0m \u001b[32m━━━━━━━━━━━━━━━━━━━━\u001b[0m\u001b[37m\u001b[0m \u001b[1m2s\u001b[0m 6ms/step - loss: 0.0022 - mean_absolute_error: 0.0337 - val_loss: 0.0020 - val_mean_absolute_error: 0.0320\n",
      "Epoch 11/100\n",
      "\u001b[1m384/384\u001b[0m \u001b[32m━━━━━━━━━━━━━━━━━━━━\u001b[0m\u001b[37m\u001b[0m \u001b[1m3s\u001b[0m 8ms/step - loss: 0.0021 - mean_absolute_error: 0.0330 - val_loss: 0.0018 - val_mean_absolute_error: 0.0303\n",
      "Epoch 12/100\n",
      "\u001b[1m384/384\u001b[0m \u001b[32m━━━━━━━━━━━━━━━━━━━━\u001b[0m\u001b[37m\u001b[0m \u001b[1m3s\u001b[0m 7ms/step - loss: 0.0020 - mean_absolute_error: 0.0317 - val_loss: 0.0017 - val_mean_absolute_error: 0.0296\n",
      "Epoch 13/100\n",
      "\u001b[1m384/384\u001b[0m \u001b[32m━━━━━━━━━━━━━━━━━━━━\u001b[0m\u001b[37m\u001b[0m \u001b[1m3s\u001b[0m 6ms/step - loss: 0.0019 - mean_absolute_error: 0.0309 - val_loss: 0.0016 - val_mean_absolute_error: 0.0283\n",
      "Epoch 14/100\n",
      "\u001b[1m384/384\u001b[0m \u001b[32m━━━━━━━━━━━━━━━━━━━━\u001b[0m\u001b[37m\u001b[0m \u001b[1m3s\u001b[0m 7ms/step - loss: 0.0018 - mean_absolute_error: 0.0302 - val_loss: 0.0015 - val_mean_absolute_error: 0.0275\n",
      "Epoch 15/100\n",
      "\u001b[1m384/384\u001b[0m \u001b[32m━━━━━━━━━━━━━━━━━━━━\u001b[0m\u001b[37m\u001b[0m \u001b[1m3s\u001b[0m 7ms/step - loss: 0.0017 - mean_absolute_error: 0.0295 - val_loss: 0.0015 - val_mean_absolute_error: 0.0276\n",
      "Epoch 16/100\n",
      "\u001b[1m384/384\u001b[0m \u001b[32m━━━━━━━━━━━━━━━━━━━━\u001b[0m\u001b[37m\u001b[0m \u001b[1m3s\u001b[0m 7ms/step - loss: 0.0016 - mean_absolute_error: 0.0287 - val_loss: 0.0014 - val_mean_absolute_error: 0.0262\n",
      "Epoch 17/100\n",
      "\u001b[1m384/384\u001b[0m \u001b[32m━━━━━━━━━━━━━━━━━━━━\u001b[0m\u001b[37m\u001b[0m \u001b[1m3s\u001b[0m 7ms/step - loss: 0.0016 - mean_absolute_error: 0.0281 - val_loss: 0.0013 - val_mean_absolute_error: 0.0259\n",
      "Epoch 18/100\n",
      "\u001b[1m384/384\u001b[0m \u001b[32m━━━━━━━━━━━━━━━━━━━━\u001b[0m\u001b[37m\u001b[0m \u001b[1m3s\u001b[0m 6ms/step - loss: 0.0015 - mean_absolute_error: 0.0276 - val_loss: 0.0013 - val_mean_absolute_error: 0.0257\n",
      "Epoch 19/100\n",
      "\u001b[1m384/384\u001b[0m \u001b[32m━━━━━━━━━━━━━━━━━━━━\u001b[0m\u001b[37m\u001b[0m \u001b[1m3s\u001b[0m 7ms/step - loss: 0.0015 - mean_absolute_error: 0.0272 - val_loss: 0.0012 - val_mean_absolute_error: 0.0241\n",
      "Epoch 20/100\n",
      "\u001b[1m384/384\u001b[0m \u001b[32m━━━━━━━━━━━━━━━━━━━━\u001b[0m\u001b[37m\u001b[0m \u001b[1m2s\u001b[0m 6ms/step - loss: 0.0014 - mean_absolute_error: 0.0267 - val_loss: 0.0011 - val_mean_absolute_error: 0.0235\n",
      "Epoch 21/100\n",
      "\u001b[1m384/384\u001b[0m \u001b[32m━━━━━━━━━━━━━━━━━━━━\u001b[0m\u001b[37m\u001b[0m \u001b[1m3s\u001b[0m 6ms/step - loss: 0.0014 - mean_absolute_error: 0.0262 - val_loss: 0.0013 - val_mean_absolute_error: 0.0255\n",
      "Epoch 22/100\n",
      "\u001b[1m384/384\u001b[0m \u001b[32m━━━━━━━━━━━━━━━━━━━━\u001b[0m\u001b[37m\u001b[0m \u001b[1m2s\u001b[0m 6ms/step - loss: 0.0014 - mean_absolute_error: 0.0262 - val_loss: 0.0012 - val_mean_absolute_error: 0.0251\n",
      "Epoch 23/100\n",
      "\u001b[1m384/384\u001b[0m \u001b[32m━━━━━━━━━━━━━━━━━━━━\u001b[0m\u001b[37m\u001b[0m \u001b[1m3s\u001b[0m 7ms/step - loss: 0.0013 - mean_absolute_error: 0.0257 - val_loss: 0.0011 - val_mean_absolute_error: 0.0233\n",
      "Epoch 24/100\n",
      "\u001b[1m384/384\u001b[0m \u001b[32m━━━━━━━━━━━━━━━━━━━━\u001b[0m\u001b[37m\u001b[0m \u001b[1m3s\u001b[0m 7ms/step - loss: 0.0013 - mean_absolute_error: 0.0254 - val_loss: 0.0010 - val_mean_absolute_error: 0.0227\n",
      "Epoch 25/100\n",
      "\u001b[1m384/384\u001b[0m \u001b[32m━━━━━━━━━━━━━━━━━━━━\u001b[0m\u001b[37m\u001b[0m \u001b[1m3s\u001b[0m 7ms/step - loss: 0.0013 - mean_absolute_error: 0.0250 - val_loss: 0.0010 - val_mean_absolute_error: 0.0226\n",
      "Epoch 26/100\n",
      "\u001b[1m384/384\u001b[0m \u001b[32m━━━━━━━━━━━━━━━━━━━━\u001b[0m\u001b[37m\u001b[0m \u001b[1m3s\u001b[0m 7ms/step - loss: 0.0012 - mean_absolute_error: 0.0246 - val_loss: 9.6694e-04 - val_mean_absolute_error: 0.0221\n",
      "Epoch 27/100\n",
      "\u001b[1m384/384\u001b[0m \u001b[32m━━━━━━━━━━━━━━━━━━━━\u001b[0m\u001b[37m\u001b[0m \u001b[1m3s\u001b[0m 7ms/step - loss: 0.0012 - mean_absolute_error: 0.0244 - val_loss: 9.7420e-04 - val_mean_absolute_error: 0.0224\n",
      "Epoch 28/100\n",
      "\u001b[1m384/384\u001b[0m \u001b[32m━━━━━━━━━━━━━━━━━━━━\u001b[0m\u001b[37m\u001b[0m \u001b[1m3s\u001b[0m 7ms/step - loss: 0.0012 - mean_absolute_error: 0.0241 - val_loss: 9.7243e-04 - val_mean_absolute_error: 0.0225\n",
      "Epoch 29/100\n",
      "\u001b[1m384/384\u001b[0m \u001b[32m━━━━━━━━━━━━━━━━━━━━\u001b[0m\u001b[37m\u001b[0m \u001b[1m3s\u001b[0m 7ms/step - loss: 0.0012 - mean_absolute_error: 0.0240 - val_loss: 0.0011 - val_mean_absolute_error: 0.0240\n",
      "Epoch 30/100\n",
      "\u001b[1m384/384\u001b[0m \u001b[32m━━━━━━━━━━━━━━━━━━━━\u001b[0m\u001b[37m\u001b[0m \u001b[1m3s\u001b[0m 7ms/step - loss: 0.0012 - mean_absolute_error: 0.0238 - val_loss: 9.0368e-04 - val_mean_absolute_error: 0.0214\n",
      "Epoch 31/100\n",
      "\u001b[1m384/384\u001b[0m \u001b[32m━━━━━━━━━━━━━━━━━━━━\u001b[0m\u001b[37m\u001b[0m \u001b[1m3s\u001b[0m 7ms/step - loss: 0.0011 - mean_absolute_error: 0.0234 - val_loss: 8.9585e-04 - val_mean_absolute_error: 0.0211\n",
      "Epoch 32/100\n",
      "\u001b[1m384/384\u001b[0m \u001b[32m━━━━━━━━━━━━━━━━━━━━\u001b[0m\u001b[37m\u001b[0m \u001b[1m3s\u001b[0m 7ms/step - loss: 0.0011 - mean_absolute_error: 0.0232 - val_loss: 9.5042e-04 - val_mean_absolute_error: 0.0219\n",
      "Epoch 33/100\n",
      "\u001b[1m384/384\u001b[0m \u001b[32m━━━━━━━━━━━━━━━━━━━━\u001b[0m\u001b[37m\u001b[0m \u001b[1m3s\u001b[0m 7ms/step - loss: 0.0011 - mean_absolute_error: 0.0230 - val_loss: 9.0070e-04 - val_mean_absolute_error: 0.0214\n",
      "Epoch 34/100\n",
      "\u001b[1m384/384\u001b[0m \u001b[32m━━━━━━━━━━━━━━━━━━━━\u001b[0m\u001b[37m\u001b[0m \u001b[1m3s\u001b[0m 7ms/step - loss: 0.0011 - mean_absolute_error: 0.0228 - val_loss: 9.0683e-04 - val_mean_absolute_error: 0.0218\n",
      "Epoch 35/100\n",
      "\u001b[1m384/384\u001b[0m \u001b[32m━━━━━━━━━━━━━━━━━━━━\u001b[0m\u001b[37m\u001b[0m \u001b[1m3s\u001b[0m 7ms/step - loss: 0.0011 - mean_absolute_error: 0.0227 - val_loss: 8.7042e-04 - val_mean_absolute_error: 0.0209\n",
      "Epoch 36/100\n",
      "\u001b[1m384/384\u001b[0m \u001b[32m━━━━━━━━━━━━━━━━━━━━\u001b[0m\u001b[37m\u001b[0m \u001b[1m3s\u001b[0m 7ms/step - loss: 0.0010 - mean_absolute_error: 0.0223 - val_loss: 8.1544e-04 - val_mean_absolute_error: 0.0203\n",
      "Epoch 37/100\n",
      "\u001b[1m384/384\u001b[0m \u001b[32m━━━━━━━━━━━━━━━━━━━━\u001b[0m\u001b[37m\u001b[0m \u001b[1m5s\u001b[0m 7ms/step - loss: 0.0010 - mean_absolute_error: 0.0222 - val_loss: 7.9449e-04 - val_mean_absolute_error: 0.0198\n",
      "Epoch 38/100\n",
      "\u001b[1m384/384\u001b[0m \u001b[32m━━━━━━━━━━━━━━━━━━━━\u001b[0m\u001b[37m\u001b[0m \u001b[1m3s\u001b[0m 7ms/step - loss: 0.0010 - mean_absolute_error: 0.0220 - val_loss: 8.2260e-04 - val_mean_absolute_error: 0.0206\n",
      "Epoch 39/100\n",
      "\u001b[1m384/384\u001b[0m \u001b[32m━━━━━━━━━━━━━━━━━━━━\u001b[0m\u001b[37m\u001b[0m \u001b[1m3s\u001b[0m 7ms/step - loss: 9.9783e-04 - mean_absolute_error: 0.0218 - val_loss: 8.6030e-04 - val_mean_absolute_error: 0.0208\n",
      "Epoch 40/100\n",
      "\u001b[1m384/384\u001b[0m \u001b[32m━━━━━━━━━━━━━━━━━━━━\u001b[0m\u001b[37m\u001b[0m \u001b[1m3s\u001b[0m 7ms/step - loss: 9.7144e-04 - mean_absolute_error: 0.0215 - val_loss: 7.6453e-04 - val_mean_absolute_error: 0.0195\n",
      "Epoch 41/100\n",
      "\u001b[1m384/384\u001b[0m \u001b[32m━━━━━━━━━━━━━━━━━━━━\u001b[0m\u001b[37m\u001b[0m \u001b[1m3s\u001b[0m 7ms/step - loss: 9.6896e-04 - mean_absolute_error: 0.0215 - val_loss: 8.0767e-04 - val_mean_absolute_error: 0.0202\n",
      "Epoch 42/100\n",
      "\u001b[1m384/384\u001b[0m \u001b[32m━━━━━━━━━━━━━━━━━━━━\u001b[0m\u001b[37m\u001b[0m \u001b[1m3s\u001b[0m 7ms/step - loss: 9.7260e-04 - mean_absolute_error: 0.0215 - val_loss: 7.4924e-04 - val_mean_absolute_error: 0.0192\n",
      "Epoch 43/100\n",
      "\u001b[1m384/384\u001b[0m \u001b[32m━━━━━━━━━━━━━━━━━━━━\u001b[0m\u001b[37m\u001b[0m \u001b[1m3s\u001b[0m 7ms/step - loss: 9.3964e-04 - mean_absolute_error: 0.0211 - val_loss: 7.6393e-04 - val_mean_absolute_error: 0.0196\n",
      "Epoch 44/100\n",
      "\u001b[1m384/384\u001b[0m \u001b[32m━━━━━━━━━━━━━━━━━━━━\u001b[0m\u001b[37m\u001b[0m \u001b[1m3s\u001b[0m 7ms/step - loss: 9.3304e-04 - mean_absolute_error: 0.0210 - val_loss: 7.1754e-04 - val_mean_absolute_error: 0.0188\n",
      "Epoch 45/100\n",
      "\u001b[1m384/384\u001b[0m \u001b[32m━━━━━━━━━━━━━━━━━━━━\u001b[0m\u001b[37m\u001b[0m \u001b[1m3s\u001b[0m 7ms/step - loss: 9.2764e-04 - mean_absolute_error: 0.0210 - val_loss: 7.2934e-04 - val_mean_absolute_error: 0.0190\n",
      "Epoch 46/100\n",
      "\u001b[1m384/384\u001b[0m \u001b[32m━━━━━━━━━━━━━━━━━━━━\u001b[0m\u001b[37m\u001b[0m \u001b[1m3s\u001b[0m 7ms/step - loss: 9.1444e-04 - mean_absolute_error: 0.0208 - val_loss: 7.3606e-04 - val_mean_absolute_error: 0.0190\n",
      "Epoch 47/100\n",
      "\u001b[1m384/384\u001b[0m \u001b[32m━━━━━━━━━━━━━━━━━━━━\u001b[0m\u001b[37m\u001b[0m \u001b[1m3s\u001b[0m 7ms/step - loss: 8.9728e-04 - mean_absolute_error: 0.0206 - val_loss: 7.9057e-04 - val_mean_absolute_error: 0.0201\n",
      "Epoch 48/100\n",
      "\u001b[1m384/384\u001b[0m \u001b[32m━━━━━━━━━━━━━━━━━━━━\u001b[0m\u001b[37m\u001b[0m \u001b[1m5s\u001b[0m 7ms/step - loss: 9.0200e-04 - mean_absolute_error: 0.0207 - val_loss: 7.4188e-04 - val_mean_absolute_error: 0.0190\n",
      "Epoch 49/100\n",
      "\u001b[1m384/384\u001b[0m \u001b[32m━━━━━━━━━━━━━━━━━━━━\u001b[0m\u001b[37m\u001b[0m \u001b[1m5s\u001b[0m 7ms/step - loss: 8.9115e-04 - mean_absolute_error: 0.0205 - val_loss: 7.2311e-04 - val_mean_absolute_error: 0.0190\n"
     ]
    },
    {
     "data": {
      "text/plain": [
       "({'Full-DNN': (0.0003, 0.011),\n",
       "  'RNN': (0.0003, 0.0102),\n",
       "  'LSTM': (0.0007, 0.019)},\n",
       " {'Full-DNN': (0.0003, 0.0104),\n",
       "  'RNN': (0.0003, 0.0099),\n",
       "  'LSTM': (0.0006, 0.0174)})"
      ]
     },
     "execution_count": 9,
     "metadata": {},
     "output_type": "execute_result"
    }
   ],
   "source": [
    "# input_shapeは DataWindow から取得した形 (例: (24, 5))\n",
    "input_shape = w_ms.train.element_spec[0].shape[1:]\n",
    "label_width = w_ms.label_width  # label_width は1など任意の予測ステップ数\n",
    "\n",
    "lstm = Sequential([\n",
    "    LSTM(32, input_shape=input_shape),\n",
    "    Dense(label_width),\n",
    "    Reshape((label_width, 1))\n",
    "])\n",
    "\n",
    "#　モデルの訓練\n",
    "history = compile_and_fit(lstm,w_ms)\n",
    "\n",
    "# 評価スコアを辞書に保存\n",
    "val_loss, val_mae = lstm.evaluate(w_ms.val, verbose=0)\n",
    "test_loss, test_mae = lstm.evaluate(w_ms.test, verbose=0)\n",
    "ms_val_performance[\"LSTM\"] = (round(val_loss,4), round(val_mae,4))\n",
    "ms_test_performance[\"LSTM\"] = (round(test_loss,4),round(test_mae,4))\n",
    "ms_val_performance,ms_test_performance"
   ]
  },
  {
   "cell_type": "code",
   "execution_count": 10,
   "id": "daf7c7dc",
   "metadata": {},
   "outputs": [],
   "source": [
    "import tensorflow as tf\n",
    "from tensorflow.keras import Model\n",
    "from tensorflow.keras.layers import LSTM, Dense\n",
    "\n",
    "class AR_LSTM(Model):\n",
    "    def __init__(self, units, out_steps, num_features):\n",
    "        super().__init__()\n",
    "        self.out_steps = out_steps\n",
    "\n",
    "        # LSTM層（RNNを直接使用し簡略化）\n",
    "        self.lstm = LSTM(units, return_state=False, return_sequences=False)\n",
    "        \n",
    "        # 出力層（Dense）\n",
    "        self.dense = Dense(num_features)\n",
    "\n",
    "\n",
    "    def call(self, inputs):\n",
    "        predictions = []\n",
    "\n",
    "        # 最初の入力には真の系列を使って予測\n",
    "        prediction = self.dense(self.lstm(inputs))\n",
    "        predictions.append(prediction)\n",
    "\n",
    "        # その後の自己回帰予測（out_steps - 1回繰り返す）\n",
    "        for _ in range(1, self.out_steps):\n",
    "            # 最新の予測を系列の末尾に追加し、系列を更新（長さを保つ）\n",
    "            inputs = tf.concat([inputs[:, 1:, :], tf.expand_dims(prediction, axis=1)], axis=1)\n",
    "\n",
    "            # 更新された入力系列で次の予測を得る\n",
    "            prediction = self.dense(self.lstm(inputs))\n",
    "\n",
    "            # 予測結果を保存\n",
    "            predictions.append(prediction)\n",
    "\n",
    "        # 全ステップの予測をTensorとしてまとめる\n",
    "        predictions = tf.stack(predictions, axis=1)\n",
    "\n",
    "        return predictions\n"
   ]
  },
  {
   "cell_type": "code",
   "execution_count": 11,
   "id": "b33a7ddd",
   "metadata": {
    "colab": {
     "base_uri": "https://localhost:8080/"
    },
    "executionInfo": {
     "elapsed": 484325,
     "status": "ok",
     "timestamp": 1748775276670,
     "user": {
      "displayName": "S. MORI",
      "userId": "12979354905875170493"
     },
     "user_tz": -540
    },
    "id": "b33a7ddd",
    "outputId": "81fc0535-3994-4458-c038-8b1d82075609"
   },
   "outputs": [
    {
     "name": "stdout",
     "output_type": "stream",
     "text": [
      "Epoch 1/100\n",
      "\u001b[1m384/384\u001b[0m \u001b[32m━━━━━━━━━━━━━━━━━━━━\u001b[0m\u001b[37m\u001b[0m \u001b[1m88s\u001b[0m 156ms/step - loss: 0.0796 - mean_absolute_error: 0.2159 - val_loss: 0.0062 - val_mean_absolute_error: 0.0599\n",
      "Epoch 2/100\n",
      "\u001b[1m384/384\u001b[0m \u001b[32m━━━━━━━━━━━━━━━━━━━━\u001b[0m\u001b[37m\u001b[0m \u001b[1m57s\u001b[0m 147ms/step - loss: 0.0053 - mean_absolute_error: 0.0549 - val_loss: 0.0035 - val_mean_absolute_error: 0.0442\n",
      "Epoch 3/100\n",
      "\u001b[1m384/384\u001b[0m \u001b[32m━━━━━━━━━━━━━━━━━━━━\u001b[0m\u001b[37m\u001b[0m \u001b[1m56s\u001b[0m 146ms/step - loss: 0.0033 - mean_absolute_error: 0.0419 - val_loss: 0.0024 - val_mean_absolute_error: 0.0352\n",
      "Epoch 4/100\n",
      "\u001b[1m384/384\u001b[0m \u001b[32m━━━━━━━━━━━━━━━━━━━━\u001b[0m\u001b[37m\u001b[0m \u001b[1m56s\u001b[0m 147ms/step - loss: 0.0025 - mean_absolute_error: 0.0359 - val_loss: 0.0023 - val_mean_absolute_error: 0.0347\n",
      "Epoch 5/100\n",
      "\u001b[1m384/384\u001b[0m \u001b[32m━━━━━━━━━━━━━━━━━━━━\u001b[0m\u001b[37m\u001b[0m \u001b[1m56s\u001b[0m 145ms/step - loss: 0.0021 - mean_absolute_error: 0.0324 - val_loss: 0.0017 - val_mean_absolute_error: 0.0286\n",
      "Epoch 6/100\n",
      "\u001b[1m384/384\u001b[0m \u001b[32m━━━━━━━━━━━━━━━━━━━━\u001b[0m\u001b[37m\u001b[0m \u001b[1m56s\u001b[0m 145ms/step - loss: 0.0018 - mean_absolute_error: 0.0298 - val_loss: 0.0015 - val_mean_absolute_error: 0.0270\n",
      "Epoch 7/100\n",
      "\u001b[1m384/384\u001b[0m \u001b[32m━━━━━━━━━━━━━━━━━━━━\u001b[0m\u001b[37m\u001b[0m \u001b[1m56s\u001b[0m 145ms/step - loss: 0.0016 - mean_absolute_error: 0.0282 - val_loss: 0.0014 - val_mean_absolute_error: 0.0252\n",
      "Epoch 8/100\n",
      "\u001b[1m384/384\u001b[0m \u001b[32m━━━━━━━━━━━━━━━━━━━━\u001b[0m\u001b[37m\u001b[0m \u001b[1m56s\u001b[0m 146ms/step - loss: 0.0015 - mean_absolute_error: 0.0273 - val_loss: 0.0014 - val_mean_absolute_error: 0.0253\n",
      "Epoch 9/100\n",
      "\u001b[1m384/384\u001b[0m \u001b[32m━━━━━━━━━━━━━━━━━━━━\u001b[0m\u001b[37m\u001b[0m \u001b[1m55s\u001b[0m 143ms/step - loss: 0.0015 - mean_absolute_error: 0.0262 - val_loss: 0.0012 - val_mean_absolute_error: 0.0234\n",
      "Epoch 10/100\n",
      "\u001b[1m384/384\u001b[0m \u001b[32m━━━━━━━━━━━━━━━━━━━━\u001b[0m\u001b[37m\u001b[0m \u001b[1m56s\u001b[0m 145ms/step - loss: 0.0014 - mean_absolute_error: 0.0253 - val_loss: 0.0011 - val_mean_absolute_error: 0.0227\n",
      "Epoch 11/100\n",
      "\u001b[1m384/384\u001b[0m \u001b[32m━━━━━━━━━━━━━━━━━━━━\u001b[0m\u001b[37m\u001b[0m \u001b[1m55s\u001b[0m 144ms/step - loss: 0.0013 - mean_absolute_error: 0.0250 - val_loss: 0.0011 - val_mean_absolute_error: 0.0227\n",
      "Epoch 12/100\n",
      "\u001b[1m384/384\u001b[0m \u001b[32m━━━━━━━━━━━━━━━━━━━━\u001b[0m\u001b[37m\u001b[0m \u001b[1m56s\u001b[0m 147ms/step - loss: 0.0013 - mean_absolute_error: 0.0246 - val_loss: 0.0011 - val_mean_absolute_error: 0.0234\n",
      "Epoch 13/100\n",
      "\u001b[1m384/384\u001b[0m \u001b[32m━━━━━━━━━━━━━━━━━━━━\u001b[0m\u001b[37m\u001b[0m \u001b[1m56s\u001b[0m 147ms/step - loss: 0.0012 - mean_absolute_error: 0.0239 - val_loss: 9.9606e-04 - val_mean_absolute_error: 0.0216\n",
      "Epoch 14/100\n",
      "\u001b[1m384/384\u001b[0m \u001b[32m━━━━━━━━━━━━━━━━━━━━\u001b[0m\u001b[37m\u001b[0m \u001b[1m56s\u001b[0m 147ms/step - loss: 0.0012 - mean_absolute_error: 0.0236 - val_loss: 0.0010 - val_mean_absolute_error: 0.0222\n",
      "Epoch 15/100\n",
      "\u001b[1m384/384\u001b[0m \u001b[32m━━━━━━━━━━━━━━━━━━━━\u001b[0m\u001b[37m\u001b[0m \u001b[1m55s\u001b[0m 144ms/step - loss: 0.0012 - mean_absolute_error: 0.0232 - val_loss: 0.0011 - val_mean_absolute_error: 0.0234\n",
      "Epoch 16/100\n",
      "\u001b[1m384/384\u001b[0m \u001b[32m━━━━━━━━━━━━━━━━━━━━\u001b[0m\u001b[37m\u001b[0m \u001b[1m56s\u001b[0m 146ms/step - loss: 0.0012 - mean_absolute_error: 0.0230 - val_loss: 0.0010 - val_mean_absolute_error: 0.0224\n",
      "Epoch 17/100\n",
      "\u001b[1m384/384\u001b[0m \u001b[32m━━━━━━━━━━━━━━━━━━━━\u001b[0m\u001b[37m\u001b[0m \u001b[1m57s\u001b[0m 147ms/step - loss: 0.0011 - mean_absolute_error: 0.0227 - val_loss: 8.7854e-04 - val_mean_absolute_error: 0.0200\n",
      "Epoch 18/100\n",
      "\u001b[1m384/384\u001b[0m \u001b[32m━━━━━━━━━━━━━━━━━━━━\u001b[0m\u001b[37m\u001b[0m \u001b[1m55s\u001b[0m 144ms/step - loss: 0.0011 - mean_absolute_error: 0.0221 - val_loss: 8.9773e-04 - val_mean_absolute_error: 0.0201\n",
      "Epoch 19/100\n",
      "\u001b[1m384/384\u001b[0m \u001b[32m━━━━━━━━━━━━━━━━━━━━\u001b[0m\u001b[37m\u001b[0m \u001b[1m55s\u001b[0m 144ms/step - loss: 0.0011 - mean_absolute_error: 0.0217 - val_loss: 8.2015e-04 - val_mean_absolute_error: 0.0190\n",
      "Epoch 20/100\n",
      "\u001b[1m384/384\u001b[0m \u001b[32m━━━━━━━━━━━━━━━━━━━━\u001b[0m\u001b[37m\u001b[0m \u001b[1m55s\u001b[0m 143ms/step - loss: 0.0010 - mean_absolute_error: 0.0215 - val_loss: 8.5178e-04 - val_mean_absolute_error: 0.0195\n",
      "Epoch 21/100\n",
      "\u001b[1m384/384\u001b[0m \u001b[32m━━━━━━━━━━━━━━━━━━━━\u001b[0m\u001b[37m\u001b[0m \u001b[1m55s\u001b[0m 144ms/step - loss: 0.0010 - mean_absolute_error: 0.0213 - val_loss: 8.3210e-04 - val_mean_absolute_error: 0.0193\n",
      "Epoch 22/100\n",
      "\u001b[1m384/384\u001b[0m \u001b[32m━━━━━━━━━━━━━━━━━━━━\u001b[0m\u001b[37m\u001b[0m \u001b[1m54s\u001b[0m 141ms/step - loss: 0.0010 - mean_absolute_error: 0.0213 - val_loss: 8.3693e-04 - val_mean_absolute_error: 0.0197\n",
      "Epoch 23/100\n",
      "\u001b[1m384/384\u001b[0m \u001b[32m━━━━━━━━━━━━━━━━━━━━\u001b[0m\u001b[37m\u001b[0m \u001b[1m55s\u001b[0m 143ms/step - loss: 9.7857e-04 - mean_absolute_error: 0.0208 - val_loss: 7.5435e-04 - val_mean_absolute_error: 0.0183\n",
      "Epoch 24/100\n",
      "\u001b[1m384/384\u001b[0m \u001b[32m━━━━━━━━━━━━━━━━━━━━\u001b[0m\u001b[37m\u001b[0m \u001b[1m54s\u001b[0m 141ms/step - loss: 9.5499e-04 - mean_absolute_error: 0.0205 - val_loss: 7.7351e-04 - val_mean_absolute_error: 0.0187\n",
      "Epoch 25/100\n",
      "\u001b[1m384/384\u001b[0m \u001b[32m━━━━━━━━━━━━━━━━━━━━\u001b[0m\u001b[37m\u001b[0m \u001b[1m54s\u001b[0m 141ms/step - loss: 9.4737e-04 - mean_absolute_error: 0.0205 - val_loss: 7.6230e-04 - val_mean_absolute_error: 0.0190\n",
      "Epoch 26/100\n",
      "\u001b[1m384/384\u001b[0m \u001b[32m━━━━━━━━━━━━━━━━━━━━\u001b[0m\u001b[37m\u001b[0m \u001b[1m54s\u001b[0m 142ms/step - loss: 9.1360e-04 - mean_absolute_error: 0.0200 - val_loss: 8.3752e-04 - val_mean_absolute_error: 0.0199\n",
      "Epoch 27/100\n",
      "\u001b[1m384/384\u001b[0m \u001b[32m━━━━━━━━━━━━━━━━━━━━\u001b[0m\u001b[37m\u001b[0m \u001b[1m81s\u001b[0m 140ms/step - loss: 9.1033e-04 - mean_absolute_error: 0.0199 - val_loss: 7.1358e-04 - val_mean_absolute_error: 0.0178\n",
      "Epoch 28/100\n",
      "\u001b[1m384/384\u001b[0m \u001b[32m━━━━━━━━━━━━━━━━━━━━\u001b[0m\u001b[37m\u001b[0m \u001b[1m55s\u001b[0m 144ms/step - loss: 8.8684e-04 - mean_absolute_error: 0.0196 - val_loss: 7.3131e-04 - val_mean_absolute_error: 0.0181\n",
      "Epoch 29/100\n",
      "\u001b[1m384/384\u001b[0m \u001b[32m━━━━━━━━━━━━━━━━━━━━\u001b[0m\u001b[37m\u001b[0m \u001b[1m81s\u001b[0m 141ms/step - loss: 8.7078e-04 - mean_absolute_error: 0.0194 - val_loss: 7.3679e-04 - val_mean_absolute_error: 0.0181\n",
      "Epoch 30/100\n",
      "\u001b[1m384/384\u001b[0m \u001b[32m━━━━━━━━━━━━━━━━━━━━\u001b[0m\u001b[37m\u001b[0m \u001b[1m55s\u001b[0m 144ms/step - loss: 8.6997e-04 - mean_absolute_error: 0.0194 - val_loss: 7.2145e-04 - val_mean_absolute_error: 0.0180\n",
      "Epoch 31/100\n",
      "\u001b[1m384/384\u001b[0m \u001b[32m━━━━━━━━━━━━━━━━━━━━\u001b[0m\u001b[37m\u001b[0m \u001b[1m54s\u001b[0m 141ms/step - loss: 8.5521e-04 - mean_absolute_error: 0.0192 - val_loss: 7.4645e-04 - val_mean_absolute_error: 0.0193\n",
      "Epoch 32/100\n",
      "\u001b[1m384/384\u001b[0m \u001b[32m━━━━━━━━━━━━━━━━━━━━\u001b[0m\u001b[37m\u001b[0m \u001b[1m55s\u001b[0m 143ms/step - loss: 8.4688e-04 - mean_absolute_error: 0.0192 - val_loss: 7.0789e-04 - val_mean_absolute_error: 0.0178\n",
      "Epoch 33/100\n",
      "\u001b[1m384/384\u001b[0m \u001b[32m━━━━━━━━━━━━━━━━━━━━\u001b[0m\u001b[37m\u001b[0m \u001b[1m55s\u001b[0m 144ms/step - loss: 8.2566e-04 - mean_absolute_error: 0.0188 - val_loss: 8.5652e-04 - val_mean_absolute_error: 0.0204\n",
      "Epoch 34/100\n",
      "\u001b[1m384/384\u001b[0m \u001b[32m━━━━━━━━━━━━━━━━━━━━\u001b[0m\u001b[37m\u001b[0m \u001b[1m54s\u001b[0m 142ms/step - loss: 8.3273e-04 - mean_absolute_error: 0.0190 - val_loss: 6.4198e-04 - val_mean_absolute_error: 0.0168\n",
      "Epoch 35/100\n",
      "\u001b[1m384/384\u001b[0m \u001b[32m━━━━━━━━━━━━━━━━━━━━\u001b[0m\u001b[37m\u001b[0m \u001b[1m55s\u001b[0m 142ms/step - loss: 7.9811e-04 - mean_absolute_error: 0.0184 - val_loss: 7.2236e-04 - val_mean_absolute_error: 0.0181\n",
      "Epoch 36/100\n",
      "\u001b[1m384/384\u001b[0m \u001b[32m━━━━━━━━━━━━━━━━━━━━\u001b[0m\u001b[37m\u001b[0m \u001b[1m55s\u001b[0m 143ms/step - loss: 8.2952e-04 - mean_absolute_error: 0.0190 - val_loss: 6.6611e-04 - val_mean_absolute_error: 0.0172\n",
      "Epoch 37/100\n",
      "\u001b[1m384/384\u001b[0m \u001b[32m━━━━━━━━━━━━━━━━━━━━\u001b[0m\u001b[37m\u001b[0m \u001b[1m54s\u001b[0m 142ms/step - loss: 7.8930e-04 - mean_absolute_error: 0.0183 - val_loss: 7.5532e-04 - val_mean_absolute_error: 0.0187\n",
      "Epoch 38/100\n",
      "\u001b[1m384/384\u001b[0m \u001b[32m━━━━━━━━━━━━━━━━━━━━\u001b[0m\u001b[37m\u001b[0m \u001b[1m82s\u001b[0m 142ms/step - loss: 7.8183e-04 - mean_absolute_error: 0.0183 - val_loss: 7.3762e-04 - val_mean_absolute_error: 0.0185\n",
      "Epoch 39/100\n",
      "\u001b[1m384/384\u001b[0m \u001b[32m━━━━━━━━━━━━━━━━━━━━\u001b[0m\u001b[37m\u001b[0m \u001b[1m55s\u001b[0m 144ms/step - loss: 7.6919e-04 - mean_absolute_error: 0.0180 - val_loss: 7.8763e-04 - val_mean_absolute_error: 0.0195\n"
     ]
    },
    {
     "data": {
      "text/plain": [
       "({'Full-DNN': (0.0003, 0.011),\n",
       "  'RNN': (0.0003, 0.0102),\n",
       "  'LSTM': (0.0007, 0.019),\n",
       "  'AR_LSTM': (0.0008, 0.0195)},\n",
       " {'Full-DNN': (0.0003, 0.0104),\n",
       "  'RNN': (0.0003, 0.0099),\n",
       "  'LSTM': (0.0006, 0.0174),\n",
       "  'AR_LSTM': (0.0007, 0.0189)})"
      ]
     },
     "execution_count": 11,
     "metadata": {},
     "output_type": "execute_result"
    }
   ],
   "source": [
    "# パラメータ設定\n",
    "units = 32\n",
    "out_steps = w_ms.label_width\n",
    "num_features = len(w_ms.column_indices) \n",
    "\n",
    "# モデルのインスタンス化\n",
    "ar_lstm = AR_LSTM(units, out_steps, num_features)\n",
    "history = compile_and_fit(ar_lstm,w_ms)\n",
    "\n",
    "# 評価スコアを辞書に保存\n",
    "val_loss, val_mae = ar_lstm.evaluate(w_ms.val, verbose=0)\n",
    "test_loss, test_mae = ar_lstm.evaluate(w_ms.test, verbose=0)\n",
    "ms_val_performance[\"AR_LSTM\"] = (round(val_loss,4), round(val_mae,4))\n",
    "ms_test_performance[\"AR_LSTM\"] = (round(test_loss,4),round(test_mae,4))\n",
    "ms_val_performance,ms_test_performance"
   ]
  },
  {
   "cell_type": "code",
   "execution_count": 12,
   "id": "9ac83355",
   "metadata": {},
   "outputs": [
    {
     "data": {
      "image/png": "[encoded data removed]",
      "text/plain": [
       "<Figure size 640x480 with 1 Axes>"
      ]
     },
     "metadata": {},
     "output_type": "display_data"
    }
   ],
   "source": [
    "# MAE（1番目の指標）を抽出\n",
    "labels = list(ms_val_performance.keys())\n",
    "val_mae = [ms_val_performance[k][1] for k in labels]\n",
    "test_mae = [ms_test_performance[k][1] for k in labels]\n",
    "\n",
    "# 棒グラフの描画\n",
    "x = range(len(labels))\n",
    "width = 0.35\n",
    "\n",
    "fig, ax = plt.subplots()\n",
    "val_bars = ax.bar([i - width/2 for i in x], val_mae, width, label='Validation MAE')\n",
    "test_bars = ax.bar([i + width/2 for i in x], test_mae, width, label='Test MAE')\n",
    "\n",
    "# 数値ラベルの追加\n",
    "for bar in val_bars:\n",
    "    height = bar.get_height()\n",
    "    ax.text(bar.get_x() + bar.get_width()/2, height + 0.0005,\n",
    "            f'{height:.4f}', ha='center', va='bottom', fontsize=10)\n",
    "\n",
    "for bar in test_bars:\n",
    "    height = bar.get_height()\n",
    "    ax.text(bar.get_x() + bar.get_width()/2, height + 0.0005,\n",
    "            f'{height:.4f}', ha='center', va='bottom', fontsize=10)\n",
    "\n",
    "# 追加：Y軸の上限を調整して重なりを防ぐ\n",
    "max_val = max(max(val_mae), max(test_mae))\n",
    "ax.set_ylim(0, max_val + 0.005)\n",
    "\n",
    "# 軸・凡例設定\n",
    "ax.set_ylabel('MAE')\n",
    "ax.set_title('Validation and Test MAE by Multi Step Model')\n",
    "ax.set_xticks(x)\n",
    "ax.set_xticklabels(labels, fontsize=12, rotation=30)\n",
    "ax.legend()\n",
    "plt.tight_layout()\n",
    "plt.show()\n"
   ]
  },
  {
   "cell_type": "code",
   "execution_count": null,
   "id": "a2b1c345-cc79-488d-9b90-39ae688de169",
   "metadata": {},
   "outputs": [],
   "source": []
  }
 ],
 "metadata": {
  "colab": {
   "provenance": []
  },
  "kernelspec": {
   "display_name": "Python 3 (ipykernel)",
   "language": "python",
   "name": "python3"
  },
  "language_info": {
   "codemirror_mode": {
    "name": "ipython",
    "version": 3
   },
   "file_extension": ".py",
   "mimetype": "text/x-python",
   "name": "python",
   "nbconvert_exporter": "python",
   "pygments_lexer": "ipython3",
   "version": "3.11.9"
  }
 },
 "nbformat": 4,
 "nbformat_minor": 5
}
