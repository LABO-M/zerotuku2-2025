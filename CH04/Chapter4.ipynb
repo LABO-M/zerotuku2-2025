{
 "cells": [
  {
   "cell_type": "markdown",
   "id": "d0e327cb",
   "metadata": {},
   "source": [
    "# 4章　移動平均モデル"
   ]
  },
  {
   "cell_type": "markdown",
   "id": "a3945727",
   "metadata": {},
   "source": []
  }
 ],
 "metadata": {
  "language_info": {
   "name": "python"
  }
 },
 "nbformat": 4,
 "nbformat_minor": 5
}
