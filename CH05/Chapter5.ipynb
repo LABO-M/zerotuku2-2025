{
 "cells": [
  {
   "cell_type": "markdown",
   "id": "d6efefc3",
   "metadata": {},
   "source": [
    "# 5章　自己回帰モデル"
   ]
  },
  {
   "cell_type": "markdown",
   "id": "541deb1f",
   "metadata": {},
   "source": []
  }
 ],
 "metadata": {
  "language_info": {
   "name": "python"
  }
 },
 "nbformat": 4,
 "nbformat_minor": 5
}
