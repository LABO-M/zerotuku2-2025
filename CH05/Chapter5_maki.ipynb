{
 "cells": [
  {
   "cell_type": "markdown",
   "id": "4db0de41-d1af-43da-9810-48949b9c686b",
   "metadata": {},
   "source": [
    "## ５章　リカレントニューラルネットワーク（RNN）"
   ]
  },
  {
   "cell_type": "markdown",
   "id": "ccd99195-f3a4-4bb4-b028-9d8fbdb6a5ec",
   "metadata": {},
   "source": [
    "**フィードフォワード**\n",
    "\n",
    "　・流れが一方向のネットワークのこと\n",
    "\n",
    "　・入力信号が次の層（隠れ層）へ信号を伝達し、その信号を受けとった層は、次の層に伝達し・・・　という感じ。\n",
    "\n",
    " 　・単純な構成で、仕組みも理解しやすく、それでいて多くの問題に応用できる。\n",
    "\n",
    "→だた、時系列データをうまく扱えない。より正確に言うと、時系列データの性質を十分に学習することができない。"
   ]
  },
  {
   "cell_type": "markdown",
   "id": "cd9f2b0c-3028-4b49-9008-b35bf781d61c",
   "metadata": {},
   "source": [
    "ここで、登場したのが、*リカレントニューラルネットワーク（RNN）*。"
   ]
  },
  {
   "cell_type": "markdown",
   "id": "a8adb1de-7a9b-4c06-bb77-411425225ff1",
   "metadata": {},
   "source": [
    "##　5.1　確率と言語モデル"
   ]
  },
  {
   "cell_type": "markdown",
   "id": "1dcddc2e-f97f-4bf6-a451-442af3d9e7ee",
   "metadata": {},
   "source": [
    "**言語モデル**\n",
    "\n",
    "　・自然言語に関する現象を「確率」を用いて記述し、言語を確率として扱う。"
   ]
  },
  {
   "cell_type": "markdown",
   "id": "c8135c9d-ecab-4087-876b-cffe7320434a",
   "metadata": {},
   "source": [
    "<復習>　word2vecのCBOWモデル"
   ]
  },
  {
   "cell_type": "markdown",
   "id": "331ee9ff-4efb-4a86-9011-4661158ba3d8",
   "metadata": {},
   "source": [
    "##　5.2　RNNとは"
   ]
  },
  {
   "cell_type": "markdown",
   "id": "80d255ec-c4f2-4c58-b997-45eb01dc7136",
   "metadata": {},
   "source": [
    "**5.2.1　循環するニューラルネットワーク**\n",
    "\n",
    "　次のような、「RNNレイヤ」について考える。"
   ]
  },
  {
   "cell_type": "markdown",
   "id": "1a91d71d-f4aa-472c-be3f-19311256b3bf",
   "metadata": {},
   "source": [
    "<img src=\"zerotuku_chapter5_fig/図5-6.jpg\">"
   ]
  },
  {
   "cell_type": "markdown",
   "id": "62cc3059-b00e-4b1c-9b51-306c8a97e8db",
   "metadata": {},
   "source": [
    "　RNNレイヤは、ループする経路を持つ。このループによって、データがレイヤ内を循環する。\n",
    "\n",
    "　なお、$X_t$は、時刻tにおける入力で、ベクトルを想定。また、$h_t$はその出力。"
   ]
  },
  {
   "cell_type": "markdown",
   "id": "9a9219d1-9d6c-42f3-804d-126d72c6f9cc",
   "metadata": {},
   "source": [
    "**5.2 ループの展開**"
   ]
  },
  {
   "cell_type": "markdown",
   "id": "fef20a16-fc1c-455d-9dfb-450ccac44b2a",
   "metadata": {},
   "source": [
    "<img src=\"zerotuku_chapter5_fig/図5-8.jpg\">"
   ]
  },
  {
   "cell_type": "markdown",
   "id": "c6be2f2f-02ef-4e53-b588-51aa312ac162",
   "metadata": {},
   "source": [
    "　図のように、ループを展開することで一方向に進むニューラルネットワーク、つまり、フィードフォワード型ニューラルネットワークになる。\n",
    "\n",
    "　この構造を、構成する複数の「RNNレイヤ」が、すべて「同じRNNレイヤ」であることが、これまでのニューラルネットワークとは異なる点。\n",
    "\n",
    "　また、各時刻のRNNレイヤは、その入力の一つ前のRNNレイヤからの出力も受け取るので、その時刻の出力の計算は次のように行われる。\n",
    "\n",
    "　　　**$h_t = tanh(h_{t-1}W_h + x_tW_x + b)$**\n",
    "\n",
    "　$W_x$：入力ｘを出力ｈに変換するための重み。　　　$W_h$：一つ前のRNNの出力を次の時刻の出力に変換するための重み。　　　$b$：バイアス。\n",
    "\n",
    "　$h_{t-1}$、$x_t$：行ベクトル。"
   ]
  },
  {
   "cell_type": "markdown",
   "id": "31f9835c-8c8e-492e-b301-68143ff2e906",
   "metadata": {},
   "source": [
    "　この式から、RNNは$h$という「状態」をもっていて、上の式の形で更新される　とも解釈できる。\n",
    "\n",
    "　これが、RNNが「状態を持つレイヤ」、「メモリ・記憶力を持つレイヤ」と言われる所以である。"
   ]
  },
  {
   "cell_type": "markdown",
   "id": "23f2502d-af29-4ae4-9775-b93a271ebfef",
   "metadata": {},
   "source": [
    "**5.2.3　Backpropagation　Through Time**\n",
    "\n",
    "　RNNレイヤを展開することで、通常のニューラルネットワークと同じ手順で学習することができた。"
   ]
  },
  {
   "cell_type": "markdown",
   "id": "39ba4dda-3cc4-47cb-88d6-a7d5c348f679",
   "metadata": {},
   "source": [
    "<img src=\"zerotuku_chapter5_fig/図5-10.jpg\">"
   ]
  },
  {
   "cell_type": "markdown",
   "id": "02762103-096f-454d-83b5-279f5f84c325",
   "metadata": {},
   "source": [
    "　ループを展開した後のRNNは、通常の誤差逆伝播法を使うことができる。\n",
    "\n",
    "　ここでの、誤差逆伝播法は「時間方向に展開したニューラルネットワークの誤差逆伝播法」ということで、”**Backpropagation Through Time・BPTT**”と呼ばれる。\n",
    "\n",
    "　　→長い時系列データを学習する場合、データの時間サイズが大きくなるにつれてコンピュータの計算リソースが増加するのに加え、逆伝播時の勾配が不安定になる　という問題を抱えている。"
   ]
  },
  {
   "cell_type": "markdown",
   "id": "b9710df0-8c56-4adf-aaeb-81d8956e0234",
   "metadata": {},
   "source": [
    "**5.2.4　Truncated BPTT**\n",
    "\n",
    "　大きな時系列データに対して、ネットワークの繋がりを適当な長さで”断ち切る”。\n",
    "\n",
    "　その断ち切ってできた、小さなネットワークに対して、誤差逆伝播法を行う、これが”**Truncated BPTT**”。\n",
    "\n",
    "　ここで重要なのは、断ち切るのは「逆伝播」のつながりだけで、順伝播のつながりは維持されたままであるということ。\n",
    "\n",
    "　切り取られたネットワーク単位で学習する。"
   ]
  },
  {
   "cell_type": "markdown",
   "id": "d8686dfc-5416-4b89-97a3-38a34aad961e",
   "metadata": {},
   "source": [
    "<img src=\"zerotuku_chapter5_fig/図5-12.jpg\">"
   ]
  },
  {
   "cell_type": "markdown",
   "id": "67954bf6-970a-4c04-9a7c-155a2c00e4ca",
   "metadata": {},
   "source": [
    "<img src=\"zerotuku_chapter5_fig/図5-13.jpg\">"
   ]
  },
  {
   "cell_type": "markdown",
   "id": "9c2d52d5-70a5-4bd0-bd54-b866a8301e37",
   "metadata": {},
   "source": [
    "　2つの図を比較するとわかるように、順伝播の計算では前ブロックの隠れ状態$h_9$が必要である。\n",
    "\n",
    "　同じ要領で、3つ目以降のブロックに対しても直前のブロックの隠れ状態を利用することで、順伝播のつながりを維持することができる。"
   ]
  },
  {
   "cell_type": "markdown",
   "id": "c65a1260-5ac4-4511-ab2c-91a6ffa671f4",
   "metadata": {},
   "source": [
    "<img src=\"zerotuku_chapter5_fig/図5-14.jpg\">"
   ]
  },
  {
   "cell_type": "markdown",
   "id": "49f6b920-de66-4c43-8865-3a007b15da10",
   "metadata": {},
   "source": [
    "**5.2.5　Truncated BPTTのミニバッチ学習**\n",
    "\n",
    "　ここまでの話は、「バッチ」についてはかんがえていなかった。\n",
    "\n",
    "　本来であれば、バッチを考慮し、図5-14のようにシーケンシャルにデータを与える必要があった。\n",
    "\n",
    "　そのためには、データに与える開始位置を各バッチで”ズラす”必要がある。\n",
    "\n",
    " 例として、次の1000個のデータを見る。\n",
    "\n",
    "　バッチ数が２なら、開始位置を500だけズラしてあげる。"
   ]
  },
  {
   "cell_type": "markdown",
   "id": "c5d371d6-3281-4f1c-8236-9225c78899fa",
   "metadata": {},
   "source": [
    "<img src=\"zerotuku_chapter5_fig/図5-15.jpg\">"
   ]
  },
  {
   "cell_type": "markdown",
   "id": "a380989e-8e8f-41dc-ab65-de9f9f1badde",
   "metadata": {},
   "source": [
    "##　5.3　RNNの実装"
   ]
  },
  {
   "cell_type": "markdown",
   "id": "880debce-c01e-418b-8726-e0967cd9b9c0",
   "metadata": {},
   "source": [
    "**5.3.1　RNNレイヤの実装**"
   ]
  },
  {
   "cell_type": "code",
   "execution_count": 12,
   "id": "942f7a03-2b23-4239-8867-47635b944044",
   "metadata": {},
   "outputs": [],
   "source": [
    "import pandas as pd\n",
    "import matplotlib.pyplot as plt\n",
    "import numpy as np"
   ]
  },
  {
   "cell_type": "code",
   "execution_count": 13,
   "id": "e25d4c84-5d97-464b-bb61-509e32fa79f2",
   "metadata": {},
   "outputs": [],
   "source": [
    "#RNNレイヤの実装\n",
    "class RNN:\n",
    "    def __int__(self, Wx, Wh, b):    #引数として重み2つとバイアス１つ\n",
    "        self.params = [Wx, Wh, b]　　#引数をリスト化\n",
    "        self.grads = [np.zeros_like(Wx), np.zeros_like(Wh), np.zeros_like(b)]　#各パラメータに対応する形で勾配を初期化\n",
    "        self.cache = None　　　　　　　#逆伝播時の中間データを初期化\n",
    "\n",
    "    def forward(self, x, h_prev):\n",
    "        Wx, Wh, b = self.params\n",
    "        t = np.dot(h_prev, Wh) + np.dot(x, Wx) + b  #各層による重み付け\n",
    "        h_next = np.tanh(t)　　　　　　　　#次時刻のレイヤへの入力\n",
    "\n",
    "        self.cache = (x, h_prev, h_next)\n",
    "        return h_next"
   ]
  },
  {
   "cell_type": "markdown",
   "id": "d7f0ad6c-e4ed-47db-af00-f9e09a52f4d2",
   "metadata": {},
   "source": [
    "　続いて、逆伝播の実装に進みましょう。\n",
    "\n",
    "　次の図を参考に、コードを実装します。"
   ]
  },
  {
   "cell_type": "markdown",
   "id": "528fd4c3-0565-4831-81e2-8feb8347fab1",
   "metadata": {},
   "source": [
    "<img src=\"zerotuku_chapter5_fig/図5-20.jpg\">"
   ]
  },
  {
   "cell_type": "code",
   "execution_count": 15,
   "id": "0ea22e6e-ff5e-40ba-8618-58589568e9cb",
   "metadata": {},
   "outputs": [],
   "source": [
    "class RNN:\n",
    "    def backward(self, dh_next):\n",
    "        Wx, Wh, b = self.params\n",
    "        x, h_prev, h_next = self.cache\n",
    "\n",
    "        dt = dh_next * (1 - h_next ** 2)\n",
    "        db = np.sum(dt, axis=0)\n",
    "        dWh = np.dot(h_prev.T, dt)\n",
    "        dh_prev = np.dot(dt, Wh.T)\n",
    "        dWx = np.dot(x.T, dt)\n",
    "        dx = np.dot(dt, Wx.T)\n",
    "\n",
    "        self.grads[0][...] = dWx\n",
    "        self.grads[1][...] = dWh\n",
    "        self.grads[2][...] = db\n",
    "\n",
    "        return dx, dh_prev"
   ]
  },
  {
   "cell_type": "markdown",
   "id": "9edfc436-3016-4a64-8ed8-162043b75265",
   "metadata": {},
   "source": [
    "**5.3.2 Time RNNレイヤの実装**\n",
    "\n",
    "　Time RNNレイヤは、T個のRNNレイヤを連結したネットワーク。\n",
    "\n",
    "　隠れ状態$h$をメンバ変数として保持することで、隠れ状態の”引き継ぎ”を行えるようにする。"
   ]
  },
  {
   "cell_type": "markdown",
   "id": "01ad6b06-767b-47d3-86d4-0f864110aa5b",
   "metadata": {},
   "source": [
    "<img src=\"zerotuku_chapter5_fig/図5-22.jpg\">"
   ]
  },
  {
   "cell_type": "code",
   "execution_count": 19,
   "id": "1f0ec7ce-7cca-47bf-a9bf-2e324e689134",
   "metadata": {},
   "outputs": [],
   "source": [
    "class TimeRNN:\n",
    "    def __int__(self, Wx, Wh, b, stateful=False):\n",
    "        self.params = [Wx, Wh, b]\n",
    "        self.grads = [np.zeros_like(Wx), np.zeros_like(Wh), np.zeros_like(b)]\n",
    "        self.layers = None\n",
    "\n",
    "        self.h, self.dh = None, None\n",
    "        self.stateful = stateful\n",
    "\n",
    "    def set_state(self, h):\n",
    "        self.h = h\n",
    "\n",
    "    def reset_state(self):\n",
    "        self.h = None"
   ]
  },
  {
   "cell_type": "markdown",
   "id": "0192f5d1-da3a-40b7-9545-0afc73fc8e19",
   "metadata": {},
   "source": [
    "　続いて、順伝播の実装。"
   ]
  },
  {
   "cell_type": "code",
   "execution_count": 20,
   "id": "fdc58d9c-4333-4815-adf6-f69d019250eb",
   "metadata": {},
   "outputs": [],
   "source": [
    "class TimeRNN:\n",
    "    def forward(self, xs):           #xsは、T個の時系列データをひとつにまとめたもの\n",
    "        Wx, Wh, b = self.params\n",
    "        N, T, D = xs.shape　　　　　　#バッチサイズはN個、入力ベクトルの次元数D\n",
    "        D, H = Wx.shape\n",
    "\n",
    "        self.layers = []\n",
    "        hs = np.empty((N, T, H), dtype='f')　　　　　#出力用の”容器”\n",
    "\n",
    "        if not self.stateful or self.h is None:\n",
    "            self.h = np.zeros((N, H), dtype='f')\n",
    "\n",
    "       for t in range(T):\n",
    "           layers = RNN(*self.params)　　　　#RNNレイヤが各時刻の隠れ状態を計算\n",
    "           self.h = layer.forward(xs[:, t, :], self.h)\n",
    "           hs[:, t, :] = self.h\n",
    "           self.layers.append(layer)\n",
    "    \n",
    "       return hs"
   ]
  },
  {
   "cell_type": "markdown",
   "id": "05e1cafe-74ec-4dd4-9c01-12c6e54137c9",
   "metadata": {},
   "source": [
    "　続いて、Time RNNレイヤの逆伝播の実装。\n",
    "\n",
    "　先ほどのRNNの逆伝播の実装と同様に、次の図を参考に実装する。\n",
    "\n",
    "　ここでは、Truncated BPTTを考えるので、前の時刻の逆伝播は必要ない。ただし、前時刻への隠れ状態の勾配はメンバ変数の$dh$に保持することにする。"
   ]
  },
  {
   "cell_type": "markdown",
   "id": "20c7536d-5c10-4d66-9988-3e5c696977af",
   "metadata": {},
   "source": [
    "<img src=\"zerotuku_chapter5_fig/図5-23.jpg\">"
   ]
  },
  {
   "cell_type": "markdown",
   "id": "78108c10-955a-4996-b7c3-85f1fa303271",
   "metadata": {},
   "source": [
    "　$t$番目のRNNレイヤに着目すると、次の図のようになる。\n",
    "\n",
    "　上からの勾配$dh_t$と「ひとつ未来のレイヤ」からの勾配$dh_{next}$が伝わる。\n",
    "\n",
    "　つまり、RNNレイヤの順伝播では出力が2つに分岐しているということです。"
   ]
  },
  {
   "cell_type": "markdown",
   "id": "8dfcaf72-4feb-4212-9996-596707d8a4b4",
   "metadata": {},
   "source": [
    "<img src=\"zerotuku_chapter5_fig/図5-24.jpg\">"
   ]
  },
  {
   "cell_type": "code",
   "execution_count": 24,
   "id": "e43c3487-f84b-4f53-b199-6fa8307e2eb7",
   "metadata": {},
   "outputs": [],
   "source": [
    "class TimeRNN:\n",
    "    def backward(self, dhs):\n",
    "        Wx, Wh, b = self.params\n",
    "        N, T, H = dhs.shape\n",
    "        D, H = Wx.shape\n",
    "\n",
    "        dxs = np.empty((N, T, D), dtype='f')\n",
    "        dh = 0\n",
    "        grads = [0, 0, 0]\n",
    "        for t in reversed(range(T)):\n",
    "            layers = self.layers[t]\n",
    "            dx, dh = layers.backward(dhs[:, t, :] + dh)\n",
    "            dxs[:, t, :] = dx\n",
    "                    \n",
    "            for i, grad in enumerate(layer.grads):\n",
    "                grads[i] += grad\n",
    "\n",
    "        for i, grad in enumerate(grads):\n",
    "            self.grads[i][...] = grad\n",
    "        self.dh = dh\n",
    "\n",
    "        return dxs"
   ]
  },
  {
   "cell_type": "markdown",
   "id": "0950d930-cad4-4ec1-99cc-5c0ad55fb49d",
   "metadata": {},
   "source": [
    "　以上が、Time RNNレイヤの実装の説明でした。"
   ]
  },
  {
   "cell_type": "markdown",
   "id": "42f28922-c924-4503-9341-f1540ca4914e",
   "metadata": {},
   "source": [
    "##　5.4　時系列データを扱うレイヤの実装"
   ]
  },
  {
   "cell_type": "markdown",
   "id": "4963637d-55c1-4e9f-bdc4-082c78d16fba",
   "metadata": {},
   "source": [
    "　先ほどまでは、時系列データをまとめて処理するーTime RNNレイヤーを実装してきた。\n",
    "\n",
    "　ここからは、RNNによる言語モデルーRNN Language Model・RNNLMーを構成する"
   ]
  },
  {
   "cell_type": "markdown",
   "id": "f2988aa8-5a67-43ea-911b-693317c77fae",
   "metadata": {},
   "source": [
    "**5.4.1　RNNLMの全体図**\n",
    "\n",
    "　下の図が、最もシンプルなRNNLMのネットワーク図である。"
   ]
  },
  {
   "cell_type": "markdown",
   "id": "6db0619f-5570-4c67-8e74-b23d2f502b58",
   "metadata": {},
   "source": [
    "<img src=\"zerotuku_chapter5_fig/図5-25.jpg\">"
   ]
  },
  {
   "cell_type": "markdown",
   "id": "0d601aca-7f92-42c1-b752-380632057ffc",
   "metadata": {},
   "source": [
    "　Embeddingレイヤ　ー　単語IDを単語の分散表現(単語ベクトル)へと変換する。この分散表現が、RNNレイヤへ入力される。\n",
    "\n",
    "　RNNレイヤ　ー　隠れ状態を次の層(図の上方向)へ出力すると同時に、次時刻のRNNレイヤ(図の右方向)へ出力する。\n",
    "\n",
    "　RNNレイヤが出力した隠れ状態は、Affineレイヤを経て、Softmaxレイヤへ伝わる。\n",
    "\n",
    "　おなじみの「You say goodbye and I say hello」を用いて、ニューラルネットワークに対する順伝播を考える。\n",
    "\n",
    "　RNNLMが行う処理は、以下のようになる。"
   ]
  },
  {
   "cell_type": "markdown",
   "id": "ad65eca5-9415-4476-aa3b-065d764eb219",
   "metadata": {},
   "source": [
    "<img src=\"zerotuku_chapter5_fig/図5-26.jpg\">"
   ]
  },
  {
   "cell_type": "markdown",
   "id": "84363ea8-b4f0-491c-81a2-4dbdcfb5cdab",
   "metadata": {},
   "source": [
    "　最初の時刻に注目します。\n",
    "\n",
    "　ここでは、単語IDが０、つまり、「you」が入力される。\n",
    "\n",
    "　Softmaxレイヤによって出力される確率分布を見ると、「say」で最も高くなっている。\n",
    "\n",
    "　次に、「say」を入力する箇所を見ると、出力は「goodbye」と「hello」の２箇所で高くなっている。\n",
    "\n",
    "　これは、RNNレイヤは、「you say」という文脈を記憶しているということ。"
   ]
  },
  {
   "cell_type": "markdown",
   "id": "efc4aeec-1d8d-4ab5-9d03-ed419bc92a7c",
   "metadata": {},
   "source": [
    "**５.４.２　Timeレイヤの実装**\n",
    "\n",
    "　時系列データをまとめるとき同様、ここでも、Time EmbeddingレイヤやTime Affineレイヤという名前で実装する。"
   ]
  },
  {
   "cell_type": "code",
   "execution_count": 27,
   "id": "2a633821-229f-4d4f-92b8-322b4a5cf69b",
   "metadata": {},
   "outputs": [],
   "source": [
    "class TimeEmbedding:\n",
    "    def __init__(self, W):\n",
    "        self.params = [W]\n",
    "        self.grads = [np.zeros_like(W)]\n",
    "        self.layers = None\n",
    "        self.W = W\n",
    "\n",
    "    def forward(self, xs):\n",
    "        N, T = xs.shape\n",
    "        V, D = self.W.shape\n",
    "\n",
    "        out = np.empty((N, T, D), dtype='f')\n",
    "        self.layers = []\n",
    "\n",
    "        for t in range(T):\n",
    "            layer = Embedding(self.W)\n",
    "            out[:, t, :] = layer.forward(xs[:, t])\n",
    "            self.layers.append(layer)\n",
    "\n",
    "        return out\n",
    "\n",
    "    def backward(self, dout):\n",
    "        N, T, D = dout.shape\n",
    "\n",
    "        grad = 0\n",
    "        for t in range(T):\n",
    "            layer = self.layers[t]\n",
    "            layer.backward(dout[:, t, :])\n",
    "            grad += layer.grads[0]\n",
    "\n",
    "        self.grads[0][...] = grad\n",
    "        return None"
   ]
  },
  {
   "cell_type": "code",
   "execution_count": 28,
   "id": "6d66176c-3f52-4ca6-a9e4-b365ec73a692",
   "metadata": {},
   "outputs": [],
   "source": [
    "class TimeAffine:\n",
    "    def __init__(self, W, b):\n",
    "        self.params = [W, b]\n",
    "        self.grads = [np.zeros_like(W), np.zeros_like(b)]\n",
    "        self.x = None\n",
    "\n",
    "    def forward(self, x):\n",
    "        N, T, D = x.shape\n",
    "        W, b = self.params\n",
    "\n",
    "        rx = x.reshape(N*T, -1)\n",
    "        out = np.dot(rx, W) + b\n",
    "        self.x = x\n",
    "        return out.reshape(N, T, -1)\n",
    "\n",
    "    def backward(self, dout):\n",
    "        x = self.x\n",
    "        N, T, D = x.shape\n",
    "        W, b = self.params\n",
    "\n",
    "        dout = dout.reshape(N*T, -1)\n",
    "        rx = x.reshape(N*T, -1)\n",
    "\n",
    "        db = np.sum(dout, axis=0)\n",
    "        dW = np.dot(rx.T, dout)\n",
    "        dx = np.dot(dout, W.T)\n",
    "        dx = dx.reshape(*x.shape)\n",
    "\n",
    "        self.grads[0][...] = dW\n",
    "        self.grads[1][...] = db\n",
    "\n",
    "        return dx\n",
    "        "
   ]
  },
  {
   "cell_type": "markdown",
   "id": "f92a2286-08b3-4edf-9d0f-491c97284fcf",
   "metadata": {},
   "source": [
    "　Softmaxについては、損失誤差のCross Entropy Errorレイヤも合わせた、Time Softmax with Lossとして実装する。"
   ]
  },
  {
   "cell_type": "markdown",
   "id": "bb0b8655-2b8a-4f99-96bd-3acf72607be5",
   "metadata": {},
   "source": [
    "<img src=\"zerotuku_chapter5_fig/図5-29.jpg\">"
   ]
  },
  {
   "cell_type": "markdown",
   "id": "67a26252-13dd-4669-b1b8-2b0c84fa0d2c",
   "metadata": {},
   "source": [
    "　$x_0$や$x_1$などは、下の層から伝わる「スコア」を表す。また、$t_0$や$t_1$などは、正解ラベルを表す。\n",
    "\n",
    "　T個のSoftmax with Lossレイヤで、それぞれ損失を計算し、それらを合算、平均をとったものを最終的な損失とする。\n",
    "\n",
    "　　　　$L = \\frac{1}{T} (L_0 + L_1 + ・・・ + L_{T-1})$"
   ]
  },
  {
   "cell_type": "code",
   "execution_count": 30,
   "id": "4036cf58-b9f9-4af9-9d8e-bcdd521973c0",
   "metadata": {},
   "outputs": [],
   "source": [
    "class TimeSoftmaxWithLoss:\n",
    "    def __init__(self):\n",
    "        self.params, self.grads = [], []\n",
    "        self.cache = None\n",
    "        self.ignore_label = -1\n",
    "\n",
    "    def forward(self, xs, ts):\n",
    "        N, T, V = xs.shape\n",
    "\n",
    "        if ts.ndim == 3:  # 教師ラベルがone-hotベクトルの場合\n",
    "            ts = ts.argmax(axis=2)\n",
    "\n",
    "        mask = (ts != self.ignore_label)\n",
    "\n",
    "        # バッチ分と時系列分をまとめる（reshape）\n",
    "        xs = xs.reshape(N * T, V)\n",
    "        ts = ts.reshape(N * T)\n",
    "        mask = mask.reshape(N * T)\n",
    "\n",
    "        ys = softmax(xs)\n",
    "        ls = np.log(ys[np.arange(N * T), ts])\n",
    "        ls *= mask  # ignore_labelに該当するデータは損失を0にする\n",
    "        loss = -np.sum(ls)\n",
    "        loss /= mask.sum()\n",
    "\n",
    "        self.cache = (ts, ys, mask, (N, T, V))\n",
    "        return loss\n",
    "\n",
    "    def backward(self, dout=1):\n",
    "        ts, ys, mask, (N, T, V) = self.cache\n",
    "\n",
    "        dx = ys\n",
    "        dx[np.arange(N * T), ts] -= 1\n",
    "        dx *= dout\n",
    "        dx /= mask.sum()\n",
    "        dx *= mask[:, np.newaxis]  # ignore_labelに該当するデータは勾配を0にする\n",
    "\n",
    "        dx = dx.reshape((N, T, V))\n",
    "\n",
    "        return dx"
   ]
  },
  {
   "cell_type": "markdown",
   "id": "53bd3431-3d10-422a-aa1f-9302138d169d",
   "metadata": {},
   "source": [
    "## 5.5 RNNLMに学習と評価"
   ]
  },
  {
   "cell_type": "markdown",
   "id": "849c8d88-965d-4d0b-9254-0e998f93ec79",
   "metadata": {},
   "source": [
    "　RNNLMの実装に必要なレイヤは揃いました。\n",
    "\n",
    "　実際に、RNNレイヤを実装して、学習させてみましょう。"
   ]
  },
  {
   "cell_type": "markdown",
   "id": "15e1c559-9a93-4ac1-9c10-3da266415f4b",
   "metadata": {},
   "source": [
    "**５.５.１　RNNLMの実装**\n",
    "\n",
    "　RNNLMで使用するネットワークを”SimoleRnnlm”というクラスで実装する。\n",
    "\n",
    "　下の図は、SimpleRnnlmのレイヤ構成"
   ]
  },
  {
   "cell_type": "markdown",
   "id": "1390206e-3223-4c49-ad4b-796f21812d26",
   "metadata": {},
   "source": [
    "<img src=\"zerotuku_chapter5_fig/図5-30.jpg\">"
   ]
  },
  {
   "cell_type": "code",
   "execution_count": 44,
   "id": "2699902b-bdfd-4b03-9f68-3db39f543342",
   "metadata": {},
   "outputs": [],
   "source": [
    "import sys\n",
    "sys.path.append('..')\n",
    "import numpy as np\n",
    "from common.time_layers import *\n",
    "\n",
    "\n",
    "class SimpleRnnlm:\n",
    "    def __init__(self, vocab_size, wordvec_size, hidden_size):\n",
    "        V, D, H = vocab_size, wordvec_size, hidden_size\n",
    "        rn = np.random.randn\n",
    "\n",
    "        # 重みの初期化\n",
    "        embed_W = (rn(V, D) / 100).astype('f')\n",
    "        rnn_Wx = (rn(D, H) / np.sqrt(D)).astype('f')\n",
    "        rnn_Wh = (rn(H, H) / np.sqrt(H)).astype('f')\n",
    "        rnn_b = np.zeros(H).astype('f')\n",
    "        affine_W = (rn(H, V) / np.sqrt(H)).astype('f')\n",
    "        affine_b = np.zeros(V).astype('f')\n",
    "\n",
    "        # レイヤの生成\n",
    "        self.layers = [\n",
    "            TimeEmbedding(embed_W),\n",
    "            TimeRNN(rnn_Wx, rnn_Wh, rnn_b, stateful=True),\n",
    "            TimeAffine(affine_W, affine_b)\n",
    "        ]\n",
    "        self.loss_layer = TimeSoftmaxWithLoss()\n",
    "        self.rnn_layer = self.layers[1]\n",
    "\n",
    "        # すべての重みと勾配をリストにまとめる\n",
    "        self.params, self.grads = [], []\n",
    "        for layer in self.layers:\n",
    "            self.params += layer.params\n",
    "            self.grads += layer.grads\n",
    "\n",
    "    def forward(self, xs, ts):\n",
    "        for layer in self.layers:\n",
    "            xs = layer.forward(xs)\n",
    "        loss = self.loss_layer.forward(xs, ts)\n",
    "        return loss\n",
    "\n",
    "    def backward(self, dout=1):\n",
    "        dout = self.loss_layer.backward(dout)\n",
    "        for layer in reversed(self.layers):\n",
    "            dout = layer.backward(dout)\n",
    "        return dout\n",
    "\n",
    "    def reset_state(self):\n",
    "        self.rnn_layer.reset_state()"
   ]
  },
  {
   "cell_type": "markdown",
   "id": "4fef2d24-e785-416e-8bdf-336be806aa57",
   "metadata": {},
   "source": [
    " forrward()メソッド、backward()メソッド、reset_state()もまとめて実装する。"
   ]
  },
  {
   "cell_type": "markdown",
   "id": "dabf7e6f-a4f2-4d56-b79e-9c0f4b328c3b",
   "metadata": {},
   "source": [
    "**5.5.2 言語モデルの評価**\n",
    "\n",
    "　言語モデルの予測性能の良さを評価する指標として、パープレキシティがよく用いられる。簡単に言うと「確率の逆数」\n",
    "\n",
    "　　　perplexity = $e^L$、　　　　　　　\n",
    "   \n",
    "   　　　$L = -\\frac{1}{N} \\Sigma_{n} \\Sigma_{k} t_{nk} logy_{nk}$\n",
    "\n",
    "　　　　　$t_{nk}$：n個目のデータのk番目の値、　　　$y_{nk}$：確率分布\n",
    "\n",
    "　「you say goodbye and I say hello」を例に考える。\n",
    "\n",
    "　モデル１の言語モデルに、「you」を与えたとき、「say」が正解だとすると、その確率は0.8。\n",
    "\n",
    "　このときのパープレキシティは、$\\frac{1}{0.8} = 1.25$と計算できる。\n",
    "\n",
    "　パープレキシティは、小さければ小さいほどよい。また、パープレキシティの値は、「分岐数」と解釈できる。\n",
    "\n",
    "　ここで、分岐数とは、次に出現しうる単語の候補の数。"
   ]
  },
  {
   "cell_type": "markdown",
   "id": "da45adf1-5498-4bb5-9808-3b7e4721275e",
   "metadata": {},
   "source": [
    "<img src=\"zerotuku_chapter5_fig/図5-32.jpg\">"
   ]
  },
  {
   "cell_type": "markdown",
   "id": "4a5478b9-90cb-4da4-9ba1-00fe5e95ad9f",
   "metadata": {},
   "source": [
    "**5.5.3　RNNLMの学習コード**\n",
    "\n",
    "　PTBデータセットを用いて、RNNLMの学習を行う。\n",
    "\n",
    "　ただし、今回はデータの先頭1000個の単語だけ利用する。"
   ]
  },
  {
   "cell_type": "code",
   "execution_count": 48,
   "id": "8f6f95ee-270d-42e2-9141-d1a98ab1e185",
   "metadata": {},
   "outputs": [
    {
     "name": "stdout",
     "output_type": "stream",
     "text": [
      "Downloading ptb.train.txt ... \n",
      "Done\n",
      "corpus size: 1000, vocabulary size: 418\n",
      "| epoch 1 | perplexity 361.16\n",
      "| epoch 2 | perplexity 243.30\n",
      "| epoch 3 | perplexity 220.73\n",
      "| epoch 4 | perplexity 215.22\n",
      "| epoch 5 | perplexity 205.16\n",
      "| epoch 6 | perplexity 201.21\n",
      "| epoch 7 | perplexity 198.08\n",
      "| epoch 8 | perplexity 196.44\n",
      "| epoch 9 | perplexity 191.27\n",
      "| epoch 10 | perplexity 192.77\n",
      "| epoch 11 | perplexity 189.56\n",
      "| epoch 12 | perplexity 192.44\n",
      "| epoch 13 | perplexity 190.47\n",
      "| epoch 14 | perplexity 190.57\n",
      "| epoch 15 | perplexity 189.42\n",
      "| epoch 16 | perplexity 186.22\n",
      "| epoch 17 | perplexity 184.07\n",
      "| epoch 18 | perplexity 180.64\n",
      "| epoch 19 | perplexity 181.98\n",
      "| epoch 20 | perplexity 184.79\n",
      "| epoch 21 | perplexity 182.15\n",
      "| epoch 22 | perplexity 178.97\n",
      "| epoch 23 | perplexity 179.18\n",
      "| epoch 24 | perplexity 180.16\n",
      "| epoch 25 | perplexity 176.79\n",
      "| epoch 26 | perplexity 177.43\n",
      "| epoch 27 | perplexity 170.94\n",
      "| epoch 28 | perplexity 170.20\n",
      "| epoch 29 | perplexity 171.86\n",
      "| epoch 30 | perplexity 164.98\n",
      "| epoch 31 | perplexity 167.19\n",
      "| epoch 32 | perplexity 160.93\n",
      "| epoch 33 | perplexity 165.76\n",
      "| epoch 34 | perplexity 158.82\n",
      "| epoch 35 | perplexity 158.54\n",
      "| epoch 36 | perplexity 152.70\n",
      "| epoch 37 | perplexity 147.91\n",
      "| epoch 38 | perplexity 143.58\n",
      "| epoch 39 | perplexity 139.71\n",
      "| epoch 40 | perplexity 135.14\n",
      "| epoch 41 | perplexity 133.69\n",
      "| epoch 42 | perplexity 128.54\n",
      "| epoch 43 | perplexity 123.43\n",
      "| epoch 44 | perplexity 120.39\n",
      "| epoch 45 | perplexity 116.01\n",
      "| epoch 46 | perplexity 112.44\n",
      "| epoch 47 | perplexity 106.89\n",
      "| epoch 48 | perplexity 100.45\n",
      "| epoch 49 | perplexity 97.36\n",
      "| epoch 50 | perplexity 92.90\n",
      "| epoch 51 | perplexity 88.65\n",
      "| epoch 52 | perplexity 85.36\n",
      "| epoch 53 | perplexity 81.12\n",
      "| epoch 54 | perplexity 78.52\n",
      "| epoch 55 | perplexity 74.01\n",
      "| epoch 56 | perplexity 70.29\n",
      "| epoch 57 | perplexity 65.89\n",
      "| epoch 58 | perplexity 63.29\n",
      "| epoch 59 | perplexity 59.68\n",
      "| epoch 60 | perplexity 55.66\n",
      "| epoch 61 | perplexity 53.26\n",
      "| epoch 62 | perplexity 50.02\n",
      "| epoch 63 | perplexity 46.63\n",
      "| epoch 64 | perplexity 44.85\n",
      "| epoch 65 | perplexity 42.11\n",
      "| epoch 66 | perplexity 39.30\n",
      "| epoch 67 | perplexity 37.61\n",
      "| epoch 68 | perplexity 34.08\n",
      "| epoch 69 | perplexity 32.85\n",
      "| epoch 70 | perplexity 30.99\n",
      "| epoch 71 | perplexity 28.56\n",
      "| epoch 72 | perplexity 27.80\n",
      "| epoch 73 | perplexity 26.42\n",
      "| epoch 74 | perplexity 25.02\n",
      "| epoch 75 | perplexity 23.79\n",
      "| epoch 76 | perplexity 21.49\n",
      "| epoch 77 | perplexity 20.51\n",
      "| epoch 78 | perplexity 19.60\n",
      "| epoch 79 | perplexity 18.25\n",
      "| epoch 80 | perplexity 17.25\n",
      "| epoch 81 | perplexity 16.09\n",
      "| epoch 82 | perplexity 16.05\n",
      "| epoch 83 | perplexity 14.72\n",
      "| epoch 84 | perplexity 14.20\n",
      "| epoch 85 | perplexity 13.14\n",
      "| epoch 86 | perplexity 12.21\n",
      "| epoch 87 | perplexity 11.77\n",
      "| epoch 88 | perplexity 10.87\n",
      "| epoch 89 | perplexity 10.32\n",
      "| epoch 90 | perplexity 10.07\n",
      "| epoch 91 | perplexity 9.51\n",
      "| epoch 92 | perplexity 9.15\n",
      "| epoch 93 | perplexity 8.45\n",
      "| epoch 94 | perplexity 8.27\n",
      "| epoch 95 | perplexity 7.62\n",
      "| epoch 96 | perplexity 7.55\n",
      "| epoch 97 | perplexity 7.57\n",
      "| epoch 98 | perplexity 6.85\n",
      "| epoch 99 | perplexity 6.40\n",
      "| epoch 100 | perplexity 5.95\n"
     ]
    },
    {
     "data": {
      "image/png": "[encoded data removed]",
      "text/plain": [
       "<Figure size 640x480 with 1 Axes>"
      ]
     },
     "metadata": {},
     "output_type": "display_data"
    }
   ],
   "source": [
    "import sys\n",
    "sys.path.append('..')\n",
    "import matplotlib.pyplot as plt\n",
    "import numpy as np\n",
    "from common.optimizer import SGD\n",
    "from datasets import ptb\n",
    "from simple_rnnlm import SimpleRnnlm\n",
    "\n",
    "\n",
    "# ハイパーパラメータの設定\n",
    "batch_size = 10\n",
    "wordvec_size = 100\n",
    "hidden_size = 100\n",
    "time_size = 5  # Truncated BPTTの展開する時間サイズ\n",
    "lr = 0.1\n",
    "max_epoch = 100\n",
    "\n",
    "# 学習データの読み込み（データセットを小さくする）\n",
    "corpus, word_to_id, id_to_word = ptb.load_data('train')\n",
    "corpus_size = 1000\n",
    "corpus = corpus[:corpus_size]\n",
    "vocab_size = int(max(corpus) + 1)\n",
    "\n",
    "xs = corpus[:-1]  # 入力\n",
    "ts = corpus[1:]  # 出力（教師ラベル）\n",
    "data_size = len(xs)\n",
    "print('corpus size: %d, vocabulary size: %d' % (corpus_size, vocab_size))\n",
    "\n",
    "# 学習時に使用する変数\n",
    "max_iters = data_size // (batch_size * time_size)\n",
    "time_idx = 0\n",
    "total_loss = 0\n",
    "loss_count = 0\n",
    "ppl_list = []\n",
    "\n",
    "# モデルの生成\n",
    "model = SimpleRnnlm(vocab_size, wordvec_size, hidden_size)\n",
    "optimizer = SGD(lr)\n",
    "\n",
    "# ミニバッチの各サンプルの読み込み開始位置を計算\n",
    "jump = (corpus_size - 1) // batch_size\n",
    "offsets = [i * jump for i in range(batch_size)]\n",
    "\n",
    "for epoch in range(max_epoch):\n",
    "    for iter in range(max_iters):\n",
    "        # ミニバッチの取得\n",
    "        batch_x = np.empty((batch_size, time_size), dtype='i')\n",
    "        batch_t = np.empty((batch_size, time_size), dtype='i')\n",
    "        for t in range(time_size):\n",
    "            for i, offset in enumerate(offsets):\n",
    "                batch_x[i, t] = xs[(offset + time_idx) % data_size]\n",
    "                batch_t[i, t] = ts[(offset + time_idx) % data_size]\n",
    "            time_idx += 1\n",
    "\n",
    "        # 勾配を求め、パラメータを更新\n",
    "        loss = model.forward(batch_x, batch_t)\n",
    "        model.backward()\n",
    "        optimizer.update(model.params, model.grads)\n",
    "        total_loss += loss\n",
    "        loss_count += 1\n",
    "\n",
    "    # エポックごとにパープレキシティの評価\n",
    "    ppl = np.exp(total_loss / loss_count)\n",
    "    print('| epoch %d | perplexity %.2f'\n",
    "          % (epoch+1, ppl))\n",
    "    ppl_list.append(float(ppl))\n",
    "    total_loss, loss_count = 0, 0\n",
    "\n",
    "# グラフの描画\n",
    "x = np.arange(len(ppl_list))\n",
    "plt.plot(x, ppl_list, label='train')\n",
    "plt.xlabel('epochs')\n",
    "plt.ylabel('perplexity')\n",
    "plt.show()"
   ]
  },
  {
   "cell_type": "markdown",
   "id": "577d0962-2bab-41f7-81c8-2866818dbf61",
   "metadata": {},
   "source": [
    "　パープレキシティははじめ300を超えていたが、最後の方は1に近づいている。\n",
    "\n",
    "　ただ、今回は小さなデータセットを対象としていたが、コーパスが大きくなると太刀打ちできない。　　→　　次章で改良"
   ]
  },
  {
   "cell_type": "markdown",
   "id": "81e5296d-25bc-4f50-b13e-e7a024f2a72b",
   "metadata": {},
   "source": [
    "**5.5.4　RNNLMのTrainerクラス**\n",
    "\n",
    "　RNNLMTrainerを用いて、先ほどのコードを書き直す。"
   ]
  },
  {
   "cell_type": "code",
   "execution_count": 50,
   "id": "42552a56-5018-4341-b5c3-bd7f1334d0f3",
   "metadata": {},
   "outputs": [
    {
     "name": "stdout",
     "output_type": "stream",
     "text": [
      "| epoch 1 |  iter 1 / 19 | time 0[s] | perplexity 416.19\n",
      "| epoch 2 |  iter 1 / 19 | time 0[s] | perplexity 332.77\n",
      "| epoch 3 |  iter 1 / 19 | time 0[s] | perplexity 239.81\n",
      "| epoch 4 |  iter 1 / 19 | time 0[s] | perplexity 214.62\n",
      "| epoch 5 |  iter 1 / 19 | time 0[s] | perplexity 206.21\n",
      "| epoch 6 |  iter 1 / 19 | time 0[s] | perplexity 206.76\n",
      "| epoch 7 |  iter 1 / 19 | time 0[s] | perplexity 199.73\n",
      "| epoch 8 |  iter 1 / 19 | time 0[s] | perplexity 200.22\n",
      "| epoch 9 |  iter 1 / 19 | time 0[s] | perplexity 194.69\n",
      "| epoch 10 |  iter 1 / 19 | time 0[s] | perplexity 190.37\n",
      "| epoch 11 |  iter 1 / 19 | time 0[s] | perplexity 192.75\n",
      "| epoch 12 |  iter 1 / 19 | time 0[s] | perplexity 189.88\n",
      "| epoch 13 |  iter 1 / 19 | time 0[s] | perplexity 193.57\n",
      "| epoch 14 |  iter 1 / 19 | time 0[s] | perplexity 187.25\n",
      "| epoch 15 |  iter 1 / 19 | time 0[s] | perplexity 186.90\n",
      "| epoch 16 |  iter 1 / 19 | time 0[s] | perplexity 190.59\n",
      "| epoch 17 |  iter 1 / 19 | time 0[s] | perplexity 189.33\n",
      "| epoch 18 |  iter 1 / 19 | time 0[s] | perplexity 184.12\n",
      "| epoch 19 |  iter 1 / 19 | time 0[s] | perplexity 180.21\n",
      "| epoch 20 |  iter 1 / 19 | time 0[s] | perplexity 181.72\n",
      "| epoch 21 |  iter 1 / 19 | time 0[s] | perplexity 178.23\n",
      "| epoch 22 |  iter 1 / 19 | time 0[s] | perplexity 180.35\n",
      "| epoch 23 |  iter 1 / 19 | time 0[s] | perplexity 179.88\n",
      "| epoch 24 |  iter 1 / 19 | time 0[s] | perplexity 178.26\n",
      "| epoch 25 |  iter 1 / 19 | time 0[s] | perplexity 170.82\n",
      "| epoch 26 |  iter 1 / 19 | time 0[s] | perplexity 174.32\n",
      "| epoch 27 |  iter 1 / 19 | time 0[s] | perplexity 169.32\n",
      "| epoch 28 |  iter 1 / 19 | time 0[s] | perplexity 172.93\n",
      "| epoch 29 |  iter 1 / 19 | time 0[s] | perplexity 163.97\n",
      "| epoch 30 |  iter 1 / 19 | time 0[s] | perplexity 162.48\n",
      "| epoch 31 |  iter 1 / 19 | time 0[s] | perplexity 163.51\n",
      "| epoch 32 |  iter 1 / 19 | time 0[s] | perplexity 154.67\n",
      "| epoch 33 |  iter 1 / 19 | time 0[s] | perplexity 156.24\n",
      "| epoch 34 |  iter 1 / 19 | time 0[s] | perplexity 155.25\n",
      "| epoch 35 |  iter 1 / 19 | time 1[s] | perplexity 149.40\n",
      "| epoch 36 |  iter 1 / 19 | time 1[s] | perplexity 149.88\n",
      "| epoch 37 |  iter 1 / 19 | time 1[s] | perplexity 146.13\n",
      "| epoch 38 |  iter 1 / 19 | time 1[s] | perplexity 139.22\n",
      "| epoch 39 |  iter 1 / 19 | time 1[s] | perplexity 138.66\n",
      "| epoch 40 |  iter 1 / 19 | time 1[s] | perplexity 133.01\n",
      "| epoch 41 |  iter 1 / 19 | time 1[s] | perplexity 125.82\n",
      "| epoch 42 |  iter 1 / 19 | time 1[s] | perplexity 127.60\n",
      "| epoch 43 |  iter 1 / 19 | time 1[s] | perplexity 119.79\n",
      "| epoch 44 |  iter 1 / 19 | time 1[s] | perplexity 119.32\n",
      "| epoch 45 |  iter 1 / 19 | time 1[s] | perplexity 110.54\n",
      "| epoch 46 |  iter 1 / 19 | time 1[s] | perplexity 110.45\n",
      "| epoch 47 |  iter 1 / 19 | time 1[s] | perplexity 106.20\n",
      "| epoch 48 |  iter 1 / 19 | time 1[s] | perplexity 105.49\n",
      "| epoch 49 |  iter 1 / 19 | time 1[s] | perplexity 98.96\n",
      "| epoch 50 |  iter 1 / 19 | time 1[s] | perplexity 93.15\n",
      "| epoch 51 |  iter 1 / 19 | time 1[s] | perplexity 90.75\n",
      "| epoch 52 |  iter 1 / 19 | time 1[s] | perplexity 86.87\n",
      "| epoch 53 |  iter 1 / 19 | time 1[s] | perplexity 82.97\n",
      "| epoch 54 |  iter 1 / 19 | time 1[s] | perplexity 79.67\n",
      "| epoch 55 |  iter 1 / 19 | time 1[s] | perplexity 76.58\n",
      "| epoch 56 |  iter 1 / 19 | time 1[s] | perplexity 72.57\n",
      "| epoch 57 |  iter 1 / 19 | time 1[s] | perplexity 71.55\n",
      "| epoch 58 |  iter 1 / 19 | time 1[s] | perplexity 66.07\n",
      "| epoch 59 |  iter 1 / 19 | time 1[s] | perplexity 63.69\n",
      "| epoch 60 |  iter 1 / 19 | time 1[s] | perplexity 59.57\n",
      "| epoch 61 |  iter 1 / 19 | time 1[s] | perplexity 55.53\n",
      "| epoch 62 |  iter 1 / 19 | time 1[s] | perplexity 53.46\n",
      "| epoch 63 |  iter 1 / 19 | time 1[s] | perplexity 51.83\n",
      "| epoch 64 |  iter 1 / 19 | time 1[s] | perplexity 49.31\n",
      "| epoch 65 |  iter 1 / 19 | time 1[s] | perplexity 45.31\n",
      "| epoch 66 |  iter 1 / 19 | time 1[s] | perplexity 42.82\n",
      "| epoch 67 |  iter 1 / 19 | time 1[s] | perplexity 41.14\n",
      "| epoch 68 |  iter 1 / 19 | time 1[s] | perplexity 38.89\n",
      "| epoch 69 |  iter 1 / 19 | time 2[s] | perplexity 37.20\n",
      "| epoch 70 |  iter 1 / 19 | time 2[s] | perplexity 34.39\n",
      "| epoch 71 |  iter 1 / 19 | time 2[s] | perplexity 34.21\n",
      "| epoch 72 |  iter 1 / 19 | time 2[s] | perplexity 31.44\n",
      "| epoch 73 |  iter 1 / 19 | time 2[s] | perplexity 29.95\n",
      "| epoch 74 |  iter 1 / 19 | time 2[s] | perplexity 27.28\n",
      "| epoch 75 |  iter 1 / 19 | time 2[s] | perplexity 26.92\n",
      "| epoch 76 |  iter 1 / 19 | time 2[s] | perplexity 25.58\n",
      "| epoch 77 |  iter 1 / 19 | time 2[s] | perplexity 24.16\n",
      "| epoch 78 |  iter 1 / 19 | time 2[s] | perplexity 22.23\n",
      "| epoch 79 |  iter 1 / 19 | time 2[s] | perplexity 21.47\n",
      "| epoch 80 |  iter 1 / 19 | time 2[s] | perplexity 19.41\n",
      "| epoch 81 |  iter 1 / 19 | time 2[s] | perplexity 19.02\n",
      "| epoch 82 |  iter 1 / 19 | time 2[s] | perplexity 18.49\n",
      "| epoch 83 |  iter 1 / 19 | time 2[s] | perplexity 17.07\n",
      "| epoch 84 |  iter 1 / 19 | time 2[s] | perplexity 16.39\n",
      "| epoch 85 |  iter 1 / 19 | time 2[s] | perplexity 15.75\n",
      "| epoch 86 |  iter 1 / 19 | time 2[s] | perplexity 14.74\n",
      "| epoch 87 |  iter 1 / 19 | time 2[s] | perplexity 13.95\n",
      "| epoch 88 |  iter 1 / 19 | time 2[s] | perplexity 12.61\n",
      "| epoch 89 |  iter 1 / 19 | time 2[s] | perplexity 12.65\n",
      "| epoch 90 |  iter 1 / 19 | time 2[s] | perplexity 11.93\n",
      "| epoch 91 |  iter 1 / 19 | time 2[s] | perplexity 11.24\n",
      "| epoch 92 |  iter 1 / 19 | time 2[s] | perplexity 10.34\n",
      "| epoch 93 |  iter 1 / 19 | time 2[s] | perplexity 9.91\n",
      "| epoch 94 |  iter 1 / 19 | time 2[s] | perplexity 10.20\n",
      "| epoch 95 |  iter 1 / 19 | time 2[s] | perplexity 9.94\n",
      "| epoch 96 |  iter 1 / 19 | time 2[s] | perplexity 9.42\n",
      "| epoch 97 |  iter 1 / 19 | time 2[s] | perplexity 8.49\n",
      "| epoch 98 |  iter 1 / 19 | time 2[s] | perplexity 7.94\n",
      "| epoch 99 |  iter 1 / 19 | time 2[s] | perplexity 7.81\n",
      "| epoch 100 |  iter 1 / 19 | time 2[s] | perplexity 7.09\n"
     ]
    },
    {
     "data": {
      "image/png": "[encoded data removed]",
      "text/plain": [
       "<Figure size 640x480 with 1 Axes>"
      ]
     },
     "metadata": {},
     "output_type": "display_data"
    }
   ],
   "source": [
    "# coding: utf-8\n",
    "import sys\n",
    "sys.path.append('..')\n",
    "from common.optimizer import SGD\n",
    "from common.trainer import RnnlmTrainer\n",
    "from datasets import ptb\n",
    "from simple_rnnlm import SimpleRnnlm\n",
    "\n",
    "\n",
    "# ハイパーパラメータの設定\n",
    "batch_size = 10\n",
    "wordvec_size = 100\n",
    "hidden_size = 100  # RNNの隠れ状態ベクトルの要素数\n",
    "time_size = 5  # RNNを展開するサイズ\n",
    "lr = 0.1\n",
    "max_epoch = 100\n",
    "\n",
    "# 学習データの読み込み\n",
    "corpus, word_to_id, id_to_word = ptb.load_data('train')\n",
    "corpus_size = 1000  # テスト用にデータセットを小さくする\n",
    "corpus = corpus[:corpus_size]\n",
    "vocab_size = int(max(corpus) + 1)\n",
    "xs = corpus[:-1]  # 入力\n",
    "ts = corpus[1:]  # 出力（教師ラベル）\n",
    "\n",
    "# モデルの生成\n",
    "model = SimpleRnnlm(vocab_size, wordvec_size, hidden_size)\n",
    "optimizer = SGD(lr)\n",
    "trainer = RnnlmTrainer(model, optimizer)\n",
    "\n",
    "trainer.fit(xs, ts, max_epoch, batch_size, time_size)\n",
    "trainer.plot()"
   ]
  },
  {
   "cell_type": "markdown",
   "id": "c0cd5075-4d6f-4a68-a12f-2d9e1e6b86de",
   "metadata": {},
   "source": [
    "##　5.6　まとめ"
   ]
  },
  {
   "cell_type": "markdown",
   "id": "af3f3bea-9af0-431d-a7e8-7333509f6bb4",
   "metadata": {},
   "source": [
    "　本章では、RNNレイヤ、およびTime RNNレイヤを実装した。\n",
    "\n",
    "　RNNはデータを循環させることで、過去から現在、未来へとデータを継続して流す。\n",
    "\n",
    "　RNNレイヤ内部に「隠れ状態」を記憶する能力を得る。\n",
    "\n",
    "　それらを利用して、言語モデルを作成した。\n",
    "\n",
    "　RNNを利用したニューラルネットワークを構成することで、”理論的には”どれだけ長い時系列データであっても重要な情報をRNNの隠れ状態に記憶することが可能になる。\n",
    "\n",
    "　ただ、実際にはうまくいかないケースが多々ある。　　　→　　　新しいレイヤ　ー　LSTMレイヤやGPUレイヤ　ー　の登場。"
   ]
  },
  {
   "cell_type": "code",
   "execution_count": null,
   "id": "252db2d0-45f2-421d-80a0-f1f326b42055",
   "metadata": {},
   "outputs": [],
   "source": []
  }
 ],
 "metadata": {
  "kernelspec": {
   "display_name": "Python 3 (ipykernel)",
   "language": "python",
   "name": "python3"
  },
  "language_info": {
   "codemirror_mode": {
    "name": "ipython",
    "version": 3
   },
   "file_extension": ".py",
   "mimetype": "text/x-python",
   "name": "python",
   "nbconvert_exporter": "python",
   "pygments_lexer": "ipython3",
   "version": "3.11.9"
  }
 },
 "nbformat": 4,
 "nbformat_minor": 5
}
