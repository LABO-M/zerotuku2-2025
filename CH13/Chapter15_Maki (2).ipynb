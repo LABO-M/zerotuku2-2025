{
 "cells": [
  {
   "cell_type": "markdown",
   "id": "e284a9b2-a0c1-458a-8410-0d4f80a478d9",
   "metadata": {},
   "source": [
    "## 第15章　LSTMで過去を記憶する"
   ]
  },
  {
   "cell_type": "markdown",
   "id": "e5ef951c-d9df-4297-ada4-519185c4ab7a",
   "metadata": {},
   "source": [
    "前章まででは、ディープラーニングモデルを構築し、線形ニューラルネットワークモデルとディープニューラルネットワーク（DNN）モデルを実装した。\n",
    "\n",
    "本章では、**リカレントニューラルネットワーク**（**RNN**）の一形態である**長短期記憶**（**LSTM**）を調べる。"
   ]
  },
  {
   "cell_type": "markdown",
   "id": "4072c117-d864-4046-896b-1ff5e0c10949",
   "metadata": {},
   "source": [
    "## 15.1　リカレントニューラルネットワーク（RNN）を探索する"
   ]
  },
  {
   "cell_type": "markdown",
   "id": "4ea9418e-e285-4f9b-8508-abae3a6bd3f3",
   "metadata": {},
   "source": [
    "**リカレントニューラルネットワーク(Recurrent Neural Network:RNN)**\n",
    "\n",
    "　データシーケンスの処理に適したディープラーニングアーキテクチャ。「順序」が重要なデータに向いている。\n",
    "\n",
    "　RNNはネットワークに入力として戻される隠れ状態を使うため、シーケンスの次の要素を処理するときに過去の情報を入力として使うことができる。現在の入力と過去の状態をもとに情報を更新し、系列データの”文脈”や”記憶”を保持する。\n",
    "\n",
    "　　$h_t = tanh(W_xx_t + W_hh_{t-1} +b)$\n",
    "\n",
    "　ただ、RNNは短期記憶の問題がある。遠い過去の情報は影響力を持たなくなる。　→　LSTMやGPUの開発\n",
    "\n",
    "　自然言語処理などに応用されている。"
   ]
  },
  {
   "cell_type": "markdown",
   "id": "aa1bdcfa-a3fd-42b4-b6f4-e8997628f841",
   "metadata": {},
   "source": [
    "<img src=\"IMG_6083.jpg\">"
   ]
  },
  {
   "cell_type": "markdown",
   "id": "e5f4c007-e527-4219-b472-db8c4ec0b917",
   "metadata": {},
   "source": [
    "<img src=\"IMG_6084.jpg\">"
   ]
  },
  {
   "cell_type": "markdown",
   "id": "88fdf8b1-f2bc-4c1f-9f68-eacbedcba455",
   "metadata": {},
   "source": [
    "**BPTT(Back Propagation Through Time)**\n",
    "\n",
    "時間方向に展開されたRNN構造に対して、通常の誤差逆伝播を”時間に遡って”行う手法。\n",
    "\n",
    "　　$\\frac{\\partial}{\\partial h_s} MSE = \\frac{\\partial h_{s+1}}{\\partial h_s} \\frac{\\partial}{\\partial h_{s+1}} MSE$ \n",
    "$  \\to  $\n",
    "$\\frac{\\partial}{\\partial h_s} \\mathrm{MSE}\n",
    "= \\left( \\prod_{u=s}^{t-1} \\frac{\\partial h_{u+1}}{\\partial h_u} \\right)\n",
    "\\cdot \\frac{\\partial}{\\partial h_t} \\mathrm{MSE}$\n",
    "\n",
    "$\\left( \\prod_{u=s}^{t-1} \\frac{\\partial h_{u+1}}{\\partial h_u} \\right) \\cdot $は過去になればなるほど小さくなる。　$\\to$ 勾配消失\n",
    "\n",
    "長い系列を通して、初期の入力や状態の影響が出力の学習に反映されなくなる。このため、長期依存関係の学習が困難。"
   ]
  },
  {
   "cell_type": "markdown",
   "id": "f9ec9c73-dfe2-4229-b45e-75717af3c929",
   "metadata": {},
   "source": [
    "## 15.2 LSTMアーキテクチャを調べる"
   ]
  },
  {
   "cell_type": "markdown",
   "id": "cd91dc83-7e5d-4dc5-a318-2566b323b210",
   "metadata": {},
   "source": [
    "**長短期記憶(Long Short-Term Memory:LSTM)**\n",
    "\n",
    "　RNNのサブタイプであるディープラーニングアーキテクチャ。RNNにセル状態を追加したもの。　→ 勾配消失問題の回避につながる。\n",
    " \n",
    "　セル状態を追加することで短期記憶の問題に対処する。過去の情報がより長い期間にわたってネットワークに流れるようになる。\n",
    " \n",
    "　LSTMは次の３つのゲートかで構成される。\n",
    " \n",
    "　　・忘却ゲート　：　過去ステップのどの情報がまだ妥当であるかを判断\n",
    "  \n",
    "　　・入力ゲート　：　現在ステップのどの情報が妥当であるかを判断\n",
    "  \n",
    "　　・出力ゲート　：　どの情報がシーケンスの次の要素に渡されるか、または結果として出力層に渡されるかを決定"
   ]
  },
  {
   "cell_type": "markdown",
   "id": "619b03f8-163b-49ba-a429-0648fdbe4ea5",
   "metadata": {},
   "source": [
    "$C_t = f_t \\cdot C_{t-1} + i_t \\cdot \\tilde{C}_t$\n",
    "\n",
    "　$C_t$：現在のセル状態　　$C_{t-1}$前のセル状態　　$f_t$：忘却ゲートの出力\n",
    "\n",
    "　$i_t$：入力ゲートの出力　　$\\tilde{C}_t$：新しい記憶候補"
   ]
  },
  {
   "cell_type": "markdown",
   "id": "08bede3e-512a-4e95-aba0-23d540978000",
   "metadata": {},
   "source": [
    "<img src=\"IMG_6092.jpg\">"
   ]
  },
  {
   "cell_type": "markdown",
   "id": "970f27ae-ed6b-4d9b-88a5-6914145cd820",
   "metadata": {},
   "source": [
    "**忘却ゲート**\n",
    "\n",
    "LSTMの最初のゲートでシーケンスの過去の値と現在の値の両方に対して、忘れるべき情報とネットワークに残しておくべき情報を判断する。\n",
    "\n",
    "現在の要素と過去の情報を結合し、複製する。\n",
    "\n",
    "一方は、そのまま次のゲート(入力ゲート)に渡される。\n",
    "\n",
    "もう一方はSigmoid関数\\sigma(x)を通過し、過去のセル状態と結合し、更新されたセル状態を生成する。\n",
    "\n",
    "　　$f_t = \\sigma \\left( W_f \\begin{bmatrix} h_{t-1} \\\\ x_t \\end{bmatrix} + b_f \\right)$"
   ]
  },
  {
   "cell_type": "markdown",
   "id": "9dde2c00-37bd-47ed-8262-d25d01861259",
   "metadata": {},
   "source": [
    "<img src=\"IMG_0370.jpg\">"
   ]
  },
  {
   "cell_type": "markdown",
   "id": "19851c58-9c71-40ba-868b-0778a486a98e",
   "metadata": {},
   "source": [
    "**入力ゲート**\n",
    "\n",
    "シーケンスの現在の要素からの情報のうちどれが妥当であるかをネットワークが判断する。\n",
    "\n",
    "忘却ゲートから送られてきた過去の隠れ状態とシーケンスの現在の要素の組み合わせが渡され、複製される。\n",
    "\n",
    "１つ目のコピーは、次のゲート(出力ゲート)に向かう。\n",
    "\n",
    "２つ目のコピーは、Sigmoid関数を通過し、情報を残すかを決定する。\n",
    "\n",
    "３つ目のコピーは、tanh関数を通過し、計算を効率化するためにネットワークを調整する。\n",
    "\n",
    "２つの演算の結果を点ごとの乗算を使って結合し、その結果をセル状態に加算し、情報を更新する。\n",
    "\n",
    "　　$i_t = \\sigma \\left( W_i \\begin{bmatrix} h_{t-1} \\\\ x_t \\end{bmatrix} + b_i \\right)$\n",
    "\n",
    "　　$\\tilde{C}_t = \\tanh \\left( W_c \\begin{bmatrix} h_{t-1} \\\\ x_t \\end{bmatrix} + b_c \\right)$\n"
   ]
  },
  {
   "cell_type": "markdown",
   "id": "bb107670-f69b-4105-9e22-a64fe647a3b3",
   "metadata": {},
   "source": [
    "<img src=\"IMG_0371.jpg\">"
   ]
  },
  {
   "cell_type": "markdown",
   "id": "36e5b140-d14b-4115-8bb4-8cd28fcbe4cf",
   "metadata": {},
   "source": [
    "**出力ゲート**\n",
    "\n",
    "入力ゲートから送られてきた過去の隠れ状態とシーケンスの現在の要素が関数に渡される。\n",
    "\n",
    "過去の情報(セル状態$C_t$)が関数に渡される。\n",
    "\n",
    "これら２つの出力が点ごとの乗算を使って結合され、新たな隠れ層が出力される。\n",
    "\n",
    "この新たな隠れ層をLSTMニューロンまたは、出力層に渡される。同時にセル状態も出力される。\n",
    "\n",
    "　　$o_t = \\sigma \\left( W_o \\begin{bmatrix} h_{t-1} \\\\ x_t \\end{bmatrix} + b_o \\right)$"
   ]
  },
  {
   "cell_type": "markdown",
   "id": "e6a31e0e-a850-4c4b-99a5-02aca1ed80cf",
   "metadata": {},
   "source": [
    "<img src=\"IMG_0372.jpg\">"
   ]
  },
  {
   "cell_type": "markdown",
   "id": "25cf17c2-c231-48f9-a4dc-14530140406b",
   "metadata": {},
   "source": [
    "## 15.3　LSTMアーキテクチャを実装する"
   ]
  },
  {
   "cell_type": "code",
   "execution_count": 35,
   "id": "25fbd053",
   "metadata": {
    "colab": {
     "base_uri": "https://localhost:8080/"
    },
    "id": "25fbd053",
    "outputId": "11a0e966-defa-4996-b7a0-d5977bc55756"
   },
   "outputs": [
    {
     "name": "stdout",
     "output_type": "stream",
     "text": [
      "2.17.0\n",
      "GPU Available: []\n",
      "(12285, 5) (3510, 5) (1756, 5)\n",
      "{'temp': 0, 'clouds_all': 1, 'traffic_volume': 2, 'day_sin': 3, 'day_cos': 4}\n"
     ]
    }
   ],
   "source": [
    "import datetime\n",
    "import statsmodels.api as sm\n",
    "import numpy as np\n",
    "import pandas as pd\n",
    "from sklearn.preprocessing import MinMaxScaler\n",
    "\n",
    "from sklearn.metrics import mean_squared_error, mean_absolute_error\n",
    "from statsmodels.graphics.tsaplots import plot_acf, plot_pacf\n",
    "from statsmodels.stats.diagnostic import acorr_ljungbox\n",
    "from statsmodels.tsa.statespace.sarimax import SARIMAX\n",
    "from statsmodels.tsa.seasonal import seasonal_decompose\n",
    "from statsmodels.tsa.seasonal import STL\n",
    "from statsmodels.tsa.arima_process import ArmaProcess\n",
    "from statsmodels.graphics.gofplots import qqplot\n",
    "from statsmodels.tsa.stattools import adfuller\n",
    "\n",
    "import tensorflow as tf\n",
    "from tensorflow.keras import layers,Model, Sequential\n",
    "from tensorflow.keras.optimizers import Adam\n",
    "from tensorflow.keras.callbacks import EarlyStopping\n",
    "from tensorflow.keras.losses import MeanSquaredError\n",
    "from tensorflow.keras.metrics import MeanAbsoluteError\n",
    "from tensorflow.keras.layers import Dense, Flatten, Reshape,Dropout, BatchNormalization, Conv1D, LSTM, Lambda, Reshape, RNN, LSTMCell\n",
    "from tensorflow.keras.layers import SimpleRNN\n",
    "tf.random.set_seed(42)\n",
    "np.random.seed(42)\n",
    "print(tf.__version__)\n",
    "print(\"GPU Available:\", tf.config.list_physical_devices('GPU'))\n",
    "\n",
    "from tqdm import tqdm_notebook\n",
    "from itertools import product\n",
    "from typing import Union\n",
    "import importlib.util\n",
    "import sys\n",
    "# japanize-matplotlib が未インストールなら pip install\n",
    "if importlib.util.find_spec(\"japanize_matplotlib\") is None:\n",
    "  !pip install japanize-matplotlib\n",
    "# 必要なライブラリのインポート\n",
    "import matplotlib.pyplot as plt\n",
    "import japanize_matplotlib\n",
    "import seaborn as sns\n",
    "\n",
    "from CH13_14 import DataWindow,BaselineModel,model_predict,plot_model_prediction,compile_and_fit\n",
    "\n",
    "# CH12のデータのロード from GitHubのrawデータURL\n",
    "u1 = \"https://raw.githubusercontent.com/CS-Advanced/DATA/main/CH1213_train.csv\"\n",
    "u2 = \"https://raw.githubusercontent.com/CS-Advanced/DATA/main/CH1213_val.csv\"\n",
    "u3 = \"https://raw.githubusercontent.com/CS-Advanced/DATA/main/CH1213_test.csv\"\n",
    "# データの読み込み\n",
    "train_df = pd.read_csv(u1)\n",
    "val_df = pd.read_csv(u2)\n",
    "test_df = pd.read_csv(u3)\n",
    "train_df.head()\n",
    "\n",
    "print(train_df.shape, val_df.shape, test_df.shape)\n",
    "column_indices = {name: i for i, name in enumerate(train_df.columns)}\n",
    "print(column_indices)\n",
    "\n",
    "import warnings\n",
    "warnings.filterwarnings('ignore')\n",
    "%matplotlib inline"
   ]
  },
  {
   "cell_type": "markdown",
   "id": "4c88e993",
   "metadata": {
    "id": "4c88e993"
   },
   "source": [
    "## CH.15 LSTM\n",
    "\n",
    "### 15.3.1 Single Step Model"
   ]
  },
  {
   "cell_type": "code",
   "execution_count": 36,
   "id": "y7SDzo-jhB8i",
   "metadata": {
    "id": "y7SDzo-jhB8i"
   },
   "outputs": [],
   "source": [
    "w = DataWindow(input_width=24,label_width=1,shift=1,stride=1,\n",
    "    train_df=train_df,val_df=val_df,test_df=test_df,\n",
    "    label_columns=['traffic_volume'])"
   ]
  },
  {
   "cell_type": "code",
   "execution_count": 37,
   "id": "LBaYSjZifc1t",
   "metadata": {
    "id": "LBaYSjZifc1t"
   },
   "outputs": [],
   "source": [
    "val_performance= {'Full-DNN': (0.0019, 0.031),\n",
    "  'RNN': (0.0016, 0.0283),\n",
    "  'LSTM': (0.0014, 0.0265),\n",
    "  'Simple Transformer': (0.0018, 0.0305)\n",
    "  }\n",
    "test_performance={'Full-DNN': (0.0015, 0.0281),\n",
    "  'RNN': (0.0014, 0.0272),\n",
    "  'LSTM': (0.0011, 0.0246),\n",
    "  'Simple Transformer': (0.0015, 0.028)\n",
    "  }"
   ]
  },
  {
   "cell_type": "markdown",
   "id": "f257c384",
   "metadata": {
    "id": "f257c384"
   },
   "source": [
    "### Full DNN Model: Baseline Model"
   ]
  },
  {
   "cell_type": "markdown",
   "id": "c2cbb27f-52f5-4a3b-ba08-cfac9a079aab",
   "metadata": {},
   "source": [
    "**Full DNNモデル**\n",
    "\n",
    "時系列の構造を無視して、全データを一つのベクトルとして処理するDense型のニューラルネットワーク。\n",
    "\n",
    "Flatten層によって、２次元入力を１次元入力に変換する。この操作により時間軸（時系列順）という構造的意味は失われる。\n",
    "\n",
    "　　$(\\vec{x}_1, \\vec{x}_2,・・・,\\vec{x}_t)  \\overset{flatten}{\\to}  \\vec{X}_{1:t}  \\overset{NN}{\\to}  y_{t+1}$\n",
    "\n",
    "　　$f_{relu}(\\vec{X}_{1:t}W^{(1)} + \\vec{b}^{(1)})W^{(2)} + b^{(2)} = y_{t+1}$\n",
    "\n",
    "「周期性が強く、時間順依存性が弱い」データには有効　　→　　曜日別パターン等"
   ]
  },
  {
   "cell_type": "markdown",
   "id": "7d2899bd-26cf-4069-bc2e-3d5c2ab6248b",
   "metadata": {},
   "source": [
    "**Full DNNの学習：勾配法**\n",
    "\n",
    "損失関数（今回はMSE）の値・誤差が最小となるように重み$W^{(1)},W^{(2)}$などのパラメータを更新する。\n",
    "\n",
    "　　$(y_{t+1} - {y_{t+1}^{True}})^2$  →　最小化\n",
    "\n",
    "　　$\\Deltaパラメータ = -\\eta \\frac{\\partial}{\\partialパラメータ} (y_{t+1} - {y_{t+1}^{True}})^2$\n",
    "\n",
    "　　$\\Delta(y_{t+1} - {y_{t+1}^{True}})^2 = \\frac{\\partial}{\\partialパラメータ} (y_{t+1} - {y_{t+1}^{True}})^2$\n",
    "\n",
    "　　　　　　　　       　$= -\\eta (\\frac{\\partial}{\\partialパラメータ} (y_{t+1} - {y_{t+1}^{True}})^2)^2$ < 0\n",
    "\n",
    "誤差の減少量は勾配の二乗に比例する。また、勾配が０となる（＝消滅）と学習ができなくなる。"
   ]
  },
  {
   "cell_type": "code",
   "execution_count": 38,
   "id": "c504dc2e",
   "metadata": {
    "colab": {
     "base_uri": "https://localhost:8080/"
    },
    "id": "c504dc2e",
    "outputId": "a41f0def-b360-4107-fb00-0804b32c545a"
   },
   "outputs": [
    {
     "name": "stdout",
     "output_type": "stream",
     "text": [
      "Epoch 1/100\n",
      "\u001b[1m384/384\u001b[0m \u001b[32m━━━━━━━━━━━━━━━━━━━━\u001b[0m\u001b[37m\u001b[0m \u001b[1m1s\u001b[0m 2ms/step - loss: 0.0576 - mean_absolute_error: 0.1667 - val_loss: 0.0097 - val_mean_absolute_error: 0.0717\n",
      "Epoch 2/100\n",
      "\u001b[1m384/384\u001b[0m \u001b[32m━━━━━━━━━━━━━━━━━━━━\u001b[0m\u001b[37m\u001b[0m \u001b[1m1s\u001b[0m 1ms/step - loss: 0.0082 - mean_absolute_error: 0.0657 - val_loss: 0.0056 - val_mean_absolute_error: 0.0535\n",
      "Epoch 3/100\n",
      "\u001b[1m384/384\u001b[0m \u001b[32m━━━━━━━━━━━━━━━━━━━━\u001b[0m\u001b[37m\u001b[0m \u001b[1m1s\u001b[0m 1ms/step - loss: 0.0058 - mean_absolute_error: 0.0554 - val_loss: 0.0050 - val_mean_absolute_error: 0.0516\n",
      "Epoch 4/100\n",
      "\u001b[1m384/384\u001b[0m \u001b[32m━━━━━━━━━━━━━━━━━━━━\u001b[0m\u001b[37m\u001b[0m \u001b[1m1s\u001b[0m 1ms/step - loss: 0.0046 - mean_absolute_error: 0.0489 - val_loss: 0.0043 - val_mean_absolute_error: 0.0495\n",
      "Epoch 5/100\n",
      "\u001b[1m384/384\u001b[0m \u001b[32m━━━━━━━━━━━━━━━━━━━━\u001b[0m\u001b[37m\u001b[0m \u001b[1m1s\u001b[0m 1ms/step - loss: 0.0039 - mean_absolute_error: 0.0448 - val_loss: 0.0036 - val_mean_absolute_error: 0.0422\n",
      "Epoch 6/100\n",
      "\u001b[1m384/384\u001b[0m \u001b[32m━━━━━━━━━━━━━━━━━━━━\u001b[0m\u001b[37m\u001b[0m \u001b[1m1s\u001b[0m 1ms/step - loss: 0.0036 - mean_absolute_error: 0.0437 - val_loss: 0.0030 - val_mean_absolute_error: 0.0395\n",
      "Epoch 7/100\n",
      "\u001b[1m384/384\u001b[0m \u001b[32m━━━━━━━━━━━━━━━━━━━━\u001b[0m\u001b[37m\u001b[0m \u001b[1m1s\u001b[0m 1ms/step - loss: 0.0034 - mean_absolute_error: 0.0424 - val_loss: 0.0025 - val_mean_absolute_error: 0.0354\n",
      "Epoch 8/100\n",
      "\u001b[1m384/384\u001b[0m \u001b[32m━━━━━━━━━━━━━━━━━━━━\u001b[0m\u001b[37m\u001b[0m \u001b[1m1s\u001b[0m 1ms/step - loss: 0.0033 - mean_absolute_error: 0.0421 - val_loss: 0.0035 - val_mean_absolute_error: 0.0458\n",
      "Epoch 9/100\n",
      "\u001b[1m384/384\u001b[0m \u001b[32m━━━━━━━━━━━━━━━━━━━━\u001b[0m\u001b[37m\u001b[0m \u001b[1m1s\u001b[0m 1ms/step - loss: 0.0031 - mean_absolute_error: 0.0399 - val_loss: 0.0023 - val_mean_absolute_error: 0.0335\n",
      "Epoch 10/100\n",
      "\u001b[1m384/384\u001b[0m \u001b[32m━━━━━━━━━━━━━━━━━━━━\u001b[0m\u001b[37m\u001b[0m \u001b[1m0s\u001b[0m 1ms/step - loss: 0.0030 - mean_absolute_error: 0.0398 - val_loss: 0.0041 - val_mean_absolute_error: 0.0492\n",
      "Epoch 11/100\n",
      "\u001b[1m384/384\u001b[0m \u001b[32m━━━━━━━━━━━━━━━━━━━━\u001b[0m\u001b[37m\u001b[0m \u001b[1m1s\u001b[0m 1ms/step - loss: 0.0032 - mean_absolute_error: 0.0413 - val_loss: 0.0022 - val_mean_absolute_error: 0.0337\n",
      "Epoch 12/100\n",
      "\u001b[1m384/384\u001b[0m \u001b[32m━━━━━━━━━━━━━━━━━━━━\u001b[0m\u001b[37m\u001b[0m \u001b[1m0s\u001b[0m 1ms/step - loss: 0.0028 - mean_absolute_error: 0.0383 - val_loss: 0.0021 - val_mean_absolute_error: 0.0322\n",
      "Epoch 13/100\n",
      "\u001b[1m384/384\u001b[0m \u001b[32m━━━━━━━━━━━━━━━━━━━━\u001b[0m\u001b[37m\u001b[0m \u001b[1m0s\u001b[0m 1ms/step - loss: 0.0029 - mean_absolute_error: 0.0389 - val_loss: 0.0022 - val_mean_absolute_error: 0.0333\n",
      "Epoch 14/100\n",
      "\u001b[1m384/384\u001b[0m \u001b[32m━━━━━━━━━━━━━━━━━━━━\u001b[0m\u001b[37m\u001b[0m \u001b[1m1s\u001b[0m 1ms/step - loss: 0.0028 - mean_absolute_error: 0.0377 - val_loss: 0.0026 - val_mean_absolute_error: 0.0375\n",
      "Epoch 15/100\n",
      "\u001b[1m384/384\u001b[0m \u001b[32m━━━━━━━━━━━━━━━━━━━━\u001b[0m\u001b[37m\u001b[0m \u001b[1m1s\u001b[0m 1ms/step - loss: 0.0027 - mean_absolute_error: 0.0368 - val_loss: 0.0024 - val_mean_absolute_error: 0.0372\n",
      "Epoch 16/100\n",
      "\u001b[1m384/384\u001b[0m \u001b[32m━━━━━━━━━━━━━━━━━━━━\u001b[0m\u001b[37m\u001b[0m \u001b[1m0s\u001b[0m 1ms/step - loss: 0.0027 - mean_absolute_error: 0.0376 - val_loss: 0.0019 - val_mean_absolute_error: 0.0305\n",
      "Epoch 17/100\n",
      "\u001b[1m384/384\u001b[0m \u001b[32m━━━━━━━━━━━━━━━━━━━━\u001b[0m\u001b[37m\u001b[0m \u001b[1m1s\u001b[0m 1ms/step - loss: 0.0024 - mean_absolute_error: 0.0350 - val_loss: 0.0041 - val_mean_absolute_error: 0.0528\n",
      "Epoch 18/100\n",
      "\u001b[1m384/384\u001b[0m \u001b[32m━━━━━━━━━━━━━━━━━━━━\u001b[0m\u001b[37m\u001b[0m \u001b[1m0s\u001b[0m 1ms/step - loss: 0.0030 - mean_absolute_error: 0.0405 - val_loss: 0.0022 - val_mean_absolute_error: 0.0340\n",
      "Epoch 19/100\n",
      "\u001b[1m384/384\u001b[0m \u001b[32m━━━━━━━━━━━━━━━━━━━━\u001b[0m\u001b[37m\u001b[0m \u001b[1m1s\u001b[0m 1ms/step - loss: 0.0024 - mean_absolute_error: 0.0349 - val_loss: 0.0018 - val_mean_absolute_error: 0.0307\n",
      "Epoch 20/100\n",
      "\u001b[1m384/384\u001b[0m \u001b[32m━━━━━━━━━━━━━━━━━━━━\u001b[0m\u001b[37m\u001b[0m \u001b[1m1s\u001b[0m 1ms/step - loss: 0.0024 - mean_absolute_error: 0.0349 - val_loss: 0.0019 - val_mean_absolute_error: 0.0303\n",
      "Epoch 21/100\n",
      "\u001b[1m384/384\u001b[0m \u001b[32m━━━━━━━━━━━━━━━━━━━━\u001b[0m\u001b[37m\u001b[0m \u001b[1m1s\u001b[0m 2ms/step - loss: 0.0025 - mean_absolute_error: 0.0358 - val_loss: 0.0021 - val_mean_absolute_error: 0.0337\n",
      "Epoch 22/100\n",
      "\u001b[1m384/384\u001b[0m \u001b[32m━━━━━━━━━━━━━━━━━━━━\u001b[0m\u001b[37m\u001b[0m \u001b[1m1s\u001b[0m 1ms/step - loss: 0.0024 - mean_absolute_error: 0.0346 - val_loss: 0.0018 - val_mean_absolute_error: 0.0304\n",
      "Epoch 23/100\n",
      "\u001b[1m384/384\u001b[0m \u001b[32m━━━━━━━━━━━━━━━━━━━━\u001b[0m\u001b[37m\u001b[0m \u001b[1m1s\u001b[0m 1ms/step - loss: 0.0023 - mean_absolute_error: 0.0339 - val_loss: 0.0018 - val_mean_absolute_error: 0.0299\n",
      "Epoch 24/100\n",
      "\u001b[1m384/384\u001b[0m \u001b[32m━━━━━━━━━━━━━━━━━━━━\u001b[0m\u001b[37m\u001b[0m \u001b[1m1s\u001b[0m 2ms/step - loss: 0.0025 - mean_absolute_error: 0.0358 - val_loss: 0.0020 - val_mean_absolute_error: 0.0331\n",
      "Epoch 25/100\n",
      "\u001b[1m384/384\u001b[0m \u001b[32m━━━━━━━━━━━━━━━━━━━━\u001b[0m\u001b[37m\u001b[0m \u001b[1m1s\u001b[0m 1ms/step - loss: 0.0024 - mean_absolute_error: 0.0350 - val_loss: 0.0020 - val_mean_absolute_error: 0.0325\n",
      "Epoch 26/100\n",
      "\u001b[1m384/384\u001b[0m \u001b[32m━━━━━━━━━━━━━━━━━━━━\u001b[0m\u001b[37m\u001b[0m \u001b[1m1s\u001b[0m 1ms/step - loss: 0.0025 - mean_absolute_error: 0.0357 - val_loss: 0.0019 - val_mean_absolute_error: 0.0308\n",
      "Epoch 27/100\n",
      "\u001b[1m384/384\u001b[0m \u001b[32m━━━━━━━━━━━━━━━━━━━━\u001b[0m\u001b[37m\u001b[0m \u001b[1m1s\u001b[0m 1ms/step - loss: 0.0023 - mean_absolute_error: 0.0342 - val_loss: 0.0018 - val_mean_absolute_error: 0.0297\n",
      "Epoch 28/100\n",
      "\u001b[1m384/384\u001b[0m \u001b[32m━━━━━━━━━━━━━━━━━━━━\u001b[0m\u001b[37m\u001b[0m \u001b[1m1s\u001b[0m 1ms/step - loss: 0.0023 - mean_absolute_error: 0.0335 - val_loss: 0.0020 - val_mean_absolute_error: 0.0323\n",
      "Epoch 29/100\n",
      "\u001b[1m384/384\u001b[0m \u001b[32m━━━━━━━━━━━━━━━━━━━━\u001b[0m\u001b[37m\u001b[0m \u001b[1m1s\u001b[0m 1ms/step - loss: 0.0023 - mean_absolute_error: 0.0338 - val_loss: 0.0021 - val_mean_absolute_error: 0.0332\n",
      "Epoch 30/100\n",
      "\u001b[1m384/384\u001b[0m \u001b[32m━━━━━━━━━━━━━━━━━━━━\u001b[0m\u001b[37m\u001b[0m \u001b[1m1s\u001b[0m 1ms/step - loss: 0.0023 - mean_absolute_error: 0.0343 - val_loss: 0.0018 - val_mean_absolute_error: 0.0293\n",
      "Epoch 31/100\n",
      "\u001b[1m384/384\u001b[0m \u001b[32m━━━━━━━━━━━━━━━━━━━━\u001b[0m\u001b[37m\u001b[0m \u001b[1m1s\u001b[0m 1ms/step - loss: 0.0023 - mean_absolute_error: 0.0336 - val_loss: 0.0017 - val_mean_absolute_error: 0.0286\n",
      "Epoch 32/100\n",
      "\u001b[1m384/384\u001b[0m \u001b[32m━━━━━━━━━━━━━━━━━━━━\u001b[0m\u001b[37m\u001b[0m \u001b[1m1s\u001b[0m 1ms/step - loss: 0.0023 - mean_absolute_error: 0.0335 - val_loss: 0.0018 - val_mean_absolute_error: 0.0299\n",
      "Epoch 33/100\n",
      "\u001b[1m384/384\u001b[0m \u001b[32m━━━━━━━━━━━━━━━━━━━━\u001b[0m\u001b[37m\u001b[0m \u001b[1m1s\u001b[0m 1ms/step - loss: 0.0024 - mean_absolute_error: 0.0345 - val_loss: 0.0018 - val_mean_absolute_error: 0.0295\n",
      "Epoch 34/100\n",
      "\u001b[1m384/384\u001b[0m \u001b[32m━━━━━━━━━━━━━━━━━━━━\u001b[0m\u001b[37m\u001b[0m \u001b[1m1s\u001b[0m 1ms/step - loss: 0.0022 - mean_absolute_error: 0.0324 - val_loss: 0.0032 - val_mean_absolute_error: 0.0445\n",
      "Epoch 35/100\n",
      "\u001b[1m384/384\u001b[0m \u001b[32m━━━━━━━━━━━━━━━━━━━━\u001b[0m\u001b[37m\u001b[0m \u001b[1m1s\u001b[0m 1ms/step - loss: 0.0023 - mean_absolute_error: 0.0345 - val_loss: 0.0024 - val_mean_absolute_error: 0.0384\n",
      "Epoch 36/100\n",
      "\u001b[1m384/384\u001b[0m \u001b[32m━━━━━━━━━━━━━━━━━━━━\u001b[0m\u001b[37m\u001b[0m \u001b[1m0s\u001b[0m 1ms/step - loss: 0.0022 - mean_absolute_error: 0.0334 - val_loss: 0.0020 - val_mean_absolute_error: 0.0315\n"
     ]
    },
    {
     "data": {
      "text/plain": [
       "({'Full-DNN': (0.002, 0.0315)}, {'Full-DNN': (0.0015, 0.0282)})"
      ]
     },
     "execution_count": 38,
     "metadata": {},
     "output_type": "execute_result"
    }
   ],
   "source": [
    "# データセットの input_shape を取得\n",
    "input_shape = w.train.element_spec[0].shape[1:]  # 例：(24, 5)\n",
    "label_width=w.label_width\n",
    "\n",
    "full_dnn = Sequential([\n",
    "    Flatten(input_shape=input_shape),      # [batch, 24, 5] → [batch, 120]\n",
    "    Dense(32, activation='relu'),          # [batch, 120] → [batch, 32]\n",
    "    Dense(label_width),  # [batch, 24]\n",
    "    Reshape((label_width, 1))              # [batch, 24] → [batch, 24, 1]\n",
    "])\n",
    "\n",
    "#　モデルの訓練\n",
    "history = compile_and_fit(full_dnn,w)\n",
    "\n",
    "# 評価スコアを辞書に保存\n",
    "val_performance={}\n",
    "test_performance={}\n",
    "val_loss, val_mae = full_dnn.evaluate(w.val, verbose=0)\n",
    "test_loss, test_mae = full_dnn.evaluate(w.test, verbose=0)\n",
    "val_performance[\"Full-DNN\"] = (round(val_loss,4), round(val_mae,4))\n",
    "test_performance[\"Full-DNN\"] = (round(test_loss,4),round(test_mae,4))\n",
    "val_performance,test_performance"
   ]
  },
  {
   "cell_type": "code",
   "execution_count": 39,
   "id": "699d0e0f",
   "metadata": {
    "colab": {
     "base_uri": "https://localhost:8080/"
    },
    "id": "699d0e0f",
    "outputId": "07d79d61-7812-4e33-c170-72f1494a84fc"
   },
   "outputs": [
    {
     "name": "stdout",
     "output_type": "stream",
     "text": [
      "Epoch 1/100\n",
      "\u001b[1m384/384\u001b[0m \u001b[32m━━━━━━━━━━━━━━━━━━━━\u001b[0m\u001b[37m\u001b[0m \u001b[1m3s\u001b[0m 5ms/step - loss: 0.0799 - mean_absolute_error: 0.1802 - val_loss: 0.0087 - val_mean_absolute_error: 0.0693\n",
      "Epoch 2/100\n",
      "\u001b[1m384/384\u001b[0m \u001b[32m━━━━━━━━━━━━━━━━━━━━\u001b[0m\u001b[37m\u001b[0m \u001b[1m2s\u001b[0m 4ms/step - loss: 0.0078 - mean_absolute_error: 0.0652 - val_loss: 0.0058 - val_mean_absolute_error: 0.0572\n",
      "Epoch 3/100\n",
      "\u001b[1m384/384\u001b[0m \u001b[32m━━━━━━━━━━━━━━━━━━━━\u001b[0m\u001b[37m\u001b[0m \u001b[1m2s\u001b[0m 4ms/step - loss: 0.0052 - mean_absolute_error: 0.0529 - val_loss: 0.0041 - val_mean_absolute_error: 0.0472\n",
      "Epoch 4/100\n",
      "\u001b[1m384/384\u001b[0m \u001b[32m━━━━━━━━━━━━━━━━━━━━\u001b[0m\u001b[37m\u001b[0m \u001b[1m2s\u001b[0m 4ms/step - loss: 0.0044 - mean_absolute_error: 0.0478 - val_loss: 0.0034 - val_mean_absolute_error: 0.0425\n",
      "Epoch 5/100\n",
      "\u001b[1m384/384\u001b[0m \u001b[32m━━━━━━━━━━━━━━━━━━━━\u001b[0m\u001b[37m\u001b[0m \u001b[1m2s\u001b[0m 4ms/step - loss: 0.0040 - mean_absolute_error: 0.0458 - val_loss: 0.0036 - val_mean_absolute_error: 0.0435\n",
      "Epoch 6/100\n",
      "\u001b[1m384/384\u001b[0m \u001b[32m━━━━━━━━━━━━━━━━━━━━\u001b[0m\u001b[37m\u001b[0m \u001b[1m2s\u001b[0m 4ms/step - loss: 0.0037 - mean_absolute_error: 0.0437 - val_loss: 0.0036 - val_mean_absolute_error: 0.0459\n",
      "Epoch 7/100\n",
      "\u001b[1m384/384\u001b[0m \u001b[32m━━━━━━━━━━━━━━━━━━━━\u001b[0m\u001b[37m\u001b[0m \u001b[1m2s\u001b[0m 4ms/step - loss: 0.0035 - mean_absolute_error: 0.0424 - val_loss: 0.0028 - val_mean_absolute_error: 0.0386\n",
      "Epoch 8/100\n",
      "\u001b[1m384/384\u001b[0m \u001b[32m━━━━━━━━━━━━━━━━━━━━\u001b[0m\u001b[37m\u001b[0m \u001b[1m2s\u001b[0m 5ms/step - loss: 0.0034 - mean_absolute_error: 0.0420 - val_loss: 0.0033 - val_mean_absolute_error: 0.0435\n",
      "Epoch 9/100\n",
      "\u001b[1m384/384\u001b[0m \u001b[32m━━━━━━━━━━━━━━━━━━━━\u001b[0m\u001b[37m\u001b[0m \u001b[1m2s\u001b[0m 5ms/step - loss: 0.0031 - mean_absolute_error: 0.0394 - val_loss: 0.0030 - val_mean_absolute_error: 0.0411\n",
      "Epoch 10/100\n",
      "\u001b[1m384/384\u001b[0m \u001b[32m━━━━━━━━━━━━━━━━━━━━\u001b[0m\u001b[37m\u001b[0m \u001b[1m2s\u001b[0m 4ms/step - loss: 0.0030 - mean_absolute_error: 0.0385 - val_loss: 0.0027 - val_mean_absolute_error: 0.0389\n",
      "Epoch 11/100\n",
      "\u001b[1m384/384\u001b[0m \u001b[32m━━━━━━━━━━━━━━━━━━━━\u001b[0m\u001b[37m\u001b[0m \u001b[1m2s\u001b[0m 4ms/step - loss: 0.0029 - mean_absolute_error: 0.0382 - val_loss: 0.0023 - val_mean_absolute_error: 0.0346\n",
      "Epoch 12/100\n",
      "\u001b[1m384/384\u001b[0m \u001b[32m━━━━━━━━━━━━━━━━━━━━\u001b[0m\u001b[37m\u001b[0m \u001b[1m2s\u001b[0m 4ms/step - loss: 0.0027 - mean_absolute_error: 0.0365 - val_loss: 0.0021 - val_mean_absolute_error: 0.0327\n",
      "Epoch 13/100\n",
      "\u001b[1m384/384\u001b[0m \u001b[32m━━━━━━━━━━━━━━━━━━━━\u001b[0m\u001b[37m\u001b[0m \u001b[1m2s\u001b[0m 5ms/step - loss: 0.0027 - mean_absolute_error: 0.0363 - val_loss: 0.0020 - val_mean_absolute_error: 0.0309\n",
      "Epoch 14/100\n",
      "\u001b[1m384/384\u001b[0m \u001b[32m━━━━━━━━━━━━━━━━━━━━\u001b[0m\u001b[37m\u001b[0m \u001b[1m2s\u001b[0m 4ms/step - loss: 0.0025 - mean_absolute_error: 0.0353 - val_loss: 0.0023 - val_mean_absolute_error: 0.0352\n",
      "Epoch 15/100\n",
      "\u001b[1m384/384\u001b[0m \u001b[32m━━━━━━━━━━━━━━━━━━━━\u001b[0m\u001b[37m\u001b[0m \u001b[1m2s\u001b[0m 4ms/step - loss: 0.0026 - mean_absolute_error: 0.0357 - val_loss: 0.0021 - val_mean_absolute_error: 0.0331\n",
      "Epoch 16/100\n",
      "\u001b[1m384/384\u001b[0m \u001b[32m━━━━━━━━━━━━━━━━━━━━\u001b[0m\u001b[37m\u001b[0m \u001b[1m2s\u001b[0m 4ms/step - loss: 0.0026 - mean_absolute_error: 0.0358 - val_loss: 0.0020 - val_mean_absolute_error: 0.0323\n",
      "Epoch 17/100\n",
      "\u001b[1m384/384\u001b[0m \u001b[32m━━━━━━━━━━━━━━━━━━━━\u001b[0m\u001b[37m\u001b[0m \u001b[1m2s\u001b[0m 4ms/step - loss: 0.0025 - mean_absolute_error: 0.0351 - val_loss: 0.0019 - val_mean_absolute_error: 0.0315\n",
      "Epoch 18/100\n",
      "\u001b[1m384/384\u001b[0m \u001b[32m━━━━━━━━━━━━━━━━━━━━\u001b[0m\u001b[37m\u001b[0m \u001b[1m2s\u001b[0m 4ms/step - loss: 0.0023 - mean_absolute_error: 0.0333 - val_loss: 0.0019 - val_mean_absolute_error: 0.0305\n",
      "Epoch 19/100\n",
      "\u001b[1m384/384\u001b[0m \u001b[32m━━━━━━━━━━━━━━━━━━━━\u001b[0m\u001b[37m\u001b[0m \u001b[1m2s\u001b[0m 4ms/step - loss: 0.0023 - mean_absolute_error: 0.0334 - val_loss: 0.0020 - val_mean_absolute_error: 0.0329\n",
      "Epoch 20/100\n",
      "\u001b[1m384/384\u001b[0m \u001b[32m━━━━━━━━━━━━━━━━━━━━\u001b[0m\u001b[37m\u001b[0m \u001b[1m2s\u001b[0m 4ms/step - loss: 0.0024 - mean_absolute_error: 0.0342 - val_loss: 0.0018 - val_mean_absolute_error: 0.0304\n",
      "Epoch 21/100\n",
      "\u001b[1m384/384\u001b[0m \u001b[32m━━━━━━━━━━━━━━━━━━━━\u001b[0m\u001b[37m\u001b[0m \u001b[1m2s\u001b[0m 4ms/step - loss: 0.0022 - mean_absolute_error: 0.0327 - val_loss: 0.0017 - val_mean_absolute_error: 0.0290\n",
      "Epoch 22/100\n",
      "\u001b[1m384/384\u001b[0m \u001b[32m━━━━━━━━━━━━━━━━━━━━\u001b[0m\u001b[37m\u001b[0m \u001b[1m2s\u001b[0m 4ms/step - loss: 0.0022 - mean_absolute_error: 0.0321 - val_loss: 0.0017 - val_mean_absolute_error: 0.0282\n",
      "Epoch 23/100\n",
      "\u001b[1m384/384\u001b[0m \u001b[32m━━━━━━━━━━━━━━━━━━━━\u001b[0m\u001b[37m\u001b[0m \u001b[1m3s\u001b[0m 4ms/step - loss: 0.0021 - mean_absolute_error: 0.0317 - val_loss: 0.0027 - val_mean_absolute_error: 0.0412\n",
      "Epoch 24/100\n",
      "\u001b[1m384/384\u001b[0m \u001b[32m━━━━━━━━━━━━━━━━━━━━\u001b[0m\u001b[37m\u001b[0m \u001b[1m2s\u001b[0m 4ms/step - loss: 0.0024 - mean_absolute_error: 0.0345 - val_loss: 0.0019 - val_mean_absolute_error: 0.0318\n",
      "Epoch 25/100\n",
      "\u001b[1m384/384\u001b[0m \u001b[32m━━━━━━━━━━━━━━━━━━━━\u001b[0m\u001b[37m\u001b[0m \u001b[1m2s\u001b[0m 4ms/step - loss: 0.0020 - mean_absolute_error: 0.0314 - val_loss: 0.0022 - val_mean_absolute_error: 0.0348\n",
      "Epoch 26/100\n",
      "\u001b[1m384/384\u001b[0m \u001b[32m━━━━━━━━━━━━━━━━━━━━\u001b[0m\u001b[37m\u001b[0m \u001b[1m2s\u001b[0m 4ms/step - loss: 0.0022 - mean_absolute_error: 0.0320 - val_loss: 0.0016 - val_mean_absolute_error: 0.0285\n",
      "Epoch 27/100\n",
      "\u001b[1m384/384\u001b[0m \u001b[32m━━━━━━━━━━━━━━━━━━━━\u001b[0m\u001b[37m\u001b[0m \u001b[1m2s\u001b[0m 4ms/step - loss: 0.0020 - mean_absolute_error: 0.0315 - val_loss: 0.0016 - val_mean_absolute_error: 0.0281\n",
      "Epoch 28/100\n",
      "\u001b[1m384/384\u001b[0m \u001b[32m━━━━━━━━━━━━━━━━━━━━\u001b[0m\u001b[37m\u001b[0m \u001b[1m2s\u001b[0m 4ms/step - loss: 0.0020 - mean_absolute_error: 0.0305 - val_loss: 0.0015 - val_mean_absolute_error: 0.0264\n",
      "Epoch 29/100\n",
      "\u001b[1m384/384\u001b[0m \u001b[32m━━━━━━━━━━━━━━━━━━━━\u001b[0m\u001b[37m\u001b[0m \u001b[1m2s\u001b[0m 5ms/step - loss: 0.0019 - mean_absolute_error: 0.0303 - val_loss: 0.0015 - val_mean_absolute_error: 0.0279\n",
      "Epoch 30/100\n",
      "\u001b[1m384/384\u001b[0m \u001b[32m━━━━━━━━━━━━━━━━━━━━\u001b[0m\u001b[37m\u001b[0m \u001b[1m2s\u001b[0m 5ms/step - loss: 0.0019 - mean_absolute_error: 0.0305 - val_loss: 0.0015 - val_mean_absolute_error: 0.0266\n",
      "Epoch 31/100\n",
      "\u001b[1m384/384\u001b[0m \u001b[32m━━━━━━━━━━━━━━━━━━━━\u001b[0m\u001b[37m\u001b[0m \u001b[1m2s\u001b[0m 5ms/step - loss: 0.0019 - mean_absolute_error: 0.0298 - val_loss: 0.0016 - val_mean_absolute_error: 0.0281\n",
      "Epoch 32/100\n",
      "\u001b[1m384/384\u001b[0m \u001b[32m━━━━━━━━━━━━━━━━━━━━\u001b[0m\u001b[37m\u001b[0m \u001b[1m2s\u001b[0m 5ms/step - loss: 0.0019 - mean_absolute_error: 0.0297 - val_loss: 0.0015 - val_mean_absolute_error: 0.0269\n",
      "Epoch 33/100\n",
      "\u001b[1m384/384\u001b[0m \u001b[32m━━━━━━━━━━━━━━━━━━━━\u001b[0m\u001b[37m\u001b[0m \u001b[1m2s\u001b[0m 4ms/step - loss: 0.0019 - mean_absolute_error: 0.0302 - val_loss: 0.0014 - val_mean_absolute_error: 0.0268\n",
      "Epoch 34/100\n",
      "\u001b[1m384/384\u001b[0m \u001b[32m━━━━━━━━━━━━━━━━━━━━\u001b[0m\u001b[37m\u001b[0m \u001b[1m2s\u001b[0m 5ms/step - loss: 0.0019 - mean_absolute_error: 0.0301 - val_loss: 0.0014 - val_mean_absolute_error: 0.0267\n",
      "Epoch 35/100\n",
      "\u001b[1m384/384\u001b[0m \u001b[32m━━━━━━━━━━━━━━━━━━━━\u001b[0m\u001b[37m\u001b[0m \u001b[1m2s\u001b[0m 4ms/step - loss: 0.0018 - mean_absolute_error: 0.0292 - val_loss: 0.0014 - val_mean_absolute_error: 0.0257\n",
      "Epoch 36/100\n",
      "\u001b[1m384/384\u001b[0m \u001b[32m━━━━━━━━━━━━━━━━━━━━\u001b[0m\u001b[37m\u001b[0m \u001b[1m2s\u001b[0m 4ms/step - loss: 0.0019 - mean_absolute_error: 0.0297 - val_loss: 0.0014 - val_mean_absolute_error: 0.0265\n",
      "Epoch 37/100\n",
      "\u001b[1m384/384\u001b[0m \u001b[32m━━━━━━━━━━━━━━━━━━━━\u001b[0m\u001b[37m\u001b[0m \u001b[1m2s\u001b[0m 4ms/step - loss: 0.0018 - mean_absolute_error: 0.0292 - val_loss: 0.0016 - val_mean_absolute_error: 0.0283\n",
      "Epoch 38/100\n",
      "\u001b[1m384/384\u001b[0m \u001b[32m━━━━━━━━━━━━━━━━━━━━\u001b[0m\u001b[37m\u001b[0m \u001b[1m2s\u001b[0m 4ms/step - loss: 0.0018 - mean_absolute_error: 0.0286 - val_loss: 0.0014 - val_mean_absolute_error: 0.0264\n",
      "Epoch 39/100\n",
      "\u001b[1m384/384\u001b[0m \u001b[32m━━━━━━━━━━━━━━━━━━━━\u001b[0m\u001b[37m\u001b[0m \u001b[1m2s\u001b[0m 5ms/step - loss: 0.0018 - mean_absolute_error: 0.0289 - val_loss: 0.0014 - val_mean_absolute_error: 0.0264\n",
      "Epoch 40/100\n",
      "\u001b[1m384/384\u001b[0m \u001b[32m━━━━━━━━━━━━━━━━━━━━\u001b[0m\u001b[37m\u001b[0m \u001b[1m2s\u001b[0m 4ms/step - loss: 0.0019 - mean_absolute_error: 0.0299 - val_loss: 0.0018 - val_mean_absolute_error: 0.0312\n",
      "Epoch 41/100\n",
      "\u001b[1m384/384\u001b[0m \u001b[32m━━━━━━━━━━━━━━━━━━━━\u001b[0m\u001b[37m\u001b[0m \u001b[1m2s\u001b[0m 4ms/step - loss: 0.0018 - mean_absolute_error: 0.0293 - val_loss: 0.0016 - val_mean_absolute_error: 0.0285\n",
      "Epoch 42/100\n",
      "\u001b[1m384/384\u001b[0m \u001b[32m━━━━━━━━━━━━━━━━━━━━\u001b[0m\u001b[37m\u001b[0m \u001b[1m2s\u001b[0m 4ms/step - loss: 0.0018 - mean_absolute_error: 0.0287 - val_loss: 0.0024 - val_mean_absolute_error: 0.0354\n",
      "Epoch 43/100\n",
      "\u001b[1m384/384\u001b[0m \u001b[32m━━━━━━━━━━━━━━━━━━━━\u001b[0m\u001b[37m\u001b[0m \u001b[1m2s\u001b[0m 4ms/step - loss: 0.0019 - mean_absolute_error: 0.0302 - val_loss: 0.0013 - val_mean_absolute_error: 0.0252\n",
      "Epoch 44/100\n",
      "\u001b[1m384/384\u001b[0m \u001b[32m━━━━━━━━━━━━━━━━━━━━\u001b[0m\u001b[37m\u001b[0m \u001b[1m2s\u001b[0m 4ms/step - loss: 0.0018 - mean_absolute_error: 0.0292 - val_loss: 0.0013 - val_mean_absolute_error: 0.0247\n",
      "Epoch 45/100\n",
      "\u001b[1m384/384\u001b[0m \u001b[32m━━━━━━━━━━━━━━━━━━━━\u001b[0m\u001b[37m\u001b[0m \u001b[1m3s\u001b[0m 5ms/step - loss: 0.0017 - mean_absolute_error: 0.0280 - val_loss: 0.0014 - val_mean_absolute_error: 0.0251\n",
      "Epoch 46/100\n",
      "\u001b[1m384/384\u001b[0m \u001b[32m━━━━━━━━━━━━━━━━━━━━\u001b[0m\u001b[37m\u001b[0m \u001b[1m2s\u001b[0m 4ms/step - loss: 0.0017 - mean_absolute_error: 0.0277 - val_loss: 0.0014 - val_mean_absolute_error: 0.0261\n",
      "Epoch 47/100\n",
      "\u001b[1m384/384\u001b[0m \u001b[32m━━━━━━━━━━━━━━━━━━━━\u001b[0m\u001b[37m\u001b[0m \u001b[1m2s\u001b[0m 4ms/step - loss: 0.0018 - mean_absolute_error: 0.0290 - val_loss: 0.0015 - val_mean_absolute_error: 0.0266\n",
      "Epoch 48/100\n",
      "\u001b[1m384/384\u001b[0m \u001b[32m━━━━━━━━━━━━━━━━━━━━\u001b[0m\u001b[37m\u001b[0m \u001b[1m2s\u001b[0m 5ms/step - loss: 0.0017 - mean_absolute_error: 0.0284 - val_loss: 0.0014 - val_mean_absolute_error: 0.0261\n",
      "Epoch 49/100\n",
      "\u001b[1m384/384\u001b[0m \u001b[32m━━━━━━━━━━━━━━━━━━━━\u001b[0m\u001b[37m\u001b[0m \u001b[1m2s\u001b[0m 4ms/step - loss: 0.0017 - mean_absolute_error: 0.0284 - val_loss: 0.0018 - val_mean_absolute_error: 0.0313\n"
     ]
    },
    {
     "data": {
      "text/plain": [
       "({'Full-DNN': (0.002, 0.0315), 'RNN': (0.0018, 0.0313)},\n",
       " {'Full-DNN': (0.0015, 0.0282), 'RNN': (0.0016, 0.0305)})"
      ]
     },
     "execution_count": 39,
     "metadata": {},
     "output_type": "execute_result"
    }
   ],
   "source": [
    "# input_shapeは DataWindow から取得した形 (例: (24, 5))\n",
    "input_shape = w.train.element_spec[0].shape[1:]\n",
    "label_width = w.label_width  # label_width は1など任意の予測ステップ数\n",
    "\n",
    "\n",
    "simple_rnn = Sequential([\n",
    "    SimpleRNN(units=32, input_shape=input_shape),\n",
    "    Dense(units=label_width),\n",
    "    Reshape((label_width, 1))\n",
    "])\n",
    "\n",
    "#　モデルの訓練\n",
    "history = compile_and_fit(simple_rnn,w)\n",
    "\n",
    "# 評価スコアを辞書に保存\n",
    "val_loss, val_mae = simple_rnn.evaluate(w.val, verbose=0)\n",
    "test_loss, test_mae = simple_rnn.evaluate(w.test, verbose=0)\n",
    "val_performance[\"RNN\"] = (round(val_loss,4), round(val_mae,4))\n",
    "test_performance[\"RNN\"] = (round(test_loss,4),round(test_mae,4))\n",
    "val_performance,test_performance"
   ]
  },
  {
   "cell_type": "markdown",
   "id": "aeb62e43",
   "metadata": {
    "id": "aeb62e43"
   },
   "source": [
    "### LSTM Model"
   ]
  },
  {
   "cell_type": "code",
   "execution_count": 40,
   "id": "6f9f6e08",
   "metadata": {
    "colab": {
     "base_uri": "https://localhost:8080/"
    },
    "id": "6f9f6e08",
    "outputId": "d90df5eb-3a85-44e3-8d0b-a7f3e506219e"
   },
   "outputs": [
    {
     "name": "stdout",
     "output_type": "stream",
     "text": [
      "Epoch 1/100\n",
      "\u001b[1m384/384\u001b[0m \u001b[32m━━━━━━━━━━━━━━━━━━━━\u001b[0m\u001b[37m\u001b[0m \u001b[1m4s\u001b[0m 7ms/step - loss: 0.0552 - mean_absolute_error: 0.1660 - val_loss: 0.0158 - val_mean_absolute_error: 0.0989\n",
      "Epoch 2/100\n",
      "\u001b[1m384/384\u001b[0m \u001b[32m━━━━━━━━━━━━━━━━━━━━\u001b[0m\u001b[37m\u001b[0m \u001b[1m3s\u001b[0m 7ms/step - loss: 0.0125 - mean_absolute_error: 0.0818 - val_loss: 0.0091 - val_mean_absolute_error: 0.0652\n",
      "Epoch 3/100\n",
      "\u001b[1m384/384\u001b[0m \u001b[32m━━━━━━━━━━━━━━━━━━━━\u001b[0m\u001b[37m\u001b[0m \u001b[1m2s\u001b[0m 6ms/step - loss: 0.0067 - mean_absolute_error: 0.0584 - val_loss: 0.0055 - val_mean_absolute_error: 0.0524\n",
      "Epoch 4/100\n",
      "\u001b[1m384/384\u001b[0m \u001b[32m━━━━━━━━━━━━━━━━━━━━\u001b[0m\u001b[37m\u001b[0m \u001b[1m3s\u001b[0m 6ms/step - loss: 0.0048 - mean_absolute_error: 0.0495 - val_loss: 0.0034 - val_mean_absolute_error: 0.0409\n",
      "Epoch 5/100\n",
      "\u001b[1m384/384\u001b[0m \u001b[32m━━━━━━━━━━━━━━━━━━━━\u001b[0m\u001b[37m\u001b[0m \u001b[1m3s\u001b[0m 6ms/step - loss: 0.0036 - mean_absolute_error: 0.0424 - val_loss: 0.0031 - val_mean_absolute_error: 0.0414\n",
      "Epoch 6/100\n",
      "\u001b[1m384/384\u001b[0m \u001b[32m━━━━━━━━━━━━━━━━━━━━\u001b[0m\u001b[37m\u001b[0m \u001b[1m2s\u001b[0m 6ms/step - loss: 0.0032 - mean_absolute_error: 0.0403 - val_loss: 0.0035 - val_mean_absolute_error: 0.0428\n",
      "Epoch 7/100\n",
      "\u001b[1m384/384\u001b[0m \u001b[32m━━━━━━━━━━━━━━━━━━━━\u001b[0m\u001b[37m\u001b[0m \u001b[1m3s\u001b[0m 6ms/step - loss: 0.0029 - mean_absolute_error: 0.0384 - val_loss: 0.0022 - val_mean_absolute_error: 0.0341\n",
      "Epoch 8/100\n",
      "\u001b[1m384/384\u001b[0m \u001b[32m━━━━━━━━━━━━━━━━━━━━\u001b[0m\u001b[37m\u001b[0m \u001b[1m3s\u001b[0m 7ms/step - loss: 0.0028 - mean_absolute_error: 0.0372 - val_loss: 0.0021 - val_mean_absolute_error: 0.0316\n",
      "Epoch 9/100\n",
      "\u001b[1m384/384\u001b[0m \u001b[32m━━━━━━━━━━━━━━━━━━━━\u001b[0m\u001b[37m\u001b[0m \u001b[1m3s\u001b[0m 8ms/step - loss: 0.0026 - mean_absolute_error: 0.0360 - val_loss: 0.0027 - val_mean_absolute_error: 0.0365\n",
      "Epoch 10/100\n",
      "\u001b[1m384/384\u001b[0m \u001b[32m━━━━━━━━━━━━━━━━━━━━\u001b[0m\u001b[37m\u001b[0m \u001b[1m3s\u001b[0m 7ms/step - loss: 0.0025 - mean_absolute_error: 0.0357 - val_loss: 0.0022 - val_mean_absolute_error: 0.0342\n",
      "Epoch 11/100\n",
      "\u001b[1m384/384\u001b[0m \u001b[32m━━━━━━━━━━━━━━━━━━━━\u001b[0m\u001b[37m\u001b[0m \u001b[1m3s\u001b[0m 6ms/step - loss: 0.0025 - mean_absolute_error: 0.0347 - val_loss: 0.0025 - val_mean_absolute_error: 0.0345\n",
      "Epoch 12/100\n",
      "\u001b[1m384/384\u001b[0m \u001b[32m━━━━━━━━━━━━━━━━━━━━\u001b[0m\u001b[37m\u001b[0m \u001b[1m3s\u001b[0m 7ms/step - loss: 0.0025 - mean_absolute_error: 0.0352 - val_loss: 0.0019 - val_mean_absolute_error: 0.0312\n",
      "Epoch 13/100\n",
      "\u001b[1m384/384\u001b[0m \u001b[32m━━━━━━━━━━━━━━━━━━━━\u001b[0m\u001b[37m\u001b[0m \u001b[1m2s\u001b[0m 6ms/step - loss: 0.0024 - mean_absolute_error: 0.0336 - val_loss: 0.0021 - val_mean_absolute_error: 0.0332\n",
      "Epoch 14/100\n",
      "\u001b[1m384/384\u001b[0m \u001b[32m━━━━━━━━━━━━━━━━━━━━\u001b[0m\u001b[37m\u001b[0m \u001b[1m3s\u001b[0m 7ms/step - loss: 0.0023 - mean_absolute_error: 0.0333 - val_loss: 0.0021 - val_mean_absolute_error: 0.0335\n",
      "Epoch 15/100\n",
      "\u001b[1m384/384\u001b[0m \u001b[32m━━━━━━━━━━━━━━━━━━━━\u001b[0m\u001b[37m\u001b[0m \u001b[1m3s\u001b[0m 7ms/step - loss: 0.0023 - mean_absolute_error: 0.0338 - val_loss: 0.0020 - val_mean_absolute_error: 0.0311\n",
      "Epoch 16/100\n",
      "\u001b[1m384/384\u001b[0m \u001b[32m━━━━━━━━━━━━━━━━━━━━\u001b[0m\u001b[37m\u001b[0m \u001b[1m3s\u001b[0m 6ms/step - loss: 0.0023 - mean_absolute_error: 0.0333 - val_loss: 0.0020 - val_mean_absolute_error: 0.0312\n",
      "Epoch 17/100\n",
      "\u001b[1m384/384\u001b[0m \u001b[32m━━━━━━━━━━━━━━━━━━━━\u001b[0m\u001b[37m\u001b[0m \u001b[1m3s\u001b[0m 6ms/step - loss: 0.0022 - mean_absolute_error: 0.0325 - val_loss: 0.0018 - val_mean_absolute_error: 0.0307\n",
      "Epoch 18/100\n",
      "\u001b[1m384/384\u001b[0m \u001b[32m━━━━━━━━━━━━━━━━━━━━\u001b[0m\u001b[37m\u001b[0m \u001b[1m3s\u001b[0m 7ms/step - loss: 0.0021 - mean_absolute_error: 0.0319 - val_loss: 0.0019 - val_mean_absolute_error: 0.0323\n",
      "Epoch 19/100\n",
      "\u001b[1m384/384\u001b[0m \u001b[32m━━━━━━━━━━━━━━━━━━━━\u001b[0m\u001b[37m\u001b[0m \u001b[1m3s\u001b[0m 6ms/step - loss: 0.0022 - mean_absolute_error: 0.0322 - val_loss: 0.0017 - val_mean_absolute_error: 0.0305\n",
      "Epoch 20/100\n",
      "\u001b[1m384/384\u001b[0m \u001b[32m━━━━━━━━━━━━━━━━━━━━\u001b[0m\u001b[37m\u001b[0m \u001b[1m2s\u001b[0m 6ms/step - loss: 0.0021 - mean_absolute_error: 0.0318 - val_loss: 0.0017 - val_mean_absolute_error: 0.0300\n",
      "Epoch 21/100\n",
      "\u001b[1m384/384\u001b[0m \u001b[32m━━━━━━━━━━━━━━━━━━━━\u001b[0m\u001b[37m\u001b[0m \u001b[1m3s\u001b[0m 6ms/step - loss: 0.0021 - mean_absolute_error: 0.0322 - val_loss: 0.0018 - val_mean_absolute_error: 0.0315\n",
      "Epoch 22/100\n",
      "\u001b[1m384/384\u001b[0m \u001b[32m━━━━━━━━━━━━━━━━━━━━\u001b[0m\u001b[37m\u001b[0m \u001b[1m3s\u001b[0m 6ms/step - loss: 0.0021 - mean_absolute_error: 0.0313 - val_loss: 0.0018 - val_mean_absolute_error: 0.0298\n",
      "Epoch 23/100\n",
      "\u001b[1m384/384\u001b[0m \u001b[32m━━━━━━━━━━━━━━━━━━━━\u001b[0m\u001b[37m\u001b[0m \u001b[1m2s\u001b[0m 6ms/step - loss: 0.0020 - mean_absolute_error: 0.0313 - val_loss: 0.0021 - val_mean_absolute_error: 0.0334\n",
      "Epoch 24/100\n",
      "\u001b[1m384/384\u001b[0m \u001b[32m━━━━━━━━━━━━━━━━━━━━\u001b[0m\u001b[37m\u001b[0m \u001b[1m2s\u001b[0m 6ms/step - loss: 0.0021 - mean_absolute_error: 0.0324 - val_loss: 0.0017 - val_mean_absolute_error: 0.0292\n",
      "Epoch 25/100\n",
      "\u001b[1m384/384\u001b[0m \u001b[32m━━━━━━━━━━━━━━━━━━━━\u001b[0m\u001b[37m\u001b[0m \u001b[1m3s\u001b[0m 6ms/step - loss: 0.0021 - mean_absolute_error: 0.0319 - val_loss: 0.0019 - val_mean_absolute_error: 0.0324\n",
      "Epoch 26/100\n",
      "\u001b[1m384/384\u001b[0m \u001b[32m━━━━━━━━━━━━━━━━━━━━\u001b[0m\u001b[37m\u001b[0m \u001b[1m3s\u001b[0m 6ms/step - loss: 0.0020 - mean_absolute_error: 0.0310 - val_loss: 0.0017 - val_mean_absolute_error: 0.0294\n",
      "Epoch 27/100\n",
      "\u001b[1m384/384\u001b[0m \u001b[32m━━━━━━━━━━━━━━━━━━━━\u001b[0m\u001b[37m\u001b[0m \u001b[1m2s\u001b[0m 6ms/step - loss: 0.0020 - mean_absolute_error: 0.0309 - val_loss: 0.0015 - val_mean_absolute_error: 0.0268\n",
      "Epoch 28/100\n",
      "\u001b[1m384/384\u001b[0m \u001b[32m━━━━━━━━━━━━━━━━━━━━\u001b[0m\u001b[37m\u001b[0m \u001b[1m3s\u001b[0m 7ms/step - loss: 0.0019 - mean_absolute_error: 0.0303 - val_loss: 0.0020 - val_mean_absolute_error: 0.0336\n",
      "Epoch 29/100\n",
      "\u001b[1m384/384\u001b[0m \u001b[32m━━━━━━━━━━━━━━━━━━━━\u001b[0m\u001b[37m\u001b[0m \u001b[1m2s\u001b[0m 6ms/step - loss: 0.0021 - mean_absolute_error: 0.0317 - val_loss: 0.0017 - val_mean_absolute_error: 0.0296\n",
      "Epoch 30/100\n",
      "\u001b[1m384/384\u001b[0m \u001b[32m━━━━━━━━━━━━━━━━━━━━\u001b[0m\u001b[37m\u001b[0m \u001b[1m2s\u001b[0m 6ms/step - loss: 0.0019 - mean_absolute_error: 0.0300 - val_loss: 0.0016 - val_mean_absolute_error: 0.0278\n",
      "Epoch 31/100\n",
      "\u001b[1m384/384\u001b[0m \u001b[32m━━━━━━━━━━━━━━━━━━━━\u001b[0m\u001b[37m\u001b[0m \u001b[1m2s\u001b[0m 6ms/step - loss: 0.0019 - mean_absolute_error: 0.0297 - val_loss: 0.0017 - val_mean_absolute_error: 0.0299\n",
      "Epoch 32/100\n",
      "\u001b[1m384/384\u001b[0m \u001b[32m━━━━━━━━━━━━━━━━━━━━\u001b[0m\u001b[37m\u001b[0m \u001b[1m2s\u001b[0m 6ms/step - loss: 0.0019 - mean_absolute_error: 0.0295 - val_loss: 0.0015 - val_mean_absolute_error: 0.0279\n"
     ]
    },
    {
     "data": {
      "text/plain": [
       "({'Full-DNN': (0.002, 0.0315),\n",
       "  'RNN': (0.0018, 0.0313),\n",
       "  'LSTM': (0.0015, 0.0279)},\n",
       " {'Full-DNN': (0.0015, 0.0282),\n",
       "  'RNN': (0.0016, 0.0305),\n",
       "  'LSTM': (0.0013, 0.0259)})"
      ]
     },
     "execution_count": 40,
     "metadata": {},
     "output_type": "execute_result"
    }
   ],
   "source": [
    "# input_shapeは DataWindow から取得した形 (例: (24, 5))\n",
    "input_shape = w.train.element_spec[0].shape[1:]\n",
    "label_width = w.label_width  # label_width は1など任意の予測ステップ数\n",
    "\n",
    "lstm = Sequential([\n",
    "    LSTM(32, input_shape=input_shape),\n",
    "    Dense(label_width),\n",
    "    Reshape((label_width, 1))\n",
    "])\n",
    "\n",
    "#　モデルの訓練\n",
    "history = compile_and_fit(lstm,w)\n",
    "\n",
    "# 評価スコアを辞書に保存\n",
    "val_loss, val_mae = lstm.evaluate(w.val, verbose=0)\n",
    "test_loss, test_mae = lstm.evaluate(w.test, verbose=0)\n",
    "val_performance[\"LSTM\"] = (round(val_loss,4), round(val_mae,4))\n",
    "test_performance[\"LSTM\"] = (round(test_loss,4),round(test_mae,4))\n",
    "val_performance,test_performance"
   ]
  },
  {
   "cell_type": "markdown",
   "id": "be556285-c1fd-4d84-bb7a-820ad0fe8972",
   "metadata": {},
   "source": [
    "## TransformerとAttention"
   ]
  },
  {
   "cell_type": "markdown",
   "id": "Zj0Hwe1Bxw-b",
   "metadata": {
    "id": "Zj0Hwe1Bxw-b"
   },
   "source": [
    "### Transformer Model"
   ]
  },
  {
   "cell_type": "markdown",
   "id": "084af492-8c4f-4961-8fcb-5f99935f3f00",
   "metadata": {},
   "source": [
    "**Transformer**\n",
    "\n",
    "Transformerとは、ChatGPTなどの大規模言語モデル（LLM）を支える最も重要な技術。\n",
    "\n",
    "再帰や畳み込みを完全に排除し、アテンション機構にのみ基づいている。"
   ]
  },
  {
   "cell_type": "markdown",
   "id": "1c612184-172a-446e-89f1-cc429b6a0814",
   "metadata": {},
   "source": [
    "**Transformerの本質**\n",
    "\n",
    "１．再帰しない　→　すべての情報を一気に見る。（未来の情報には、”マスク”をかぶせる）\n",
    "\n",
    "　　　　　　　　　　順序が重要なデータを順に処理するのではなく、全時点の関係を見る。\n",
    "\n",
    "２．Self-Attention　→　Transformerモデル自身が重み付けをする。\n",
    "\n",
    "３．並列化できるので学習が速く、長期の依存性を見逃さない。"
   ]
  },
  {
   "cell_type": "code",
   "execution_count": 41,
   "id": "dH4ztH8GtHc9",
   "metadata": {
    "colab": {
     "base_uri": "https://localhost:8080/"
    },
    "id": "dH4ztH8GtHc9",
    "outputId": "99042f1d-5743-4a1f-d626-98f34e248140"
   },
   "outputs": [
    {
     "name": "stdout",
     "output_type": "stream",
     "text": [
      "Epoch 1/100\n",
      "\u001b[1m384/384\u001b[0m \u001b[32m━━━━━━━━━━━━━━━━━━━━\u001b[0m\u001b[37m\u001b[0m \u001b[1m4s\u001b[0m 5ms/step - loss: 0.0631 - mean_absolute_error: 0.1929 - val_loss: 0.0077 - val_mean_absolute_error: 0.0620\n",
      "Epoch 2/100\n",
      "\u001b[1m384/384\u001b[0m \u001b[32m━━━━━━━━━━━━━━━━━━━━\u001b[0m\u001b[37m\u001b[0m \u001b[1m1s\u001b[0m 4ms/step - loss: 0.0068 - mean_absolute_error: 0.0588 - val_loss: 0.0037 - val_mean_absolute_error: 0.0451\n",
      "Epoch 3/100\n",
      "\u001b[1m384/384\u001b[0m \u001b[32m━━━━━━━━━━━━━━━━━━━━\u001b[0m\u001b[37m\u001b[0m \u001b[1m1s\u001b[0m 4ms/step - loss: 0.0046 - mean_absolute_error: 0.0483 - val_loss: 0.0030 - val_mean_absolute_error: 0.0402\n",
      "Epoch 4/100\n",
      "\u001b[1m384/384\u001b[0m \u001b[32m━━━━━━━━━━━━━━━━━━━━\u001b[0m\u001b[37m\u001b[0m \u001b[1m1s\u001b[0m 3ms/step - loss: 0.0040 - mean_absolute_error: 0.0446 - val_loss: 0.0035 - val_mean_absolute_error: 0.0448\n",
      "Epoch 5/100\n",
      "\u001b[1m384/384\u001b[0m \u001b[32m━━━━━━━━━━━━━━━━━━━━\u001b[0m\u001b[37m\u001b[0m \u001b[1m1s\u001b[0m 3ms/step - loss: 0.0038 - mean_absolute_error: 0.0434 - val_loss: 0.0026 - val_mean_absolute_error: 0.0380\n",
      "Epoch 6/100\n",
      "\u001b[1m384/384\u001b[0m \u001b[32m━━━━━━━━━━━━━━━━━━━━\u001b[0m\u001b[37m\u001b[0m \u001b[1m1s\u001b[0m 3ms/step - loss: 0.0035 - mean_absolute_error: 0.0409 - val_loss: 0.0026 - val_mean_absolute_error: 0.0371\n",
      "Epoch 7/100\n",
      "\u001b[1m384/384\u001b[0m \u001b[32m━━━━━━━━━━━━━━━━━━━━\u001b[0m\u001b[37m\u001b[0m \u001b[1m1s\u001b[0m 3ms/step - loss: 0.0034 - mean_absolute_error: 0.0408 - val_loss: 0.0023 - val_mean_absolute_error: 0.0343\n",
      "Epoch 8/100\n",
      "\u001b[1m384/384\u001b[0m \u001b[32m━━━━━━━━━━━━━━━━━━━━\u001b[0m\u001b[37m\u001b[0m \u001b[1m1s\u001b[0m 3ms/step - loss: 0.0033 - mean_absolute_error: 0.0394 - val_loss: 0.0024 - val_mean_absolute_error: 0.0373\n",
      "Epoch 9/100\n",
      "\u001b[1m384/384\u001b[0m \u001b[32m━━━━━━━━━━━━━━━━━━━━\u001b[0m\u001b[37m\u001b[0m \u001b[1m1s\u001b[0m 4ms/step - loss: 0.0034 - mean_absolute_error: 0.0410 - val_loss: 0.0028 - val_mean_absolute_error: 0.0387\n",
      "Epoch 10/100\n",
      "\u001b[1m384/384\u001b[0m \u001b[32m━━━━━━━━━━━━━━━━━━━━\u001b[0m\u001b[37m\u001b[0m \u001b[1m1s\u001b[0m 4ms/step - loss: 0.0033 - mean_absolute_error: 0.0401 - val_loss: 0.0025 - val_mean_absolute_error: 0.0368\n",
      "Epoch 11/100\n",
      "\u001b[1m384/384\u001b[0m \u001b[32m━━━━━━━━━━━━━━━━━━━━\u001b[0m\u001b[37m\u001b[0m \u001b[1m1s\u001b[0m 4ms/step - loss: 0.0031 - mean_absolute_error: 0.0387 - val_loss: 0.0021 - val_mean_absolute_error: 0.0329\n",
      "Epoch 12/100\n",
      "\u001b[1m384/384\u001b[0m \u001b[32m━━━━━━━━━━━━━━━━━━━━\u001b[0m\u001b[37m\u001b[0m \u001b[1m1s\u001b[0m 3ms/step - loss: 0.0031 - mean_absolute_error: 0.0380 - val_loss: 0.0022 - val_mean_absolute_error: 0.0333\n",
      "Epoch 13/100\n",
      "\u001b[1m384/384\u001b[0m \u001b[32m━━━━━━━━━━━━━━━━━━━━\u001b[0m\u001b[37m\u001b[0m \u001b[1m1s\u001b[0m 3ms/step - loss: 0.0031 - mean_absolute_error: 0.0390 - val_loss: 0.0022 - val_mean_absolute_error: 0.0345\n",
      "Epoch 14/100\n",
      "\u001b[1m384/384\u001b[0m \u001b[32m━━━━━━━━━━━━━━━━━━━━\u001b[0m\u001b[37m\u001b[0m \u001b[1m1s\u001b[0m 4ms/step - loss: 0.0030 - mean_absolute_error: 0.0381 - val_loss: 0.0020 - val_mean_absolute_error: 0.0324\n",
      "Epoch 15/100\n",
      "\u001b[1m384/384\u001b[0m \u001b[32m━━━━━━━━━━━━━━━━━━━━\u001b[0m\u001b[37m\u001b[0m \u001b[1m1s\u001b[0m 3ms/step - loss: 0.0029 - mean_absolute_error: 0.0374 - val_loss: 0.0020 - val_mean_absolute_error: 0.0323\n",
      "Epoch 16/100\n",
      "\u001b[1m384/384\u001b[0m \u001b[32m━━━━━━━━━━━━━━━━━━━━\u001b[0m\u001b[37m\u001b[0m \u001b[1m1s\u001b[0m 3ms/step - loss: 0.0029 - mean_absolute_error: 0.0371 - val_loss: 0.0020 - val_mean_absolute_error: 0.0324\n",
      "Epoch 17/100\n",
      "\u001b[1m384/384\u001b[0m \u001b[32m━━━━━━━━━━━━━━━━━━━━\u001b[0m\u001b[37m\u001b[0m \u001b[1m1s\u001b[0m 4ms/step - loss: 0.0029 - mean_absolute_error: 0.0377 - val_loss: 0.0022 - val_mean_absolute_error: 0.0344\n",
      "Epoch 18/100\n",
      "\u001b[1m384/384\u001b[0m \u001b[32m━━━━━━━━━━━━━━━━━━━━\u001b[0m\u001b[37m\u001b[0m \u001b[1m1s\u001b[0m 3ms/step - loss: 0.0029 - mean_absolute_error: 0.0369 - val_loss: 0.0021 - val_mean_absolute_error: 0.0342\n",
      "Epoch 19/100\n",
      "\u001b[1m384/384\u001b[0m \u001b[32m━━━━━━━━━━━━━━━━━━━━\u001b[0m\u001b[37m\u001b[0m \u001b[1m1s\u001b[0m 3ms/step - loss: 0.0028 - mean_absolute_error: 0.0369 - val_loss: 0.0024 - val_mean_absolute_error: 0.0375\n",
      "Epoch 20/100\n",
      "\u001b[1m384/384\u001b[0m \u001b[32m━━━━━━━━━━━━━━━━━━━━\u001b[0m\u001b[37m\u001b[0m \u001b[1m1s\u001b[0m 3ms/step - loss: 0.0027 - mean_absolute_error: 0.0366 - val_loss: 0.0024 - val_mean_absolute_error: 0.0368\n",
      "Epoch 21/100\n",
      "\u001b[1m384/384\u001b[0m \u001b[32m━━━━━━━━━━━━━━━━━━━━\u001b[0m\u001b[37m\u001b[0m \u001b[1m1s\u001b[0m 4ms/step - loss: 0.0027 - mean_absolute_error: 0.0358 - val_loss: 0.0017 - val_mean_absolute_error: 0.0297\n",
      "Epoch 22/100\n",
      "\u001b[1m384/384\u001b[0m \u001b[32m━━━━━━━━━━━━━━━━━━━━\u001b[0m\u001b[37m\u001b[0m \u001b[1m1s\u001b[0m 4ms/step - loss: 0.0026 - mean_absolute_error: 0.0349 - val_loss: 0.0022 - val_mean_absolute_error: 0.0355\n",
      "Epoch 23/100\n",
      "\u001b[1m384/384\u001b[0m \u001b[32m━━━━━━━━━━━━━━━━━━━━\u001b[0m\u001b[37m\u001b[0m \u001b[1m1s\u001b[0m 3ms/step - loss: 0.0026 - mean_absolute_error: 0.0355 - val_loss: 0.0027 - val_mean_absolute_error: 0.0406\n",
      "Epoch 24/100\n",
      "\u001b[1m384/384\u001b[0m \u001b[32m━━━━━━━━━━━━━━━━━━━━\u001b[0m\u001b[37m\u001b[0m \u001b[1m1s\u001b[0m 4ms/step - loss: 0.0027 - mean_absolute_error: 0.0357 - val_loss: 0.0022 - val_mean_absolute_error: 0.0342\n",
      "Epoch 25/100\n",
      "\u001b[1m384/384\u001b[0m \u001b[32m━━━━━━━━━━━━━━━━━━━━\u001b[0m\u001b[37m\u001b[0m \u001b[1m1s\u001b[0m 3ms/step - loss: 0.0026 - mean_absolute_error: 0.0353 - val_loss: 0.0017 - val_mean_absolute_error: 0.0296\n",
      "Epoch 26/100\n",
      "\u001b[1m384/384\u001b[0m \u001b[32m━━━━━━━━━━━━━━━━━━━━\u001b[0m\u001b[37m\u001b[0m \u001b[1m1s\u001b[0m 3ms/step - loss: 0.0026 - mean_absolute_error: 0.0348 - val_loss: 0.0018 - val_mean_absolute_error: 0.0308\n",
      "Epoch 27/100\n",
      "\u001b[1m384/384\u001b[0m \u001b[32m━━━━━━━━━━━━━━━━━━━━\u001b[0m\u001b[37m\u001b[0m \u001b[1m1s\u001b[0m 3ms/step - loss: 0.0026 - mean_absolute_error: 0.0354 - val_loss: 0.0020 - val_mean_absolute_error: 0.0336\n",
      "Epoch 28/100\n",
      "\u001b[1m384/384\u001b[0m \u001b[32m━━━━━━━━━━━━━━━━━━━━\u001b[0m\u001b[37m\u001b[0m \u001b[1m1s\u001b[0m 4ms/step - loss: 0.0026 - mean_absolute_error: 0.0353 - val_loss: 0.0024 - val_mean_absolute_error: 0.0377\n",
      "Epoch 29/100\n",
      "\u001b[1m384/384\u001b[0m \u001b[32m━━━━━━━━━━━━━━━━━━━━\u001b[0m\u001b[37m\u001b[0m \u001b[1m1s\u001b[0m 3ms/step - loss: 0.0026 - mean_absolute_error: 0.0351 - val_loss: 0.0019 - val_mean_absolute_error: 0.0315\n",
      "Epoch 30/100\n",
      "\u001b[1m384/384\u001b[0m \u001b[32m━━━━━━━━━━━━━━━━━━━━\u001b[0m\u001b[37m\u001b[0m \u001b[1m1s\u001b[0m 3ms/step - loss: 0.0025 - mean_absolute_error: 0.0348 - val_loss: 0.0017 - val_mean_absolute_error: 0.0289\n",
      "Epoch 31/100\n",
      "\u001b[1m384/384\u001b[0m \u001b[32m━━━━━━━━━━━━━━━━━━━━\u001b[0m\u001b[37m\u001b[0m \u001b[1m1s\u001b[0m 3ms/step - loss: 0.0025 - mean_absolute_error: 0.0345 - val_loss: 0.0019 - val_mean_absolute_error: 0.0314\n",
      "Epoch 32/100\n",
      "\u001b[1m384/384\u001b[0m \u001b[32m━━━━━━━━━━━━━━━━━━━━\u001b[0m\u001b[37m\u001b[0m \u001b[1m1s\u001b[0m 3ms/step - loss: 0.0025 - mean_absolute_error: 0.0348 - val_loss: 0.0018 - val_mean_absolute_error: 0.0307\n",
      "Epoch 33/100\n",
      "\u001b[1m384/384\u001b[0m \u001b[32m━━━━━━━━━━━━━━━━━━━━\u001b[0m\u001b[37m\u001b[0m \u001b[1m1s\u001b[0m 3ms/step - loss: 0.0024 - mean_absolute_error: 0.0337 - val_loss: 0.0023 - val_mean_absolute_error: 0.0369\n",
      "Epoch 34/100\n",
      "\u001b[1m384/384\u001b[0m \u001b[32m━━━━━━━━━━━━━━━━━━━━\u001b[0m\u001b[37m\u001b[0m \u001b[1m1s\u001b[0m 3ms/step - loss: 0.0025 - mean_absolute_error: 0.0346 - val_loss: 0.0018 - val_mean_absolute_error: 0.0302\n",
      "Epoch 35/100\n",
      "\u001b[1m384/384\u001b[0m \u001b[32m━━━━━━━━━━━━━━━━━━━━\u001b[0m\u001b[37m\u001b[0m \u001b[1m1s\u001b[0m 3ms/step - loss: 0.0025 - mean_absolute_error: 0.0344 - val_loss: 0.0017 - val_mean_absolute_error: 0.0297\n"
     ]
    },
    {
     "data": {
      "text/plain": [
       "({'Full-DNN': (0.002, 0.0315),\n",
       "  'RNN': (0.0018, 0.0313),\n",
       "  'LSTM': (0.0015, 0.0279),\n",
       "  'Simple Transformer': (0.0017, 0.0297)},\n",
       " {'Full-DNN': (0.0015, 0.0282),\n",
       "  'RNN': (0.0016, 0.0305),\n",
       "  'LSTM': (0.0013, 0.0259),\n",
       "  'Simple Transformer': (0.0014, 0.0277)})"
      ]
     },
     "execution_count": 41,
     "metadata": {},
     "output_type": "execute_result"
    }
   ],
   "source": [
    "# input_shapeは DataWindow から取得した形 (例: (24, 5))\n",
    "input_shape = w.train.element_spec[0].shape[1:]\n",
    "label_width = w.label_width  # label_width は1など任意の予測ステップ数\n",
    "\n",
    "from tensorflow.keras import layers\n",
    "from tensorflow.keras.layers import MultiHeadAttention\n",
    "\n",
    "def build_simple_transformer(input_shape, label_width):\n",
    "    inputs = tf.keras.Input(shape=input_shape)  # (input_width, features)\n",
    "\n",
    "    # Denseで埋め込み (simple embedding)\n",
    "    x = layers.Dense(32)(inputs)\n",
    "\n",
    "    # Self-Attention (各時刻間で相互作用）\n",
    "    x = MultiHeadAttention(num_heads=2, key_dim=16,name=\"self_attention\")(x, x)\n",
    "\n",
    "    # FlattenしてDenseへ（direct multi-step予測）\n",
    "    x = layers.Flatten()(x)\n",
    "    x = layers.Dense(label_width)(x)\n",
    "    outputs = layers.Reshape((label_width, 1))(x)\n",
    "\n",
    "    return tf.keras.Model(inputs, outputs)\n",
    "\n",
    "# Transformer モデル構築\n",
    "transformer_model = build_simple_transformer(input_shape=input_shape, label_width=label_width)\n",
    "\n",
    "#　モデルの訓練\n",
    "history = compile_and_fit(transformer_model,w)\n",
    "\n",
    "# 評価スコアを辞書に保存\n",
    "val_loss, val_mae = transformer_model.evaluate(w.val, verbose=0)\n",
    "test_loss, test_mae = transformer_model.evaluate(w.test, verbose=0)\n",
    "val_performance[\"Simple Transformer\"] = (round(val_loss,4), round(val_mae,4))\n",
    "test_performance[\"Simple Transformer\"] = (round(test_loss,4),round(test_mae,4))\n",
    "val_performance,test_performance"
   ]
  },
  {
   "cell_type": "code",
   "execution_count": 42,
   "id": "5BjTpj_NinTQ",
   "metadata": {
    "colab": {
     "base_uri": "https://localhost:8080/",
     "height": 487
    },
    "id": "5BjTpj_NinTQ",
    "outputId": "11359b1d-1a79-4cd1-f816-d9dbd26db9f2"
   },
   "outputs": [
    {
     "data": {
      "image/png": "[encoded data removed]",
      "text/plain": [
       "<Figure size 640x480 with 1 Axes>"
      ]
     },
     "metadata": {},
     "output_type": "display_data"
    }
   ],
   "source": [
    "# MAE（1番目の指標）を抽出\n",
    "labels = list(val_performance.keys())\n",
    "val_mae = [val_performance[k][1] for k in labels]\n",
    "test_mae = [test_performance[k][1] for k in labels]\n",
    "\n",
    "# 棒グラフの描画\n",
    "x = range(len(labels))\n",
    "width = 0.35\n",
    "\n",
    "fig, ax = plt.subplots()\n",
    "val_bars = ax.bar([i - width/2 for i in x], val_mae, width, label='Validation MAE')\n",
    "test_bars = ax.bar([i + width/2 for i in x], test_mae, width, label='Test MAE')\n",
    "\n",
    "# 数値ラベルの追加\n",
    "for bar in val_bars:\n",
    "    height = bar.get_height()\n",
    "    ax.text(bar.get_x() + bar.get_width()/2, height + 0.0005,\n",
    "            f'{height:.4f}', ha='center', va='bottom', fontsize=10)\n",
    "\n",
    "for bar in test_bars:\n",
    "    height = bar.get_height()\n",
    "    ax.text(bar.get_x() + bar.get_width()/2, height + 0.0005,\n",
    "            f'{height:.4f}', ha='center', va='bottom', fontsize=10)\n",
    "\n",
    "# 追加：Y軸の上限を調整して重なりを防ぐ\n",
    "max_val = max(max(val_mae), max(test_mae))\n",
    "ax.set_ylim(0, max_val + 0.005)\n",
    "\n",
    "# 軸・凡例設定\n",
    "ax.set_ylabel('MAE')\n",
    "ax.set_title('Validation and Test MAE by Single Step Model')\n",
    "ax.set_xticks(x)\n",
    "ax.set_xticklabels(labels, fontsize=12, rotation=30)\n",
    "ax.legend()\n",
    "plt.tight_layout()\n",
    "plt.show()\n"
   ]
  },
  {
   "cell_type": "markdown",
   "id": "0494050b",
   "metadata": {
    "id": "0494050b"
   },
   "source": [
    "### Attention Network"
   ]
  },
  {
   "cell_type": "markdown",
   "id": "194a5c89-ef5f-4bbd-8219-eef7ae581ecc",
   "metadata": {},
   "source": [
    "**Attention**\n",
    "\n",
    "入力の中で”どこに注目すべきか”をモデルが自動で学習する仕組み\n",
    "\n",
    "次の３つのベクトルを使う。\n",
    "\n",
    "　・Query（Q）：「今注目したいもの」を表すベクトル\n",
    "\n",
    "　・Key（K）：「どこに何が書かれているか」を表すベクトル\n",
    "\n",
    "　・Value（V）：実際に取り出す情報そのもの"
   ]
  },
  {
   "cell_type": "markdown",
   "id": "1e22836e-0347-437c-88d4-9f86d0457a6d",
   "metadata": {},
   "source": [
    "**Attentionの仕組み**\n",
    "\n",
    "上のQ,K,Vは、Dense層によって決定されたQ,K,Vそれぞれの重み行列と入力ベクトルによって生成される。\n",
    "\n",
    "　　$Q_t = \\vec{x}_t^T W_Q$\n",
    "\n",
    "　　$K_t = \\vec{x}_t^T W_K$\n",
    "\n",
    "　　$V_t = \\vec{x}_t^T W_V$\n",
    "\n",
    "　　$H = d_v = d_k \\times$ num_heads\n",
    "\n",
    "その後、\n",
    "\n",
    "　　１．クエリとすべてのキーの内積を計算\n",
    "\n",
    "　　２．それぞれの内積を$\\sqrt{d_k}$で割る。（スケーリング） ここで、用いる$\\sqrt{d_k}$はクエリ及びキーの次元\n",
    "\n",
    "　　３．結果に関数を適用し、バリューに対する重みを得る。\n",
    "\n",
    "　　　$\\mathrm{Attention}(Q, K, V) = \\mathrm{softmax}\\left( \\frac{Q K^\\top}{\\sqrt{d_k}} \\right) V$"
   ]
  },
  {
   "cell_type": "markdown",
   "id": "c352e959-64c0-4836-afd0-8234ba350108",
   "metadata": {},
   "source": [
    "**Self-Attention**\n",
    "\n",
    "各時点のデータが、系列中の他のすべての時点の「重み付けして参照」する仕組み\n",
    "\n",
    "　　→時系列等の長期依存関係を学習できる。\n",
    "\n",
    "Q,K,Vが同一の系列に存在"
   ]
  },
  {
   "cell_type": "code",
   "execution_count": 43,
   "id": "k1M48YhTIhgc",
   "metadata": {
    "id": "k1M48YhTIhgc"
   },
   "outputs": [],
   "source": [
    "def build_simple_transformer_with_attention(input_shape, label_width):\n",
    "    inputs = tf.keras.Input(shape=input_shape)  # (input_width, features)\n",
    "\n",
    "    x = layers.Dense(32)(inputs)\n",
    "\n",
    "    # Self-Attention（スコアは呼び出し時に返す）\n",
    "    attn_layer = layers.MultiHeadAttention(\n",
    "        num_heads=2,\n",
    "        key_dim=16,\n",
    "        name=\"self_attention\"\n",
    "    )\n",
    "    attn_output, attn_scores = attn_layer(x, x, return_attention_scores=True)\n",
    "\n",
    "    x = layers.Flatten()(attn_output)\n",
    "    x = layers.Dense(label_width)(x)\n",
    "    preds = layers.Reshape((label_width, 1))(x)\n",
    "\n",
    "    # attentionスコアと予測値を返す2出力モデル\n",
    "    return tf.keras.Model(inputs=inputs, outputs=[preds, attn_scores])\n"
   ]
  },
  {
   "cell_type": "code",
   "execution_count": 44,
   "id": "EYsmYD2EIU7Y",
   "metadata": {
    "id": "EYsmYD2EIU7Y"
   },
   "outputs": [],
   "source": [
    "def compile_and_fit_for_attention_model(model, window, patience=5, max_epochs=100):\n",
    "    early_stopping = EarlyStopping(monitor='val_loss', patience=patience, mode='min')\n",
    "\n",
    "    model.compile(\n",
    "        loss=[MeanSquaredEIMG_0370.jpg\n",
    "rror(), None],  # attention出力には損失を与えない\n",
    "        optimizer=Adam(),\n",
    "        metrics=[[MeanAbsoluteError()], []]\n",
    "    )\n",
    "\n",
    "    history = model.fit(\n",
    "        window.train,\n",
    "        validation_data=window.val,\n",
    "        epochs=max_epochs,\n",
    "        callbacks=[early_stopping]\n",
    "    )\n",
    "\n",
    "    return history\n"
   ]
  },
  {
   "cell_type": "code",
   "execution_count": 45,
   "id": "KUb4BCI7IX6H",
   "metadata": {
    "colab": {
     "base_uri": "https://localhost:8080/"
    },
    "id": "KUb4BCI7IX6H",
    "outputId": "c5c8552b-e895-41cb-921f-99540b5d639c"
   },
   "outputs": [
    {
     "name": "stdout",
     "output_type": "stream",
     "text": [
      "Epoch 1/100\n",
      "\u001b[1m384/384\u001b[0m \u001b[32m━━━━━━━━━━━━━━━━━━━━\u001b[0m\u001b[37m\u001b[0m \u001b[1m4s\u001b[0m 4ms/step - loss: 0.0626 - reshape_15_mean_absolute_error: 0.1929 - val_loss: 0.0088 - val_reshape_15_mean_absolute_error: 0.0648\n",
      "Epoch 2/100\n",
      "\u001b[1m384/384\u001b[0m \u001b[32m━━━━━━━━━━━━━━━━━━━━\u001b[0m\u001b[37m\u001b[0m \u001b[1m1s\u001b[0m 3ms/step - loss: 0.0070 - reshape_15_mean_absolute_error: 0.0577 - val_loss: 0.0043 - val_reshape_15_mean_absolute_error: 0.0463\n",
      "Epoch 3/100\n",
      "\u001b[1m384/384\u001b[0m \u001b[32m━━━━━━━━━━━━━━━━━━━━\u001b[0m\u001b[37m\u001b[0m \u001b[1m1s\u001b[0m 3ms/step - loss: 0.0047 - reshape_15_mean_absolute_error: 0.0503 - val_loss: 0.0034 - val_reshape_15_mean_absolute_error: 0.0417\n",
      "Epoch 4/100\n",
      "\u001b[1m384/384\u001b[0m \u001b[32m━━━━━━━━━━━━━━━━━━━━\u001b[0m\u001b[37m\u001b[0m \u001b[1m1s\u001b[0m 3ms/step - loss: 0.0040 - reshape_15_mean_absolute_error: 0.0462 - val_loss: 0.0033 - val_reshape_15_mean_absolute_error: 0.0416\n",
      "Epoch 5/100\n",
      "\u001b[1m384/384\u001b[0m \u001b[32m━━━━━━━━━━━━━━━━━━━━\u001b[0m\u001b[37m\u001b[0m \u001b[1m1s\u001b[0m 3ms/step - loss: 0.0038 - reshape_15_mean_absolute_error: 0.0448 - val_loss: 0.0032 - val_reshape_15_mean_absolute_error: 0.0406\n",
      "Epoch 6/100\n",
      "\u001b[1m384/384\u001b[0m \u001b[32m━━━━━━━━━━━━━━━━━━━━\u001b[0m\u001b[37m\u001b[0m \u001b[1m1s\u001b[0m 3ms/step - loss: 0.0036 - reshape_15_mean_absolute_error: 0.0440 - val_loss: 0.0033 - val_reshape_15_mean_absolute_error: 0.0425\n",
      "Epoch 7/100\n",
      "\u001b[1m384/384\u001b[0m \u001b[32m━━━━━━━━━━━━━━━━━━━━\u001b[0m\u001b[37m\u001b[0m \u001b[1m1s\u001b[0m 3ms/step - loss: 0.0036 - reshape_15_mean_absolute_error: 0.0440 - val_loss: 0.0032 - val_reshape_15_mean_absolute_error: 0.0415\n",
      "Epoch 8/100\n",
      "\u001b[1m384/384\u001b[0m \u001b[32m━━━━━━━━━━━━━━━━━━━━\u001b[0m\u001b[37m\u001b[0m \u001b[1m1s\u001b[0m 3ms/step - loss: 0.0035 - reshape_15_mean_absolute_error: 0.0433 - val_loss: 0.0030 - val_reshape_15_mean_absolute_error: 0.0405\n",
      "Epoch 9/100\n",
      "\u001b[1m384/384\u001b[0m \u001b[32m━━━━━━━━━━━━━━━━━━━━\u001b[0m\u001b[37m\u001b[0m \u001b[1m1s\u001b[0m 3ms/step - loss: 0.0030 - reshape_15_mean_absolute_error: 0.0399 - val_loss: 0.0023 - val_reshape_15_mean_absolute_error: 0.0342\n",
      "Epoch 10/100\n",
      "\u001b[1m384/384\u001b[0m \u001b[32m━━━━━━━━━━━━━━━━━━━━\u001b[0m\u001b[37m\u001b[0m \u001b[1m1s\u001b[0m 3ms/step - loss: 0.0030 - reshape_15_mean_absolute_error: 0.0394 - val_loss: 0.0024 - val_reshape_15_mean_absolute_error: 0.0359\n",
      "Epoch 11/100\n",
      "\u001b[1m384/384\u001b[0m \u001b[32m━━━━━━━━━━━━━━━━━━━━\u001b[0m\u001b[37m\u001b[0m \u001b[1m1s\u001b[0m 3ms/step - loss: 0.0029 - reshape_15_mean_absolute_error: 0.0389 - val_loss: 0.0023 - val_reshape_15_mean_absolute_error: 0.0352\n",
      "Epoch 12/100\n",
      "\u001b[1m384/384\u001b[0m \u001b[32m━━━━━━━━━━━━━━━━━━━━\u001b[0m\u001b[37m\u001b[0m \u001b[1m1s\u001b[0m 3ms/step - loss: 0.0029 - reshape_15_mean_absolute_error: 0.0389 - val_loss: 0.0027 - val_reshape_15_mean_absolute_error: 0.0384\n",
      "Epoch 13/100\n",
      "\u001b[1m384/384\u001b[0m \u001b[32m━━━━━━━━━━━━━━━━━━━━\u001b[0m\u001b[37m\u001b[0m \u001b[1m1s\u001b[0m 3ms/step - loss: 0.0027 - reshape_15_mean_absolute_error: 0.0371 - val_loss: 0.0022 - val_reshape_15_mean_absolute_error: 0.0346\n",
      "Epoch 14/100\n",
      "\u001b[1m384/384\u001b[0m \u001b[32m━━━━━━━━━━━━━━━━━━━━\u001b[0m\u001b[37m\u001b[0m \u001b[1m1s\u001b[0m 3ms/step - loss: 0.0027 - reshape_15_mean_absolute_error: 0.0369 - val_loss: 0.0021 - val_reshape_15_mean_absolute_error: 0.0324\n",
      "Epoch 15/100\n",
      "\u001b[1m384/384\u001b[0m \u001b[32m━━━━━━━━━━━━━━━━━━━━\u001b[0m\u001b[37m\u001b[0m \u001b[1m1s\u001b[0m 3ms/step - loss: 0.0027 - reshape_15_mean_absolute_error: 0.0377 - val_loss: 0.0024 - val_reshape_15_mean_absolute_error: 0.0373\n",
      "Epoch 16/100\n",
      "\u001b[1m384/384\u001b[0m \u001b[32m━━━━━━━━━━━━━━━━━━━━\u001b[0m\u001b[37m\u001b[0m \u001b[1m1s\u001b[0m 4ms/step - loss: 0.0027 - reshape_15_mean_absolute_error: 0.0372 - val_loss: 0.0021 - val_reshape_15_mean_absolute_error: 0.0339\n",
      "Epoch 17/100\n",
      "\u001b[1m384/384\u001b[0m \u001b[32m━━━━━━━━━━━━━━━━━━━━\u001b[0m\u001b[37m\u001b[0m \u001b[1m1s\u001b[0m 4ms/step - loss: 0.0026 - reshape_15_mean_absolute_error: 0.0360 - val_loss: 0.0020 - val_reshape_15_mean_absolute_error: 0.0321\n",
      "Epoch 18/100\n",
      "\u001b[1m384/384\u001b[0m \u001b[32m━━━━━━━━━━━━━━━━━━━━\u001b[0m\u001b[37m\u001b[0m \u001b[1m1s\u001b[0m 4ms/step - loss: 0.0026 - reshape_15_mean_absolute_error: 0.0363 - val_loss: 0.0020 - val_reshape_15_mean_absolute_error: 0.0325\n",
      "Epoch 19/100\n",
      "\u001b[1m384/384\u001b[0m \u001b[32m━━━━━━━━━━━━━━━━━━━━\u001b[0m\u001b[37m\u001b[0m \u001b[1m1s\u001b[0m 3ms/step - loss: 0.0025 - reshape_15_mean_absolute_error: 0.0353 - val_loss: 0.0020 - val_reshape_15_mean_absolute_error: 0.0321\n",
      "Epoch 20/100\n",
      "\u001b[1m384/384\u001b[0m \u001b[32m━━━━━━━━━━━━━━━━━━━━\u001b[0m\u001b[37m\u001b[0m \u001b[1m1s\u001b[0m 3ms/step - loss: 0.0025 - reshape_15_mean_absolute_error: 0.0357 - val_loss: 0.0020 - val_reshape_15_mean_absolute_error: 0.0320\n",
      "Epoch 21/100\n",
      "\u001b[1m384/384\u001b[0m \u001b[32m━━━━━━━━━━━━━━━━━━━━\u001b[0m\u001b[37m\u001b[0m \u001b[1m1s\u001b[0m 3ms/step - loss: 0.0025 - reshape_15_mean_absolute_error: 0.0356 - val_loss: 0.0020 - val_reshape_15_mean_absolute_error: 0.0320\n",
      "Epoch 22/100\n",
      "\u001b[1m384/384\u001b[0m \u001b[32m━━━━━━━━━━━━━━━━━━━━\u001b[0m\u001b[37m\u001b[0m \u001b[1m1s\u001b[0m 3ms/step - loss: 0.0025 - reshape_15_mean_absolute_error: 0.0359 - val_loss: 0.0024 - val_reshape_15_mean_absolute_error: 0.0366\n",
      "Epoch 23/100\n",
      "\u001b[1m384/384\u001b[0m \u001b[32m━━━━━━━━━━━━━━━━━━━━\u001b[0m\u001b[37m\u001b[0m \u001b[1m1s\u001b[0m 3ms/step - loss: 0.0024 - reshape_15_mean_absolute_error: 0.0345 - val_loss: 0.0017 - val_reshape_15_mean_absolute_error: 0.0292\n",
      "Epoch 24/100\n",
      "\u001b[1m384/384\u001b[0m \u001b[32m━━━━━━━━━━━━━━━━━━━━\u001b[0m\u001b[37m\u001b[0m \u001b[1m1s\u001b[0m 3ms/step - loss: 0.0024 - reshape_15_mean_absolute_error: 0.0349 - val_loss: 0.0022 - val_reshape_15_mean_absolute_error: 0.0344\n",
      "Epoch 25/100\n",
      "\u001b[1m384/384\u001b[0m \u001b[32m━━━━━━━━━━━━━━━━━━━━\u001b[0m\u001b[37m\u001b[0m \u001b[1m1s\u001b[0m 3ms/step - loss: 0.0024 - reshape_15_mean_absolute_error: 0.0350 - val_loss: 0.0019 - val_reshape_15_mean_absolute_error: 0.0306\n",
      "Epoch 26/100\n",
      "\u001b[1m384/384\u001b[0m \u001b[32m━━━━━━━━━━━━━━━━━━━━\u001b[0m\u001b[37m\u001b[0m \u001b[1m1s\u001b[0m 3ms/step - loss: 0.0025 - reshape_15_mean_absolute_error: 0.0356 - val_loss: 0.0024 - val_reshape_15_mean_absolute_error: 0.0367\n",
      "Epoch 27/100\n",
      "\u001b[1m384/384\u001b[0m \u001b[32m━━━━━━━━━━━━━━━━━━━━\u001b[0m\u001b[37m\u001b[0m \u001b[1m1s\u001b[0m 3ms/step - loss: 0.0024 - reshape_15_mean_absolute_error: 0.0346 - val_loss: 0.0021 - val_reshape_15_mean_absolute_error: 0.0332\n",
      "Epoch 28/100\n",
      "\u001b[1m384/384\u001b[0m \u001b[32m━━━━━━━━━━━━━━━━━━━━\u001b[0m\u001b[37m\u001b[0m \u001b[1m1s\u001b[0m 3ms/step - loss: 0.0024 - reshape_15_mean_absolute_error: 0.0352 - val_loss: 0.0019 - val_reshape_15_mean_absolute_error: 0.0318\n"
     ]
    }
   ],
   "source": [
    "# 入力形状とラベル幅の取得\n",
    "input_shape = w.train.element_spec[0].shape[1:]\n",
    "label_width = w.label_width\n",
    "\n",
    "# モデル構築と訓練\n",
    "model = build_simple_transformer_with_attention(input_shape, label_width)\n",
    "history = compile_and_fit_for_attention_model(model, w)\n"
   ]
  },
  {
   "cell_type": "code",
   "execution_count": 46,
   "id": "a8NRVqOtI1rN",
   "metadata": {
    "id": "a8NRVqOtI1rN"
   },
   "outputs": [
    {
     "name": "stderr",
     "output_type": "stream",
     "text": [
      "2025-06-18 16:49:27.695590: I tensorflow/core/framework/local_rendezvous.cc:404] Local rendezvous is aborting with status: OUT_OF_RANGE: End of sequence\n"
     ]
    }
   ],
   "source": [
    "for batch in w.test.take(1):\n",
    "    inputs, _ = batch\n",
    "    preds, attn_scores = model(inputs, training=False)\n",
    "    attn_scores = attn_scores.numpy()"
   ]
  },
  {
   "cell_type": "code",
   "execution_count": 47,
   "id": "armWFGBhHZV7",
   "metadata": {
    "colab": {
     "base_uri": "https://localhost:8080/",
     "height": 473
    },
    "id": "armWFGBhHZV7",
    "outputId": "bb73cb02-01ba-47c1-a961-e58b29267c0c"
   },
   "outputs": [
    {
     "data": {
      "image/png": "[encoded data removed]",
      "text/plain": [
       "<Figure size 640x480 with 2 Axes>"
      ]
     },
     "metadata": {},
     "output_type": "display_data"
    }
   ],
   "source": [
    "import matplotlib.pyplot as plt\n",
    "import seaborn as sns\n",
    "\n",
    "sns.heatmap(attn_scores[0, 0], cmap='viridis')\n",
    "plt.title(\"Attention Heatmap (Sample 0, Head 0)\")\n",
    "plt.xlabel(\"Key Time Step\")\n",
    "plt.ylabel(\"Query Time Step\")\n",
    "plt.show()\n"
   ]
  },
  {
   "cell_type": "markdown",
   "id": "9c33a3cd-999d-47f3-9db6-9118511a5ed0",
   "metadata": {},
   "source": [
    "## 時系列予測における代表的な深層学習モデルの特徴"
   ]
  },
  {
   "cell_type": "markdown",
   "id": "6d7c9ea8-1fda-4bfb-b36d-7956ea58ddf1",
   "metadata": {},
   "source": [
    "<img src=\"IMG_6097.jpg\">"
   ]
  }
 ],
 "metadata": {
  "colab": {
   "provenance": []
  },
  "kernelspec": {
   "display_name": "Python 3 (ipykernel)",
   "language": "python",
   "name": "python3"
  },
  "language_info": {
   "codemirror_mode": {
    "name": "ipython",
    "version": 3
   },
   "file_extension": ".py",
   "mimetype": "text/x-python",
   "name": "python",
   "nbconvert_exporter": "python",
   "pygments_lexer": "ipython3",
   "version": "3.11.9"
  }
 },
 "nbformat": 4,
 "nbformat_minor": 5
}
